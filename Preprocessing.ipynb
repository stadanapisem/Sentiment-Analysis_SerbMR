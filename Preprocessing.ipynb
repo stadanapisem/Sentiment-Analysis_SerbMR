{
 "cells": [
  {
   "cell_type": "code",
   "execution_count": null,
   "metadata": {},
   "outputs": [],
   "source": [
    "from __future__ import unicode_literals\n",
    "from polyglot.text import Text\n",
    "import collections\n",
    "import pandas as pd\n",
    "import numpy as np\n",
    "import re\n",
    "import pickle\n",
    "from sklearn.feature_extraction.text import CountVectorizer\n",
    "from sklearn.model_selection import train_test_split, KFold\n",
    "from sklearn.linear_model import LogisticRegression\n",
    "from sklearn.naive_bayes import MultinomialNB\n",
    "from sklearn.metrics import accuracy_score\n",
    "from reldi_tokeniser import tokeniser\n",
    "from reldi_tagger import tagger\n",
    "\n",
    "import os\n",
    "\n",
    "\n",
    "# -*- coding: utf-8 -*-\n",
    "\n",
    "from IPython.core.display import display, HTML\n",
    "display(HTML(\"<style>.container { width: 95% !important; }</style>\"))"
   ]
  },
  {
   "cell_type": "code",
   "execution_count": null,
   "metadata": {},
   "outputs": [],
   "source": [
    "data = pd.read_csv('SerbMR-2C.csv', encoding='utf8')"
   ]
  },
  {
   "cell_type": "code",
   "execution_count": null,
   "metadata": {},
   "outputs": [],
   "source": [
    "def removePunctuation(asd):\n",
    "    reg = re.compile(r'[^\\w\\s|.]')\n",
    "    new = []\n",
    "    for x in asd:\n",
    "        if not reg.search(x):\n",
    "            new.append(x.lower())\n",
    "    return new\n",
    "\n",
    "tokens_out = []\n",
    "for row in data.iterrows():\n",
    "    text, polarity = row[1]['Text'], row[1]['class-att']\n",
    "    asd = tokeniser.tok(text, 'sr')\n",
    "    asd = removePunctuation(asd.split('\\n')[:-1])\n",
    "\n",
    "    if polarity == 'POSITIVE':\n",
    "        polarity = 1\n",
    "    elif polarity == 'NEGATIVE':\n",
    "        polarity = -1\n",
    "    else: polarity = 0\n",
    "    tokens_out.append((asd, polarity))\n",
    "\n",
    "pickle.dump(tokens_out, open('tokenised_SerbMR-2C_with_periods.pickle', 'wb'), 2)"
   ]
  },
  {
   "cell_type": "code",
   "execution_count": null,
   "metadata": {},
   "outputs": [],
   "source": [
    "mp = {}\n",
    "for i, row in data.iterrows():\n",
    "    text = Text(row['Text'], hint_language_code='sr')\n",
    "    pol = []\n",
    "    for w in text.words:\n",
    "        pol.append(w.polarity)\n",
    "        mp[w] = w.polarity\n",
    "    print(i, np.mean(pol), row['class-att'])"
   ]
  },
  {
   "cell_type": "code",
   "execution_count": null,
   "metadata": {},
   "outputs": [],
   "source": [
    "from tqdm import tqdm\n",
    "with open('tokenised_SerbMR-3C.pickle') as f:\n",
    "    d = pickle.load(f)\n",
    "\n",
    "lem_output = []\n",
    "for entry in tqdm(d):\n",
    "    asd = tagger.lemantise(entry[0], 'sr')\n",
    "    lem_output.append((asd, entry[1]))\n",
    "\n",
    "pickle.dump(lem_output, open('lemmantised_SerbMR-3C.p', 'wb'), 2)"
   ]
  },
  {
   "cell_type": "code",
   "execution_count": null,
   "metadata": {},
   "outputs": [],
   "source": [
    "with open('hr.sent.pkl') as f:\n",
    "    d = pickle.load(f)\n",
    "\n",
    "with open('sh.lexicon', 'a') as f:\n",
    "    tmp = []\n",
    "    for ent in zip(d[0], d[1]):\n",
    "        f.write(u\"{} {}\".format(ent[0], ent[1][0]).encode('utf-8').strip() + os.linesep)\n",
    "    \n",
    "# pickle.dump(tmp, open('sh.lexicon', 'w'), 0)"
   ]
  },
  {
   "cell_type": "code",
   "execution_count": null,
   "metadata": {},
   "outputs": [],
   "source": [
    "words = {}\n",
    "with open('sr.lexicon') as f:\n",
    "    for line in f.readlines():\n",
    "        l = line.decode('utf-8').split(' ')\n",
    "        words[tagger.lemantise([l[0].strip()], 'sr')[0]] = l[1].strip()\n",
    "        \n",
    "with open('sr.final.lexicon', 'w') as f:\n",
    "    for k, v in words.items():\n",
    "        f.write(u\"{} {}\".format(k, v).encode('utf-8').strip() + os.linesep)"
   ]
  }
 ],
 "metadata": {
  "kernelspec": {
   "display_name": "Python 2",
   "language": "python",
   "name": "python2"
  },
  "language_info": {
   "codemirror_mode": {
    "name": "ipython",
    "version": 2
   },
   "file_extension": ".py",
   "mimetype": "text/x-python",
   "name": "python",
   "nbconvert_exporter": "python",
   "pygments_lexer": "ipython2",
   "version": "2.7.16"
  }
 },
 "nbformat": 4,
 "nbformat_minor": 2
}

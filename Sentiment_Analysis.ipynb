{
  "nbformat": 4,
  "nbformat_minor": 0,
  "metadata": {
    "colab": {
      "name": "Sentiment Analysis.ipynb",
      "version": "0.3.2",
      "provenance": [],
      "collapsed_sections": [
        "yzNqvCUWwK82",
        "Lx3-o9SGw1Dl",
        "xnH-SuCD9UFU",
        "4jTQxqPuyo1t",
        "rOtFEK5Ao1co"
      ],
      "toc_visible": true,
      "include_colab_link": true
    },
    "kernelspec": {
      "name": "python2",
      "display_name": "Python 2"
    },
    "accelerator": "GPU"
  },
  "cells": [
    {
      "cell_type": "markdown",
      "metadata": {
        "id": "view-in-github",
        "colab_type": "text"
      },
      "source": [
        "<a href=\"https://colab.research.google.com/github/stadanapisem/Sentiment-Analysis_SerbMR/blob/master/Sentiment_Analysis.ipynb\" target=\"_parent\"><img src=\"https://colab.research.google.com/assets/colab-badge.svg\" alt=\"Open In Colab\"/></a>"
      ]
    },
    {
      "cell_type": "code",
      "metadata": {
        "id": "FsxMscD_meDB",
        "colab_type": "code",
        "colab": {
          "base_uri": "https://localhost:8080/",
          "height": 34
        },
        "outputId": "2a00035e-7d48-4287-c5b0-759948b0c9ff"
      },
      "source": [
        "import cPickle as pickle\n",
        "import numpy as np\n",
        "from sklearn import metrics\n",
        "from sklearn import naive_bayes\n",
        "from sklearn.model_selection import train_test_split\n",
        "from sklearn.feature_extraction.text import CountVectorizer\n",
        "from scipy.sparse import coo_matrix, hstack\n",
        "import matplotlib.pyplot as plt\n",
        "import seaborn as sns\n",
        "import pandas as pd\n",
        "\n",
        "import gensim\n",
        "\n",
        "from keras.callbacks import EarlyStopping, ModelCheckpoint\n",
        "from keras.models import Sequential, load_model\n",
        "from keras.layers.embeddings import Embedding\n",
        "from keras.layers import Dense, Embedding, CuDNNGRU, LSTM, CuDNNLSTM, Flatten, Bidirectional, Dropout, Conv1D, MaxPool1D\n",
        "from keras.initializers import Constant\n",
        "from keras.optimizers import Adam, Adamax, SGD, RMSprop\n",
        "from keras.utils import to_categorical\n",
        "from tensorflow.python.keras.preprocessing.text import Tokenizer\n",
        "from tensorflow.python.keras.preprocessing.sequence import pad_sequences\n",
        "\n",
        "import tensorflow as tf\n",
        "\n",
        "import warnings\n",
        "\n",
        "%matplotlib inline\n",
        "plt.style.use('ggplot')\n",
        "warnings.filterwarnings('ignore')"
      ],
      "execution_count": 1,
      "outputs": [
        {
          "output_type": "stream",
          "text": [
            "Using TensorFlow backend.\n"
          ],
          "name": "stderr"
        }
      ]
    },
    {
      "cell_type": "markdown",
      "metadata": {
        "id": "TvzuyLx9Ut31",
        "colab_type": "text"
      },
      "source": [
        "# Data Loading\n",
        "\n",
        "* Loading the preprocessed input data. Preprocessing was done before due to the difficulties of running the neccessary tools on this platform. It consisted of a tokeniser and a lemmantiser.\n",
        "* Loading the sentiment lexicon\n"
      ]
    },
    {
      "cell_type": "code",
      "metadata": {
        "id": "t6jNf3D1V5AN",
        "colab_type": "code",
        "outputId": "3841eb9a-647f-46ee-bcef-8116d098e713",
        "colab": {
          "base_uri": "https://localhost:8080/",
          "height": 119
        }
      },
      "source": [
        "!git clone https://github.com/stadanapisem/Sentiment-Analysis_SerbMR.git"
      ],
      "execution_count": 0,
      "outputs": [
        {
          "output_type": "stream",
          "text": [
            "Cloning into 'Sentiment-Analysis_SerbMR'...\n",
            "remote: Enumerating objects: 21, done.\u001b[K\n",
            "remote: Counting objects: 100% (21/21), done.\u001b[K\n",
            "remote: Compressing objects: 100% (19/19), done.\u001b[K\n",
            "remote: Total 21 (delta 6), reused 9 (delta 2), pack-reused 0\u001b[K\n",
            "Unpacking objects: 100% (21/21), done.\n"
          ],
          "name": "stdout"
        }
      ]
    },
    {
      "cell_type": "code",
      "metadata": {
        "id": "Qap1tZNcnYA4",
        "colab_type": "code",
        "colab": {}
      },
      "source": [
        "with open('Sentiment-Analysis_SerbMR/lemmantised_SerbMR-2C.p') as f:\n",
        "  data2C = pickle.load(f)\n",
        "  "
      ],
      "execution_count": 0,
      "outputs": []
    },
    {
      "cell_type": "code",
      "metadata": {
        "id": "95szIQLxVRD2",
        "colab_type": "code",
        "colab": {}
      },
      "source": [
        "with open('Sentiment-Analysis_SerbMR/lemmantised_SerbMR-3C.p') as f:\n",
        "  data3C = pickle.load(f)"
      ],
      "execution_count": 0,
      "outputs": []
    },
    {
      "cell_type": "code",
      "metadata": {
        "id": "-WYkYbzpoLte",
        "colab_type": "code",
        "colab": {}
      },
      "source": [
        "with open('Sentiment-Analysis_SerbMR/sr.lexicon') as f:\n",
        "  lex = f.readlines()\n",
        "\n",
        "lexicon = {}\n",
        "for x in lex:\n",
        "  x = x.split()\n",
        "  lexicon[x[0].decode('utf8')] = int(x[1].strip())\n"
      ],
      "execution_count": 0,
      "outputs": []
    },
    {
      "cell_type": "markdown",
      "metadata": {
        "id": "XGl_B6Zt2R8V",
        "colab_type": "text"
      },
      "source": [
        "#### Utilities"
      ]
    },
    {
      "cell_type": "code",
      "metadata": {
        "id": "46TCO5L1d8Fh",
        "colab_type": "code",
        "colab": {}
      },
      "source": [
        "# from https://gist.github.com/shaypal5/94c53d765083101efc0240d776a23823\n",
        "def print_confusion_matrix(confusion_matrix, class_names, normalize=True, figsize = (5,4), fontsize=14):\n",
        "  \"\"\"Prints a confusion matrix, as returned by sklearn.metrics.confusion_matrix, as a heatmap.\n",
        "\n",
        "  Arguments\n",
        "  ---------\n",
        "  confusion_matrix: numpy.ndarray\n",
        "      The numpy.ndarray object returned from a call to sklearn.metrics.confusion_matrix. \n",
        "      Similarly constructed ndarrays can also be used.\n",
        "  class_names: list\n",
        "      An ordered list of class names, in the order they index the given confusion matrix.\n",
        "  figsize: tuple\n",
        "      A 2-long tuple, the first value determining the horizontal size of the ouputted figure,\n",
        "      the second determining the vertical size. Defaults to (10,7).\n",
        "  fontsize: int\n",
        "      Font size for axes labels. Defaults to 14.\n",
        "\n",
        "  Returns\n",
        "  -------\n",
        "  matplotlib.figure.Figure\n",
        "      The resulting confusion matrix figure\n",
        "  \"\"\"\n",
        "  if normalize:\n",
        "        confusion_matrix = confusion_matrix.astype('float') / confusion_matrix.sum(axis=1)[:, np.newaxis]\n",
        "       \n",
        "  df_cm = pd.DataFrame(\n",
        "      confusion_matrix, index=class_names, columns=class_names, \n",
        "  )\n",
        "  fig = plt.figure(figsize=figsize)\n",
        "  fmt = '.2f' if normalize else 'd'\n",
        "  try:\n",
        "      heatmap = sns.heatmap(df_cm, annot=True, fmt=fmt)\n",
        "  except ValueError:\n",
        "      raise ValueError(\"Confusion matrix values must be integers.\")\n",
        "  heatmap.yaxis.set_ticklabels(heatmap.yaxis.get_ticklabels(), rotation=0, ha='right', fontsize=fontsize)\n",
        "  heatmap.xaxis.set_ticklabels(heatmap.xaxis.get_ticklabels(), rotation=45, ha='right', fontsize=fontsize)\n",
        "  plt.ylabel('True label')\n",
        "  plt.xlabel('Predicted label')\n",
        "  fig.tight_layout()\n",
        "  plt.show()"
      ],
      "execution_count": 0,
      "outputs": []
    },
    {
      "cell_type": "markdown",
      "metadata": {
        "id": "c-y2pH1KwBVy",
        "colab_type": "text"
      },
      "source": [
        "## Train / Validation / Test split\n"
      ]
    },
    {
      "cell_type": "code",
      "metadata": {
        "id": "HOVGdmKrwH52",
        "colab_type": "code",
        "colab": {}
      },
      "source": [
        "def do_double_split(data, split):\n",
        "  examples = []\n",
        "  labels = []\n",
        "  \n",
        "  for row in data:\n",
        "      examples.append(u' '.join(row[0]))\n",
        "      labels.append(row[1])\n",
        "\n",
        "  return train_test_split(examples, labels, train_size=split, shuffle=True, stratify=labels)\n",
        "\n",
        "def do_tri_split(data):\n",
        "  X_train, X_test, y_train, y_test = do_double_split(data, 0.65)\n",
        "  X_validation, X_test, y_validation, y_test = train_test_split(X_test, y_test, train_size=0.5, shuffle=True, stratify=y_test)\n",
        "\n",
        "  return {\n",
        "      'Xtrain' : X_train,\n",
        "      'ytrain' : y_train,\n",
        "      'Xval' : X_validation,\n",
        "      'yval' : y_validation,\n",
        "      'Xtst' : X_test,\n",
        "      'ytst' : y_test\n",
        "  }"
      ],
      "execution_count": 0,
      "outputs": []
    },
    {
      "cell_type": "code",
      "metadata": {
        "id": "SJi7GorIxs88",
        "colab_type": "code",
        "colab": {}
      },
      "source": [
        "data_2_class = do_tri_split(data2C)\n",
        "data_3_class = do_tri_split(data3C)"
      ],
      "execution_count": 0,
      "outputs": []
    },
    {
      "cell_type": "markdown",
      "metadata": {
        "id": "yzNqvCUWwK82",
        "colab_type": "text"
      },
      "source": [
        "# Experiment 001\n",
        "Solution based only on the sentiment lexicon. The model is based on one parameter: limit. The average polarity of each sample is calculated (essentially wheather there are more positive or negative words). The prediction only takes into consideration if the calculated average is grater than the limit or not.\n"
      ]
    },
    {
      "cell_type": "markdown",
      "metadata": {
        "id": "udW3ZHjdXih2",
        "colab_type": "text"
      },
      "source": [
        "#### 2 Class"
      ]
    },
    {
      "cell_type": "code",
      "metadata": {
        "id": "O3XDrEpIqA_X",
        "colab_type": "code",
        "outputId": "a3e799a5-0b44-4bcb-c242-89bd4b130fef",
        "colab": {
          "base_uri": "https://localhost:8080/",
          "height": 416
        }
      },
      "source": [
        "# LIMIT = 0.077\n",
        "\n",
        "def run(data, LIMIT):\n",
        "  results = []\n",
        "  for row in data:\n",
        "    words = row.split(' ')\n",
        "    polarity = []\n",
        "    for w in words:\n",
        "      polarity.append(lexicon.get(w, 0))\n",
        "\n",
        "    if np.mean(polarity) > LIMIT:\n",
        "      results.append(1)\n",
        "    else: results.append(-1)\n",
        "\n",
        "  return results\n",
        "\n",
        "data = do_double_split(data2C, 0.8)\n",
        "# print(len(data[2]), len(data[0]))\n",
        "max_acc = -1\n",
        "res = -1\n",
        "\n",
        "for LIMIT in np.arange(0.05, 0.1, 0.0002):\n",
        "  results = run(data[0], LIMIT)\n",
        "  acc = metrics.accuracy_score(data[2], results)\n",
        "\n",
        "  if acc > max_acc:\n",
        "    max_acc = acc\n",
        "    res = LIMIT\n",
        "\n",
        "print('Training accuracy:', max_acc)\n",
        "print('Model limit:', res)\n",
        "\n",
        "results = run(data[1], res)\n",
        "\n",
        "print ('Evaluation')\n",
        "print('Accuracy', metrics.accuracy_score(data[3], results))\n",
        "# print(metrics.confusion_matrix(data[3], results))\n",
        "print('F1 Score', metrics.f1_score(data[3], results))\n",
        "  \n",
        "print_confusion_matrix(metrics.confusion_matrix(data[3], results), [\"-1\", \"1\"])"
      ],
      "execution_count": 0,
      "outputs": [
        {
          "output_type": "stream",
          "text": [
            "('Training F1:', 0.5724907063197026)\n",
            "('Model limit:', 0.07540000000000073)\n",
            "Evaluation\n",
            "0.5816023738872403\n",
            "[[118  50]\n",
            " [ 91  78]]\n",
            "0.5252525252525252\n"
          ],
          "name": "stdout"
        },
        {
          "output_type": "display_data",
          "data": {
            "image/png": "[encoded data removed]",
            "text/plain": [
              "<Figure size 360x288 with 2 Axes>"
            ]
          },
          "metadata": {
            "tags": []
          }
        }
      ]
    },
    {
      "cell_type": "markdown",
      "metadata": {
        "id": "N5FFMIcuX4NM",
        "colab_type": "text"
      },
      "source": [
        "#### 3 Class"
      ]
    },
    {
      "cell_type": "code",
      "metadata": {
        "id": "D6pcRtBAX6iD",
        "colab_type": "code",
        "outputId": "f3d16eed-9063-4a75-81a3-65b42de8d62f",
        "colab": {
          "base_uri": "https://localhost:8080/",
          "height": 365
        }
      },
      "source": [
        "def run(data, posLIMIT, negLIMIT):\n",
        "  results = []\n",
        "  for row in data:\n",
        "    words = row.split(' ')\n",
        "    polarity = []\n",
        "    for w in words:\n",
        "      polarity.append(lexicon.get(w, 0))\n",
        "\n",
        "    mean_pol = np.mean(polarity)\n",
        "    if mean_pol >= posLIMIT:\n",
        "      results.append(1)\n",
        "    elif mean_pol <= negLIMIT: \n",
        "      results.append(-1)\n",
        "    else:\n",
        "      results.append(0)\n",
        "\n",
        "  return results\n",
        "\n",
        "# posLIMIT = 0.45\n",
        "# negLIMIT = 0.05\n",
        "data = do_double_split(data3C, 0.8)\n",
        "\n",
        "max_acc = 0\n",
        "res_min = -1\n",
        "res_max = -1\n",
        "\n",
        "for posLIMIT in np.arange(0.04, 0.15, 0.0005):\n",
        "  for negLIMIT in np.arange(-0.1, 0.04, 0.005):\n",
        "    results = run(data[0], posLIMIT, negLIMIT)\n",
        "\n",
        "    acc = metrics.accuracy_score(data[2], results)\n",
        "    \n",
        "    if acc > max_acc:\n",
        "      max_acc = acc\n",
        "      res_min = negLIMIT\n",
        "      res_max = posLIMIT\n",
        "    \n",
        "print('Training accuracy:', max_acc)\n",
        "print('Model neg and pos limit:', res_min, res_max)\n",
        "    \n",
        "results = run(data[1], res_max, res_min)\n",
        "    \n",
        "print('Evaluation')\n",
        "print('Accuracy', metrics.accuracy_score(data[3], results))\n",
        "# print(metrics.confusion_matrix(data[3], results))\n",
        "print_confusion_matrix(metrics.confusion_matrix(data[3], results), [\"-1\", \"0\", \"1\"])"
      ],
      "execution_count": 0,
      "outputs": [
        {
          "output_type": "stream",
          "text": [
            "('Training accuracy:', 0.3810703666997027)\n",
            "('Model neg and pos limit:', 0.05800000000000002, 0.07800000000000001)\n",
            "Evaluation\n",
            "('Accuracy', 0.41188118811881186)\n"
          ],
          "name": "stdout"
        },
        {
          "output_type": "display_data",
          "data": {
            "image/png": "[encoded data removed]",
            "text/plain": [
              "<Figure size 360x288 with 2 Axes>"
            ]
          },
          "metadata": {
            "tags": []
          }
        }
      ]
    },
    {
      "cell_type": "markdown",
      "metadata": {
        "id": "Lx3-o9SGw1Dl",
        "colab_type": "text"
      },
      "source": [
        "# Experiment 002\n",
        "\n",
        "Solution based only on the sentiment lexicon, however this time it takes into consideration the ratio of positive / negative and the total number of words in the example."
      ]
    },
    {
      "cell_type": "markdown",
      "metadata": {
        "id": "AVzL9cUKX0dX",
        "colab_type": "text"
      },
      "source": [
        "#### 2 Class"
      ]
    },
    {
      "cell_type": "code",
      "metadata": {
        "id": "daAcd-1txSd_",
        "colab_type": "code",
        "outputId": "32bf72a9-8e1f-490a-8c8d-bbb34fae0c35",
        "colab": {
          "base_uri": "https://localhost:8080/",
          "height": 314
        }
      },
      "source": [
        "results = []\n",
        "for row in data2C:\n",
        "  words = row[0]\n",
        "  polarity = []\n",
        "  for w in words:\n",
        "    polarity.append(lexicon.get(w, 0))\n",
        "  \n",
        "  counts = dict(zip(*np.unique(polarity, return_counts=True)))\n",
        "#   print(counts)\n",
        "  total_words = counts[-1] + counts[0] + counts[1]\n",
        "  ratio_pos = counts[1] / total_words\n",
        "  ratio_neg = counts[-1] / total_words\n",
        "  \n",
        "  if ratio_pos > ratio_neg:\n",
        "    results.append(1)\n",
        "  else: results.append(-1)\n",
        "    \n",
        "print(metrics.accuracy_score([x[1] for x in data2C], results))\n",
        "# print(metrics.confusion_matrix([x[1] for x in data2C], results))\n",
        "print_confusion_matrix(metrics.confusion_matrix([x[1] for x in data2C], results), [\"-1\", \"1\"])"
      ],
      "execution_count": 0,
      "outputs": [
        {
          "output_type": "stream",
          "text": [
            "0.5\n"
          ],
          "name": "stdout"
        },
        {
          "output_type": "display_data",
          "data": {
            "image/png": "[encoded data removed]",
            "text/plain": [
              "<Figure size 360x288 with 2 Axes>"
            ]
          },
          "metadata": {
            "tags": []
          }
        }
      ]
    },
    {
      "cell_type": "markdown",
      "metadata": {
        "id": "-gSB7RMEZEAG",
        "colab_type": "text"
      },
      "source": [
        "#### 3 Class"
      ]
    },
    {
      "cell_type": "code",
      "metadata": {
        "id": "LH8rDdRKZF2Q",
        "colab_type": "code",
        "outputId": "4a7e48f9-7d42-49c4-b4df-adc8f6a2e8f9",
        "colab": {
          "base_uri": "https://localhost:8080/",
          "height": 314
        }
      },
      "source": [
        "results = []\n",
        "for row in data3C:\n",
        "  words = row[0]\n",
        "  polarity = []\n",
        "  for w in words:\n",
        "    polarity.append(lexicon.get(w, 0))\n",
        "  \n",
        "  counts = dict(zip(*np.unique(polarity, return_counts=True)))\n",
        "#   print(counts)\n",
        "  total_words = counts[-1] + counts[0] + counts[1]\n",
        "  ratio_pos = counts[1] / total_words\n",
        "  ratio_neg = counts[-1] / total_words\n",
        "  \n",
        "  if ratio_pos > ratio_neg:\n",
        "    results.append(1)\n",
        "  else: results.append(-1)\n",
        "    \n",
        "print(metrics.accuracy_score([x[1] for x in data3C], results))\n",
        "# print(metrics.confusion_matrix([x[1] for x in data3C], results))\n",
        "print_confusion_matrix(metrics.confusion_matrix([x[1] for x in data3C], results), [\"-1\", \"0\", \"1\"])"
      ],
      "execution_count": 0,
      "outputs": [
        {
          "output_type": "stream",
          "text": [
            "0.3333333333333333\n"
          ],
          "name": "stdout"
        },
        {
          "output_type": "display_data",
          "data": {
            "image/png": "[encoded data removed]",
            "text/plain": [
              "<Figure size 360x288 with 2 Axes>"
            ]
          },
          "metadata": {
            "tags": []
          }
        }
      ]
    },
    {
      "cell_type": "markdown",
      "metadata": {
        "id": "xnH-SuCD9UFU",
        "colab_type": "text"
      },
      "source": [
        "# Feature Extraction\n"
      ]
    },
    {
      "cell_type": "code",
      "metadata": {
        "id": "5xhCMB1S9TBN",
        "colab_type": "code",
        "colab": {}
      },
      "source": [
        "def polarity_counts(data, posLIMIT, negLIMIT, skip = 1):\n",
        "  words = data.split(' ')\n",
        "  polarity = []\n",
        "  for word in map(None, *(iter(words),) * skip):\n",
        "    pol = []\n",
        "\n",
        "    if skip == 1:\n",
        "      word = [word]\n",
        "      \n",
        "    for w in word:\n",
        "      if w:\n",
        "        pol.append(lexicon.get(w, 0))\n",
        "      else:\n",
        "        break\n",
        "    \n",
        "    if np.mean(pol) >= posLIMIT:\n",
        "      polarity.append(1)\n",
        "    elif np.mean(pol) <= negLIMIT:\n",
        "      polarity.append(-1)\n",
        "    else:\n",
        "      polarity.append(0)\n",
        "  \n",
        "  counts = dict(zip(*np.unique(polarity, return_counts=True)))\n",
        "#   print(counts)\n",
        "  return [counts.get(-1, 0), counts.get(0, 0), counts.get(1, 0)]\n",
        "\n",
        "def create_feature_vector(data, posLIMIT, negLIMIT):\n",
        "  features = []\n",
        "  for example in data:\n",
        "    features += [polarity_counts(example, posLIMIT, negLIMIT) + polarity_counts(example, posLIMIT, negLIMIT, skip=2) + polarity_counts(example, posLIMIT, negLIMIT, skip=3)]\n",
        "    \n",
        "  return np.array(features)\n",
        "  "
      ],
      "execution_count": 0,
      "outputs": []
    },
    {
      "cell_type": "code",
      "metadata": {
        "id": "uyVUmUY1Cq9m",
        "colab_type": "code",
        "outputId": "cbb6fab8-0541-4e79-d4e9-28762a82e14e",
        "colab": {
          "base_uri": "https://localhost:8080/",
          "height": 68
        }
      },
      "source": [
        "data = data_2_class\n",
        "\n",
        "asd = create_feature_vector(data['Xtst'][:3], 0.004, 0.004)\n",
        "print(asd)\n",
        "# for feat in asd:\n",
        "#   print feat"
      ],
      "execution_count": 0,
      "outputs": [
        {
          "output_type": "stream",
          "text": [
            "[[418   0  65 185   0  57 110   0  51]\n",
            " [280   0  35 125   0  33  73   0  32]\n",
            " [118   0  13  55   0  11  34   0  10]]\n"
          ],
          "name": "stdout"
        }
      ]
    },
    {
      "cell_type": "markdown",
      "metadata": {
        "id": "4jTQxqPuyo1t",
        "colab_type": "text"
      },
      "source": [
        "# Experiment 003\n",
        "Baseline model using multinomial naive Bayes\n",
        "\n",
        "Bag of words"
      ]
    },
    {
      "cell_type": "code",
      "metadata": {
        "id": "TNwtJsU_Jg75",
        "colab_type": "code",
        "outputId": "f0f8abc1-6bab-4f9b-8a82-00db87b6cb5b",
        "colab": {
          "base_uri": "https://localhost:8080/",
          "height": 399
        }
      },
      "source": [
        "data = data_2_class.copy()\n",
        "\n",
        "model = naive_bayes.MultinomialNB()\n",
        "\n",
        "max_acc = 0\n",
        "res = -1\n",
        "\n",
        "for LIMIT in [0, 0.3, 0.5, 0.7]:\n",
        "  X_train = create_feature_vector(data['Xtrain'], LIMIT, LIMIT)\n",
        "  X_val = create_feature_vector(data['Xval'], LIMIT, LIMIT)\n",
        "  \n",
        "  model = model.fit(X=X_train, y=data['ytrain'])\n",
        "  acc = metrics.accuracy_score(data['yval'], model.predict(X_val))\n",
        "  print(acc)\n",
        "  if acc > max_acc:\n",
        "    max_acc = acc\n",
        "    res = LIMIT\n",
        "\n",
        "print('Train accuracy', max_acc)\n",
        "\n",
        "X_train = create_feature_vector(data['Xtrain'], res, res)\n",
        "model = model.fit(X=X_train, y=data['ytrain'])\n",
        "\n",
        "X_tst = create_feature_vector(data['Xtst'], res, res)\n",
        "predictions = model.predict(X_tst)\n",
        "\n",
        "print('Evaluation')\n",
        "print(metrics.accuracy_score(data['ytst'], predictions))\n",
        "print(metrics.confusion_matrix(data['ytst'], predictions))\n",
        "print_confusion_matrix(metrics.confusion_matrix(data['ytst'], predictions), [\"-1\", \"1\"])"
      ],
      "execution_count": 0,
      "outputs": [
        {
          "output_type": "stream",
          "text": [
            "0.5170068027210885\n",
            "('Train accuracy', 0.5170068027210885)\n",
            "Evaluation\n",
            "0.5186440677966102\n",
            "[[86 61]\n",
            " [81 67]]\n"
          ],
          "name": "stdout"
        },
        {
          "output_type": "display_data",
          "data": {
            "image/png": "[encoded data removed]",
            "text/plain": [
              "<Figure size 360x288 with 2 Axes>"
            ]
          },
          "metadata": {
            "tags": []
          }
        }
      ]
    },
    {
      "cell_type": "markdown",
      "metadata": {
        "id": "5ZMJaG7_WSwm",
        "colab_type": "text"
      },
      "source": [
        "#### 3 Class"
      ]
    },
    {
      "cell_type": "code",
      "metadata": {
        "id": "PuTkAuKdWUmG",
        "colab_type": "code",
        "colab": {}
      },
      "source": [
        "data = data_3_class.copy()\n",
        "\n",
        "model = naive_bayes.MultinomialNB()\n",
        "\n",
        "max_acc = 0\n",
        "res = -1\n",
        "\n",
        "for posLIMIT in [0.03, 0.05, 0.0754, 0.097]:\n",
        "  for negLIMIT in [-0.03, 0, 0.03, 0.058, 0.07]:\n",
        "    if negLIMIT > posLIMIT:\n",
        "      negLIMIT, posLIMIT = posLIMIT, negLIMIT\n",
        "\n",
        "    X_train = create_feature_vector(data['Xtrain'], posLIMIT, negLIMIT)\n",
        "    X_val = create_feature_vector(data['Xval'], posLIMIT, negLIMIT)\n",
        "\n",
        "    model = model.fit(X=X_train, y=data['ytrain'])\n",
        "    acc = metrics.accuracy_score(data['yval'], model.predict(X_val))\n",
        "    if acc > max_acc:\n",
        "      max_acc = acc\n",
        "      res = (posLIMIT, negLIMIT)\n",
        "\n",
        "print('Train accuracy', max_acc)\n",
        "\n",
        "if res[1] > res[0]:\n",
        "  res = (res[0], res[1])\n",
        "\n",
        "X_train = create_feature_vector(data['Xtrain'], res[0], res[1])\n",
        "model = model.fit(X=X_train, y=data['ytrain'])\n",
        "\n",
        "X_tst = create_feature_vector(data['Xtst'], res[0], res[1])\n",
        "predictions = model.predict(X_tst)\n",
        "\n",
        "print('Evaluation')\n",
        "print(metrics.accuracy_score(data['ytst'], predictions))\n",
        "print(metrics.confusion_matrix(data['ytst'], predictions))\n",
        "print_confusion_matrix(metrics.confusion_matrix(data['ytst'], predictions), [\"-1\", \"0\", \"1\"])"
      ],
      "execution_count": 0,
      "outputs": []
    },
    {
      "cell_type": "markdown",
      "metadata": {
        "id": "U1h-qIR39Ygt",
        "colab_type": "text"
      },
      "source": [
        "#### 2 Class"
      ]
    },
    {
      "cell_type": "code",
      "metadata": {
        "id": "AHHKESGiyoYW",
        "colab_type": "code",
        "outputId": "af9c0207-e6e3-4ed7-e310-3d9cbd0b4161",
        "colab": {
          "base_uri": "https://localhost:8080/",
          "height": 51
        }
      },
      "source": [
        "data = list(data2C)\n",
        "# print(data2C[1][0])\n",
        "vectoriser = CountVectorizer()\n",
        "examples = vectoriser.fit_transform([u\" \".join(x[0]) for x in data])\n",
        "examples = hstack([examples, coo_matrix(create_feature_vector([\" \".join(x[0]) for x in data], 0, 0))])\n",
        "\n",
        "labels = [x[1] for x in data]\n",
        "  \n",
        "X_train, X_test, ytrain, ytest = train_test_split(examples, labels, train_size=0.8, shuffle=True, stratify=labels)\n",
        "model = naive_bayes.MultinomialNB()\n",
        "\n",
        "\n",
        "model = model.fit(X=X_train, y=ytrain)\n",
        "y_pred = model.predict(X_test)\n",
        "\n",
        "print(metrics.accuracy_score(ytrain, model.predict(X_train)))\n",
        "print(metrics.accuracy_score(ytest, y_pred))"
      ],
      "execution_count": 0,
      "outputs": [
        {
          "output_type": "stream",
          "text": [
            "0.9977695167286246\n",
            "0.7744807121661721\n"
          ],
          "name": "stdout"
        }
      ]
    },
    {
      "cell_type": "markdown",
      "metadata": {
        "id": "TYBky-Ndi4gf",
        "colab_type": "text"
      },
      "source": [
        "#### 3 Class"
      ]
    },
    {
      "cell_type": "code",
      "metadata": {
        "id": "T8_bFxMDi4Av",
        "colab_type": "code",
        "outputId": "4bea1a2d-8b19-44a3-ccf7-4966ca160328",
        "colab": {
          "base_uri": "https://localhost:8080/",
          "height": 51
        }
      },
      "source": [
        "data = list(data3C)\n",
        "# print(data2C[1][0])\n",
        "vectoriser = CountVectorizer()\n",
        "examples = vectoriser.fit_transform([u\" \".join(x[0]) for x in data])\n",
        "examples = hstack([examples, coo_matrix(create_feature_vector([\" \".join(x[0]) for x in data], 0.01, 0.05))])\n",
        "\n",
        "labels = [x[1] for x in data]\n",
        "  \n",
        "X_train, X_test, ytrain, ytest = train_test_split(examples, labels, train_size=0.65, shuffle=True, stratify=labels)\n",
        "model = naive_bayes.MultinomialNB()\n",
        "\n",
        "\n",
        "model = model.fit(X=X_train, y=ytrain)\n",
        "y_pred = model.predict(X_test)\n",
        "\n",
        "print(metrics.accuracy_score(ytrain, model.predict(X_train)))\n",
        "print(metrics.accuracy_score(ytest, y_pred))"
      ],
      "execution_count": 0,
      "outputs": [
        {
          "output_type": "stream",
          "text": [
            "0.9975594874923734\n",
            "0.5633484162895928\n"
          ],
          "name": "stdout"
        }
      ]
    },
    {
      "cell_type": "markdown",
      "metadata": {
        "id": "kehjEtPtjDn4",
        "colab_type": "text"
      },
      "source": [
        "# Experiment 005"
      ]
    },
    {
      "cell_type": "markdown",
      "metadata": {
        "id": "VTyVlodtqvki",
        "colab_type": "text"
      },
      "source": [
        "#### Common"
      ]
    },
    {
      "cell_type": "code",
      "metadata": {
        "id": "iHBLrA8ZUxdj",
        "colab_type": "code",
        "colab": {}
      },
      "source": [
        "def get_model(classes, data_all, data_with_separation, EMBEDDING_DIM, window, min_count):\n",
        "  data = list(data_all)\n",
        "\n",
        "  examples = [x[0] for x in data]\n",
        "\n",
        "  word2vec = gensim.models.Word2Vec(sentences=examples, size=EMBEDDING_DIM, window=window, min_count=min_count, workers=2, iter=5)\n",
        "  words = list(word2vec.wv.vocab)\n",
        "  print('Vocabulary size:', len(words))\n",
        "  # print(model.wv.most_similar('dobar'))\n",
        "\n",
        "  word2vec.wv.save_word2vec_format('word2vec_' + str(classes) + '_class.txt')\n",
        "  \n",
        "  wordvectors = {}\n",
        "  with open('word2vec_' + str(classes) + '_class.txt') as f:\n",
        "    vocab_size = int(f.readline().split()[0])\n",
        "\n",
        "    for line in f:\n",
        "      vals = line.split()\n",
        "      wordvectors[vals[0]] = np.asarray(vals[1:], dtype=np.float)\n",
        "\n",
        "  data = data_with_separation.copy()\n",
        "  tokenizer = Tokenizer()\n",
        "\n",
        "  all_examples = data['Xtrain'] + data['Xtst'] + data['Xval']\n",
        "  all_labels = list(map(lambda x: 0 if x == -1 else 1, data['ytrain'] + data['ytst'] + data['yval']))\n",
        "  tokenizer.fit_on_texts(all_examples)\n",
        "  seq = tokenizer.texts_to_sequences(all_examples)\n",
        "\n",
        "  longest_example = max([len(x.split()) for x in all_examples])\n",
        "  vocab_size = len(tokenizer.word_index) + 1\n",
        "\n",
        "  seq_padded = pad_sequences(seq, maxlen=longest_example)\n",
        "\n",
        "  print('Longest review', longest_example)\n",
        "  print('Unique tokens', len(tokenizer.word_index))\n",
        "  print('padded', seq_padded.shape)\n",
        "\n",
        "  X_train = pad_sequences(tokenizer.texts_to_sequences(data['Xtrain']), maxlen=longest_example)\n",
        "  X_tst = pad_sequences(tokenizer.texts_to_sequences(data['Xtst']), maxlen=longest_example)\n",
        "  X_val = pad_sequences(tokenizer.texts_to_sequences(data['Xval']), maxlen=longest_example)\n",
        "\n",
        "  if classes == 3:\n",
        "    ytrain = to_categorical(data['ytrain'], num_classes=classes)\n",
        "    ytst = to_categorical(data['ytst'], num_classes=classes)\n",
        "    yval = to_categorical(data['yval'], num_classes=classes)\n",
        "  else:\n",
        "    ytrain = to_categorical(list(map(lambda x: 0 if x == -1 else 1, data['ytrain'])))\n",
        "    ytst = to_categorical(list(map(lambda x: 0 if x == -1 else 1, data['ytst'])))\n",
        "    yval = to_categorical(list(map(lambda x: 0 if x == -1 else 1, data['yval'])))\n",
        "    \n",
        "  embedding_matrix = np.zeros((vocab_size, EMBEDDING_DIM + 1))\n",
        "\n",
        "  for word, i in tokenizer.word_index.items():\n",
        "    if i > vocab_size:\n",
        "      continue\n",
        "    embd = wordvectors.get(word)\n",
        "    if embd is not None:\n",
        "      embedding_matrix[i] = np.append(embd, lexicon.get(word, 0))\n",
        "\n",
        "  print ('Embedding size', np.shape(embedding_matrix))\n",
        "  \n",
        "  model = Sequential()\n",
        "  embedding_layer = Embedding(vocab_size, EMBEDDING_DIM + 1, embeddings_initializer=Constant(embedding_matrix), input_length=longest_example, trainable=True)\n",
        "  model.add(embedding_layer)\n",
        "  model.add(Bidirectional(CuDNNLSTM(256)))\n",
        "  model.add(Dropout(0.3))\n",
        "  model.add(Dense(classes, activation='softmax'))\n",
        "  adamax = Adamax(lr=0.0001)\n",
        "  model.compile(loss='categorical_crossentropy', optimizer=adamax, metrics=['acc'])\n",
        "  print(model.summary())\n",
        "  return model, [X_train, X_tst, X_val, ytrain, ytst, yval]\n",
        "\n",
        "def plot_acc(train_data):\n",
        "  plt.plot(train_data.history['acc'], label='train')\n",
        "  plt.plot(train_data.history['val_acc'], label='validation')\n",
        "  plt.legend()\n",
        "  plt.show()\n",
        "  \n",
        "def plot_loss(train_data):\n",
        "  plt.plot(train_data.history['loss'], label='train')\n",
        "  plt.plot(train_data.history['val_loss'], label='validation')\n",
        "  plt.legend()\n",
        "  plt.show()"
      ],
      "execution_count": 0,
      "outputs": []
    },
    {
      "cell_type": "markdown",
      "metadata": {
        "id": "ZNDBsT3MCM8s",
        "colab_type": "text"
      },
      "source": [
        "#### 2 Class"
      ]
    },
    {
      "cell_type": "code",
      "metadata": {
        "id": "4IOpiNdljHxD",
        "colab_type": "code",
        "outputId": "6bb8530a-2816-40bd-c314-1b61959c15fd",
        "colab": {
          "base_uri": "https://localhost:8080/",
          "height": 71
        }
      },
      "source": [
        "data = list(data2C)\n",
        "\n",
        "EMBEDDING_DIM = 300\n",
        "\n",
        "examples = [x[0] for x in data]\n",
        "\n",
        "model = gensim.models.Word2Vec(sentences=examples, size=EMBEDDING_DIM, window=3, min_count=10, workers=2, iter=5)\n",
        "words = list(model.wv.vocab)\n",
        "print(len(words))\n",
        "print(model.wv.most_similar('dobar'))\n",
        "\n",
        "model.wv.save_word2vec_format('word2vec_2_class.txt')"
      ],
      "execution_count": 0,
      "outputs": [
        {
          "output_type": "stream",
          "text": [
            "6299\n",
            "[(u'lo\\u0161', 0.9456838369369507), (u'zanimljiv', 0.8770398497581482), (u'zabavan', 0.8606915473937988), (u'sjajan', 0.8598860502243042), (u'kvalitetan', 0.8296142816543579), (u'definitivno', 0.8127925992012024), (u'napisati', 0.8070793747901917), (u'bitan', 0.8052634000778198), (u'pomenuti', 0.8033238649368286), (u'originalan', 0.8026337623596191)]\n"
          ],
          "name": "stdout"
        }
      ]
    },
    {
      "cell_type": "code",
      "metadata": {
        "id": "hgoJ7Agn0Yu_",
        "colab_type": "code",
        "colab": {}
      },
      "source": [
        "wordvectors = {}\n",
        "with open('word2vec_2_class.txt') as f:\n",
        "  vocab_size = int(f.readline().split()[0])\n",
        "  \n",
        "  for line in f:\n",
        "    vals = line.split()\n",
        "    wordvectors[vals[0]] = np.asarray(vals[1:], dtype=np.float)"
      ],
      "execution_count": 0,
      "outputs": []
    },
    {
      "cell_type": "code",
      "metadata": {
        "id": "LIEbMQQnO3DX",
        "colab_type": "code",
        "outputId": "ee11892f-c336-49c7-fc67-7c06959adfee",
        "colab": {
          "base_uri": "https://localhost:8080/",
          "height": 51
        }
      },
      "source": [
        "data = data_2_class.copy()\n",
        "tokenizer = Tokenizer()\n",
        "\n",
        "all_examples = data['Xtrain'] + data['Xtst'] + data['Xval']\n",
        "all_labels = list(map(lambda x: 0 if x == -1 else 1, data['ytrain'] + data['ytst'] + data['yval']))\n",
        "tokenizer.fit_on_texts(all_examples)\n",
        "seq = tokenizer.texts_to_sequences(all_examples)\n",
        "\n",
        "longest_example = max([len(x.split()) for x in all_examples])\n",
        "vocab_size = len(tokenizer.word_index) + 1\n",
        "\n",
        "seq_padded = pad_sequences(seq, maxlen=longest_example)\n",
        "\n",
        "print('Unique tokens', len(tokenizer.word_index))\n",
        "print('padded', seq_padded.shape)\n",
        "# model.fit([x[0] for x in data2C[:5]], [x[1] for x in data2C[:5]], verbose=2)"
      ],
      "execution_count": 0,
      "outputs": [
        {
          "output_type": "stream",
          "text": [
            "('Unique tokens', 47236)\n",
            "('padded', (1682, 1831))\n"
          ],
          "name": "stdout"
        }
      ]
    },
    {
      "cell_type": "code",
      "metadata": {
        "id": "08X1IeHlsd2w",
        "colab_type": "code",
        "outputId": "1fbebed6-b3c0-4d1a-eaa2-e7cf68ec5bcb",
        "colab": {
          "base_uri": "https://localhost:8080/",
          "height": 88
        }
      },
      "source": [
        "print(seq[0], all_labels[0])\n",
        "print(model.wv.most_similar(tokenizer.index_word.items()[1127][1]))\n",
        "print(data['Xtrain'][0])"
      ],
      "execution_count": 0,
      "outputs": [
        {
          "output_type": "stream",
          "text": [
            "([9637, 23185, 13, 22, 354, 390, 8, 117, 120, 2929, 398, 8, 9, 117, 11, 1, 46, 29, 520, 57, 6, 1, 167, 16, 11, 691, 6, 1, 2568, 21, 75, 438, 9, 1, 111, 40, 147, 15, 7, 737, 35, 4284, 13, 9, 1094, 122, 6, 1, 2220, 15, 813, 34, 1, 9638, 13382, 9639, 108, 329, 1, 11, 70, 44, 112, 1, 1, 262, 45, 3, 77, 1, 1, 1140, 120, 373, 190, 23186, 2, 354, 1769, 752, 989, 20, 2, 5430, 8489, 348, 4, 7, 1, 140, 45, 3, 11, 4517, 2, 13, 13383, 100, 174, 49, 1, 89, 307, 40, 177, 19, 1, 27, 411, 208, 7, 467, 120, 78, 269, 60, 269, 66, 403, 12, 5, 251, 1, 3, 30, 707, 2655, 2, 168, 1635, 42, 33, 1, 166, 1280, 23187, 41, 33, 1, 30, 219, 2828, 4518, 9, 286, 2110, 1, 45, 790, 3, 682, 1153, 3, 1, 222, 1635, 28, 13, 78, 5090, 858, 20, 86, 1, 9, 802, 802, 1, 9, 12, 2, 8, 483, 7, 8490, 2, 123, 14, 59, 108, 1, 77, 9, 23188, 1736, 4, 36, 75, 7, 1, 5, 77, 17, 69, 1095, 77, 23, 163, 1005, 42, 6, 11166, 8491, 2, 23, 1400, 8, 6, 1, 23189, 2, 9, 1, 9, 56, 1, 23190, 247, 11, 12, 1, 247, 88, 1281, 1005, 42, 6, 1, 1770, 8, 10, 1094, 109, 14, 1, 7614, 101, 1582, 377, 7, 1, 114, 3, 184, 2, 63, 28, 171, 4, 6, 50, 59, 49, 12, 1, 5431, 35, 814, 2, 2414, 11, 415, 35, 47, 1602, 1736, 377, 13384, 3, 1, 307, 28, 177], 0)\n",
            "[(u'prodati', 0.9898669719696045), (u'slep', 0.9891943335533142), (u'bolest', 0.9890319108963013), (u'eliminisati', 0.9882268905639648), (u'unapred', 0.9879094362258911), (u'plesati', 0.987748384475708), (u'neminovan', 0.9874413013458252), (u'neprestano', 0.9874266386032104), (u'momentalno', 0.9866129159927368), (u'\\u010dast', 0.9863011837005615)]\n",
            "če gevarati sa svoj prijatelj kretati na put oko južan Amerika na taj put on biti po priča video stvar koji biti napraviti od on ličnost koji biti obeležiti jedan deo istorija taj biti zaista dobar ideja za film iskoristiti njegov dnevnik sa taj putovanje glumac koji biti zadužiti za čuven lik biti gael garsija bernal gde god biti on gledati do sada biti biti sjajan tako da tu biti biti dilema oko kvalitet gluma gevar i prijatelj neretko prolaziti prelep ali i tmuran predelo muzika u film biti odličan tako da on zadovoljavati i sa audiovizuelan strana ovakav nešto biti morati ostaviti dobar utisak a biti iz sledeći razlog film trajati oko dva sat prvi sat vreme jedino što sebe dešavati biti da oni dvojica putovati i pokušavati prevariti čovek kako biti dobiti hrana smeštaj ili kako biti oni netko popraviti motor taj pokušaj prevara biti tako jadan da iskreno sumnjati da biti moguć prevariti neki sa dva gram mozg ali dobro biti taj strašan strašan biti taj što i na pola film gledaoc i daleko ne videti gde biti tu taj gevarin poziv u drugi deo film biti sebe tu kao malo potruditi tu imati nekoliko nesrećan čovek koji ugnjetavati moćnik i imati ostrvo na koji biti leprozan i taj biti taj ako biti gevati postati on što biti postati zbog desetak nesrećan čovek koji biti sresti na ovaj putovanje onda ne biti dalje ništa komentarisati jednostavno film biti takav da skoro i nemati neki trenutak u koji vi videti nešto što biti prelomiti njegov karakter i odvesti on k njegov već legendaran poziv jednostavno preslab da biti ostaviti neki utisak\n"
          ],
          "name": "stdout"
        }
      ]
    },
    {
      "cell_type": "code",
      "metadata": {
        "id": "LGDSARAuPkWA",
        "colab_type": "code",
        "colab": {}
      },
      "source": [
        "X_train = pad_sequences(tokenizer.texts_to_sequences(data['Xtrain']), maxlen=longest_example)\n",
        "X_tst = pad_sequences(tokenizer.texts_to_sequences(data['Xtst']), maxlen=longest_example)\n",
        "X_val = pad_sequences(tokenizer.texts_to_sequences(data['Xval']), maxlen=longest_example)\n",
        "\n",
        "ytrain = to_categorical(list(map(lambda x: 0 if x == -1 else 1, data['ytrain'])))\n",
        "ytst = to_categorical(list(map(lambda x: 0 if x == -1 else 1, data['ytst'])))\n",
        "yval = to_categorical(list(map(lambda x: 0 if x == -1 else 1, data['yval'])))"
      ],
      "execution_count": 0,
      "outputs": []
    },
    {
      "cell_type": "code",
      "metadata": {
        "id": "K413nxRt8gpT",
        "colab_type": "code",
        "outputId": "c6202a72-7991-4a1b-cd90-2b4a1eb52b23",
        "colab": {
          "base_uri": "https://localhost:8080/",
          "height": 34
        }
      },
      "source": [
        "embedding_matrix = np.zeros((vocab_size, EMBEDDING_DIM + 1))\n",
        "\n",
        "for word, i in tokenizer.word_index.items():\n",
        "  if i > vocab_size:\n",
        "    continue\n",
        "  embd = wordvectors.get(word)\n",
        "  if embd is not None:\n",
        "#     print(type(embd))\n",
        "    embedding_matrix[i] = np.append(embd, lexicon.get(word, 0))\n",
        "    \n",
        "print (np.shape(embedding_matrix))"
      ],
      "execution_count": 0,
      "outputs": [
        {
          "output_type": "stream",
          "text": [
            "(47237, 301)\n"
          ],
          "name": "stdout"
        }
      ]
    },
    {
      "cell_type": "code",
      "metadata": {
        "id": "lwKIXKECOPlJ",
        "colab_type": "code",
        "outputId": "df1f16d8-1746-48cb-e66d-8756defa7596",
        "colab": {
          "base_uri": "https://localhost:8080/",
          "height": 289
        }
      },
      "source": [
        "model = Sequential()\n",
        "embedding_layer = Embedding(vocab_size, EMBEDDING_DIM + 1, embeddings_initializer=Constant(embedding_matrix), input_length=longest_example, trainable=True)\n",
        "model.add(embedding_layer)\n",
        "# model.add(CuDNNGRU(units=256))\n",
        "# # model.add(Dense(1, activation='elu'))\n",
        "# # model.add(Bidirectional(CuDNNLSTM(256, return_sequences=True)))\n",
        "# model.add(Dropout(0.5))\n",
        "# # model.add(Dense(250, activation='sigmoid'))\n",
        "# model.add(Dense(1, activation='sigmoid'))\n",
        "\n",
        "# model.add(Conv1D(8, 5, activation='relu'))\n",
        "# model.add(MaxPool1D(5))\n",
        "# model.add(Conv1D(32, 5, activation='relu'))\n",
        "# model.add(Dropout(0.5))\n",
        "# model.add(MaxPool1D(5))\n",
        "# model.add(Conv1D(512, 5, activation='relu'))\n",
        "# model.add(Dropout(0.5))\n",
        "# model.add(MaxPool1D(20))\n",
        "\n",
        "# model.add(Flatten())\n",
        "model.add(Bidirectional(CuDNNLSTM(256)))\n",
        "# model.add(Dense(1000, activation='relu'))\n",
        "# model.add(Dense(200, activation='relu'))\n",
        "model.add(Dropout(0.3))\n",
        "model.add(Dense(2, activation='softmax'))\n",
        "# mozda treba uzeti maksimlanu velicinu primera\n",
        "\n",
        "\n",
        "adamax = Adamax(lr=0.0001)\n",
        "rmsprop = RMSprop(lr=0.0001)\n",
        "model.compile(loss='categorical_crossentropy', optimizer=adamax, metrics=['acc'])\n",
        "print(model.summary())"
      ],
      "execution_count": 104,
      "outputs": [
        {
          "output_type": "stream",
          "text": [
            "_________________________________________________________________\n",
            "Layer (type)                 Output Shape              Param #   \n",
            "=================================================================\n",
            "embedding_23 (Embedding)     (None, 1831, 301)         14218337  \n",
            "_________________________________________________________________\n",
            "bidirectional_19 (Bidirectio (None, 512)               1144832   \n",
            "_________________________________________________________________\n",
            "dropout_13 (Dropout)         (None, 512)               0         \n",
            "_________________________________________________________________\n",
            "dense_26 (Dense)             (None, 2)                 1026      \n",
            "=================================================================\n",
            "Total params: 15,364,195\n",
            "Trainable params: 15,364,195\n",
            "Non-trainable params: 0\n",
            "_________________________________________________________________\n",
            "None\n"
          ],
          "name": "stdout"
        }
      ]
    },
    {
      "cell_type": "code",
      "metadata": {
        "id": "gnt4QtCiUVRp",
        "colab_type": "code",
        "outputId": "1dcf17ad-fdaa-4d45-aff0-5af125d20e09",
        "colab": {
          "base_uri": "https://localhost:8080/",
          "height": 4811
        }
      },
      "source": [
        "s = EarlyStopping(monitor='val_loss', mode='min', verbose='1', patience=10)\n",
        "chpt = ModelCheckpoint('2_class_model.h5', monitor='val_acc', mode='max', verbose=1, save_best_only=True)\n",
        "with tf.device('/gpu:0'):\n",
        "  train_data = model.fit(X_train, ytrain, validation_data=[X_val, yval], epochs=200, batch_size=128, verbose=1, callbacks=[es, chpt])"
      ],
      "execution_count": 105,
      "outputs": [
        {
          "output_type": "stream",
          "text": [
            "Train on 1093 samples, validate on 294 samples\n",
            "Epoch 1/200\n",
            "1093/1093 [==============================] - 11s 10ms/step - loss: 0.6938 - acc: 0.5188 - val_loss: 0.6944 - val_acc: 0.5000\n",
            "\n",
            "Epoch 00001: val_acc improved from -inf to 0.50000, saving model to 2_class_model.h5\n",
            "Epoch 2/200\n",
            "1093/1093 [==============================] - 7s 6ms/step - loss: 0.6910 - acc: 0.5398 - val_loss: 0.6926 - val_acc: 0.4830\n",
            "\n",
            "Epoch 00002: val_acc did not improve from 0.50000\n",
            "Epoch 3/200\n",
            "1093/1093 [==============================] - 7s 6ms/step - loss: 0.6888 - acc: 0.5325 - val_loss: 0.6908 - val_acc: 0.5068\n",
            "\n",
            "Epoch 00003: val_acc improved from 0.50000 to 0.50680, saving model to 2_class_model.h5\n",
            "Epoch 4/200\n",
            "1093/1093 [==============================] - 7s 6ms/step - loss: 0.6875 - acc: 0.5636 - val_loss: 0.6894 - val_acc: 0.4966\n",
            "\n",
            "Epoch 00004: val_acc did not improve from 0.50680\n",
            "Epoch 5/200\n",
            "1093/1093 [==============================] - 7s 6ms/step - loss: 0.6844 - acc: 0.5801 - val_loss: 0.6882 - val_acc: 0.5204\n",
            "\n",
            "Epoch 00005: val_acc improved from 0.50680 to 0.52041, saving model to 2_class_model.h5\n",
            "Epoch 6/200\n",
            "1093/1093 [==============================] - 7s 6ms/step - loss: 0.6851 - acc: 0.5718 - val_loss: 0.6870 - val_acc: 0.5000\n",
            "\n",
            "Epoch 00006: val_acc did not improve from 0.52041\n",
            "Epoch 7/200\n",
            "1093/1093 [==============================] - 7s 6ms/step - loss: 0.6810 - acc: 0.5965 - val_loss: 0.6856 - val_acc: 0.5238\n",
            "\n",
            "Epoch 00007: val_acc improved from 0.52041 to 0.52381, saving model to 2_class_model.h5\n",
            "Epoch 8/200\n",
            "1093/1093 [==============================] - 7s 6ms/step - loss: 0.6792 - acc: 0.5791 - val_loss: 0.6841 - val_acc: 0.5510\n",
            "\n",
            "Epoch 00008: val_acc improved from 0.52381 to 0.55102, saving model to 2_class_model.h5\n",
            "Epoch 9/200\n",
            "1093/1093 [==============================] - 7s 6ms/step - loss: 0.6795 - acc: 0.5874 - val_loss: 0.6826 - val_acc: 0.5442\n",
            "\n",
            "Epoch 00009: val_acc did not improve from 0.55102\n",
            "Epoch 10/200\n",
            "1093/1093 [==============================] - 7s 6ms/step - loss: 0.6754 - acc: 0.5801 - val_loss: 0.6813 - val_acc: 0.5544\n",
            "\n",
            "Epoch 00010: val_acc improved from 0.55102 to 0.55442, saving model to 2_class_model.h5\n",
            "Epoch 11/200\n",
            "1093/1093 [==============================] - 7s 6ms/step - loss: 0.6737 - acc: 0.5919 - val_loss: 0.6796 - val_acc: 0.5578\n",
            "\n",
            "Epoch 00011: val_acc improved from 0.55442 to 0.55782, saving model to 2_class_model.h5\n",
            "Epoch 12/200\n",
            "1093/1093 [==============================] - 7s 6ms/step - loss: 0.6739 - acc: 0.5837 - val_loss: 0.6780 - val_acc: 0.5646\n",
            "\n",
            "Epoch 00012: val_acc improved from 0.55782 to 0.56463, saving model to 2_class_model.h5\n",
            "Epoch 13/200\n",
            "1093/1093 [==============================] - 7s 6ms/step - loss: 0.6697 - acc: 0.5874 - val_loss: 0.6763 - val_acc: 0.5646\n",
            "\n",
            "Epoch 00013: val_acc did not improve from 0.56463\n",
            "Epoch 14/200\n",
            "1093/1093 [==============================] - 7s 6ms/step - loss: 0.6695 - acc: 0.5919 - val_loss: 0.6748 - val_acc: 0.5612\n",
            "\n",
            "Epoch 00014: val_acc did not improve from 0.56463\n",
            "Epoch 15/200\n",
            "1093/1093 [==============================] - 7s 6ms/step - loss: 0.6675 - acc: 0.6020 - val_loss: 0.6724 - val_acc: 0.5986\n",
            "\n",
            "Epoch 00015: val_acc improved from 0.56463 to 0.59864, saving model to 2_class_model.h5\n",
            "Epoch 16/200\n",
            "1093/1093 [==============================] - 7s 6ms/step - loss: 0.6658 - acc: 0.6057 - val_loss: 0.6707 - val_acc: 0.5884\n",
            "\n",
            "Epoch 00016: val_acc did not improve from 0.59864\n",
            "Epoch 17/200\n",
            "1093/1093 [==============================] - 7s 6ms/step - loss: 0.6628 - acc: 0.6038 - val_loss: 0.6684 - val_acc: 0.5952\n",
            "\n",
            "Epoch 00017: val_acc did not improve from 0.59864\n",
            "Epoch 18/200\n",
            "1093/1093 [==============================] - 7s 6ms/step - loss: 0.6593 - acc: 0.6276 - val_loss: 0.6656 - val_acc: 0.5952\n",
            "\n",
            "Epoch 00018: val_acc did not improve from 0.59864\n",
            "Epoch 19/200\n",
            "1093/1093 [==============================] - 7s 6ms/step - loss: 0.6585 - acc: 0.6240 - val_loss: 0.6624 - val_acc: 0.5986\n",
            "\n",
            "Epoch 00019: val_acc did not improve from 0.59864\n",
            "Epoch 20/200\n",
            "1093/1093 [==============================] - 7s 6ms/step - loss: 0.6552 - acc: 0.6221 - val_loss: 0.6603 - val_acc: 0.5918\n",
            "\n",
            "Epoch 00020: val_acc did not improve from 0.59864\n",
            "Epoch 21/200\n",
            "1093/1093 [==============================] - 7s 6ms/step - loss: 0.6499 - acc: 0.6240 - val_loss: 0.6555 - val_acc: 0.5884\n",
            "\n",
            "Epoch 00021: val_acc did not improve from 0.59864\n",
            "Epoch 22/200\n",
            "1093/1093 [==============================] - 7s 6ms/step - loss: 0.6450 - acc: 0.6267 - val_loss: 0.6513 - val_acc: 0.5816\n",
            "\n",
            "Epoch 00022: val_acc did not improve from 0.59864\n",
            "Epoch 23/200\n",
            "1093/1093 [==============================] - 7s 6ms/step - loss: 0.6374 - acc: 0.6304 - val_loss: 0.6467 - val_acc: 0.5850\n",
            "\n",
            "Epoch 00023: val_acc did not improve from 0.59864\n",
            "Epoch 24/200\n",
            "1093/1093 [==============================] - 7s 6ms/step - loss: 0.6319 - acc: 0.6414 - val_loss: 0.6431 - val_acc: 0.5952\n",
            "\n",
            "Epoch 00024: val_acc did not improve from 0.59864\n",
            "Epoch 25/200\n",
            "1093/1093 [==============================] - 7s 6ms/step - loss: 0.6247 - acc: 0.6459 - val_loss: 0.6411 - val_acc: 0.6224\n",
            "\n",
            "Epoch 00025: val_acc improved from 0.59864 to 0.62245, saving model to 2_class_model.h5\n",
            "Epoch 26/200\n",
            "1093/1093 [==============================] - 7s 6ms/step - loss: 0.6084 - acc: 0.6633 - val_loss: 0.6375 - val_acc: 0.6122\n",
            "\n",
            "Epoch 00026: val_acc did not improve from 0.62245\n",
            "Epoch 27/200\n",
            "1093/1093 [==============================] - 7s 6ms/step - loss: 0.6067 - acc: 0.6761 - val_loss: 0.6460 - val_acc: 0.6190\n",
            "\n",
            "Epoch 00027: val_acc did not improve from 0.62245\n",
            "Epoch 28/200\n",
            "1093/1093 [==============================] - 7s 6ms/step - loss: 0.6080 - acc: 0.6578 - val_loss: 0.6386 - val_acc: 0.6429\n",
            "\n",
            "Epoch 00028: val_acc improved from 0.62245 to 0.64286, saving model to 2_class_model.h5\n",
            "Epoch 29/200\n",
            "1093/1093 [==============================] - 7s 6ms/step - loss: 0.6001 - acc: 0.6752 - val_loss: 0.6438 - val_acc: 0.6224\n",
            "\n",
            "Epoch 00029: val_acc did not improve from 0.64286\n",
            "Epoch 30/200\n",
            "1093/1093 [==============================] - 7s 6ms/step - loss: 0.6067 - acc: 0.6688 - val_loss: 0.6505 - val_acc: 0.6293\n",
            "\n",
            "Epoch 00030: val_acc did not improve from 0.64286\n",
            "Epoch 31/200\n",
            "1093/1093 [==============================] - 7s 6ms/step - loss: 0.5903 - acc: 0.6926 - val_loss: 0.6355 - val_acc: 0.6361\n",
            "\n",
            "Epoch 00031: val_acc did not improve from 0.64286\n",
            "Epoch 32/200\n",
            "1093/1093 [==============================] - 7s 6ms/step - loss: 0.5827 - acc: 0.7100 - val_loss: 0.6234 - val_acc: 0.6361\n",
            "\n",
            "Epoch 00032: val_acc did not improve from 0.64286\n",
            "Epoch 33/200\n",
            "1093/1093 [==============================] - 7s 6ms/step - loss: 0.5673 - acc: 0.7136 - val_loss: 0.6180 - val_acc: 0.6395\n",
            "\n",
            "Epoch 00033: val_acc did not improve from 0.64286\n",
            "Epoch 34/200\n",
            "1093/1093 [==============================] - 7s 6ms/step - loss: 0.5594 - acc: 0.7264 - val_loss: 0.6145 - val_acc: 0.6599\n",
            "\n",
            "Epoch 00034: val_acc improved from 0.64286 to 0.65986, saving model to 2_class_model.h5\n",
            "Epoch 35/200\n",
            "1093/1093 [==============================] - 7s 7ms/step - loss: 0.5587 - acc: 0.7392 - val_loss: 0.6355 - val_acc: 0.6327\n",
            "\n",
            "Epoch 00035: val_acc did not improve from 0.65986\n",
            "Epoch 36/200\n",
            "1093/1093 [==============================] - 7s 6ms/step - loss: 0.5567 - acc: 0.7374 - val_loss: 0.6103 - val_acc: 0.6599\n",
            "\n",
            "Epoch 00036: val_acc improved from 0.65986 to 0.65986, saving model to 2_class_model.h5\n",
            "Epoch 37/200\n",
            "1093/1093 [==============================] - 7s 6ms/step - loss: 0.5455 - acc: 0.7612 - val_loss: 0.6082 - val_acc: 0.6599\n",
            "\n",
            "Epoch 00037: val_acc did not improve from 0.65986\n",
            "Epoch 38/200\n",
            "1093/1093 [==============================] - 7s 6ms/step - loss: 0.5454 - acc: 0.7374 - val_loss: 0.6020 - val_acc: 0.6905\n",
            "\n",
            "Epoch 00038: val_acc improved from 0.65986 to 0.69048, saving model to 2_class_model.h5\n",
            "Epoch 39/200\n",
            "1093/1093 [==============================] - 7s 6ms/step - loss: 0.5194 - acc: 0.7630 - val_loss: 0.6112 - val_acc: 0.6531\n",
            "\n",
            "Epoch 00039: val_acc did not improve from 0.69048\n",
            "Epoch 40/200\n",
            "1093/1093 [==============================] - 7s 6ms/step - loss: 0.5130 - acc: 0.7649 - val_loss: 0.5965 - val_acc: 0.6973\n",
            "\n",
            "Epoch 00040: val_acc improved from 0.69048 to 0.69728, saving model to 2_class_model.h5\n",
            "Epoch 41/200\n",
            "1093/1093 [==============================] - 7s 6ms/step - loss: 0.5023 - acc: 0.7685 - val_loss: 0.6028 - val_acc: 0.6565\n",
            "\n",
            "Epoch 00041: val_acc did not improve from 0.69728\n",
            "Epoch 42/200\n",
            "1093/1093 [==============================] - 7s 6ms/step - loss: 0.5308 - acc: 0.7484 - val_loss: 0.6211 - val_acc: 0.6395\n",
            "\n",
            "Epoch 00042: val_acc did not improve from 0.69728\n",
            "Epoch 43/200\n",
            "1093/1093 [==============================] - 7s 6ms/step - loss: 0.5451 - acc: 0.7328 - val_loss: 0.6310 - val_acc: 0.6327\n",
            "\n",
            "Epoch 00043: val_acc did not improve from 0.69728\n",
            "Epoch 44/200\n",
            "1093/1093 [==============================] - 7s 6ms/step - loss: 0.4998 - acc: 0.7850 - val_loss: 0.5999 - val_acc: 0.6871\n",
            "\n",
            "Epoch 00044: val_acc did not improve from 0.69728\n",
            "Epoch 45/200\n",
            "1093/1093 [==============================] - 7s 6ms/step - loss: 0.4934 - acc: 0.7722 - val_loss: 0.6143 - val_acc: 0.6531\n",
            "\n",
            "Epoch 00045: val_acc did not improve from 0.69728\n",
            "Epoch 46/200\n",
            "1093/1093 [==============================] - 7s 6ms/step - loss: 0.4766 - acc: 0.7795 - val_loss: 0.5868 - val_acc: 0.7075\n",
            "\n",
            "Epoch 00046: val_acc improved from 0.69728 to 0.70748, saving model to 2_class_model.h5\n",
            "Epoch 47/200\n",
            "1093/1093 [==============================] - 7s 7ms/step - loss: 0.4714 - acc: 0.7923 - val_loss: 0.5870 - val_acc: 0.6973\n",
            "\n",
            "Epoch 00047: val_acc did not improve from 0.70748\n",
            "Epoch 48/200\n",
            "1093/1093 [==============================] - 7s 6ms/step - loss: 0.4626 - acc: 0.7941 - val_loss: 0.5942 - val_acc: 0.6735\n",
            "\n",
            "Epoch 00048: val_acc did not improve from 0.70748\n",
            "Epoch 49/200\n",
            "1093/1093 [==============================] - 7s 6ms/step - loss: 0.4602 - acc: 0.7951 - val_loss: 0.5709 - val_acc: 0.7245\n",
            "\n",
            "Epoch 00049: val_acc improved from 0.70748 to 0.72449, saving model to 2_class_model.h5\n",
            "Epoch 50/200\n",
            "1093/1093 [==============================] - 7s 7ms/step - loss: 0.4363 - acc: 0.8216 - val_loss: 0.5807 - val_acc: 0.7075\n",
            "\n",
            "Epoch 00050: val_acc did not improve from 0.72449\n",
            "Epoch 51/200\n",
            "1093/1093 [==============================] - 7s 6ms/step - loss: 0.4256 - acc: 0.8198 - val_loss: 0.5829 - val_acc: 0.6973\n",
            "\n",
            "Epoch 00051: val_acc did not improve from 0.72449\n",
            "Epoch 52/200\n",
            "1093/1093 [==============================] - 7s 6ms/step - loss: 0.4338 - acc: 0.8124 - val_loss: 0.5839 - val_acc: 0.6871\n",
            "\n",
            "Epoch 00052: val_acc did not improve from 0.72449\n",
            "Epoch 53/200\n",
            "1093/1093 [==============================] - 7s 6ms/step - loss: 0.4220 - acc: 0.8207 - val_loss: 0.5686 - val_acc: 0.7143\n",
            "\n",
            "Epoch 00053: val_acc did not improve from 0.72449\n",
            "Epoch 54/200\n",
            "1093/1093 [==============================] - 7s 6ms/step - loss: 0.4003 - acc: 0.8371 - val_loss: 0.5684 - val_acc: 0.7143\n",
            "\n",
            "Epoch 00054: val_acc did not improve from 0.72449\n",
            "Epoch 55/200\n",
            "1093/1093 [==============================] - 7s 6ms/step - loss: 0.3874 - acc: 0.8344 - val_loss: 0.5780 - val_acc: 0.7279\n",
            "\n",
            "Epoch 00055: val_acc improved from 0.72449 to 0.72789, saving model to 2_class_model.h5\n",
            "Epoch 56/200\n",
            "1093/1093 [==============================] - 7s 7ms/step - loss: 0.3747 - acc: 0.8454 - val_loss: 0.5600 - val_acc: 0.7041\n",
            "\n",
            "Epoch 00056: val_acc did not improve from 0.72789\n",
            "Epoch 57/200\n",
            "1093/1093 [==============================] - 7s 6ms/step - loss: 0.3646 - acc: 0.8637 - val_loss: 0.5585 - val_acc: 0.7245\n",
            "\n",
            "Epoch 00057: val_acc did not improve from 0.72789\n",
            "Epoch 58/200\n",
            "1093/1093 [==============================] - 7s 6ms/step - loss: 0.3476 - acc: 0.8692 - val_loss: 0.5742 - val_acc: 0.7313\n",
            "\n",
            "Epoch 00058: val_acc improved from 0.72789 to 0.73129, saving model to 2_class_model.h5\n",
            "Epoch 59/200\n",
            "1093/1093 [==============================] - 7s 7ms/step - loss: 0.3439 - acc: 0.8637 - val_loss: 0.5646 - val_acc: 0.6905\n",
            "\n",
            "Epoch 00059: val_acc did not improve from 0.73129\n",
            "Epoch 60/200\n",
            "1093/1093 [==============================] - 7s 6ms/step - loss: 0.3554 - acc: 0.8692 - val_loss: 0.5405 - val_acc: 0.7347\n",
            "\n",
            "Epoch 00060: val_acc improved from 0.73129 to 0.73469, saving model to 2_class_model.h5\n",
            "Epoch 61/200\n",
            "1093/1093 [==============================] - 7s 7ms/step - loss: 0.3157 - acc: 0.8920 - val_loss: 0.5946 - val_acc: 0.7109\n",
            "\n",
            "Epoch 00061: val_acc did not improve from 0.73469\n",
            "Epoch 62/200\n",
            "1093/1093 [==============================] - 7s 6ms/step - loss: 0.3148 - acc: 0.8829 - val_loss: 0.5481 - val_acc: 0.7415\n",
            "\n",
            "Epoch 00062: val_acc improved from 0.73469 to 0.74150, saving model to 2_class_model.h5\n",
            "Epoch 63/200\n",
            "1093/1093 [==============================] - 7s 7ms/step - loss: 0.2930 - acc: 0.9076 - val_loss: 0.5676 - val_acc: 0.7347\n",
            "\n",
            "Epoch 00063: val_acc did not improve from 0.74150\n",
            "Epoch 64/200\n",
            "1093/1093 [==============================] - 7s 6ms/step - loss: 0.2777 - acc: 0.9058 - val_loss: 0.5796 - val_acc: 0.7347\n",
            "\n",
            "Epoch 00064: val_acc did not improve from 0.74150\n",
            "Epoch 65/200\n",
            "1093/1093 [==============================] - 7s 6ms/step - loss: 0.2683 - acc: 0.9122 - val_loss: 0.5579 - val_acc: 0.7347\n",
            "\n",
            "Epoch 00065: val_acc did not improve from 0.74150\n",
            "Epoch 66/200\n",
            "1093/1093 [==============================] - 7s 6ms/step - loss: 0.2484 - acc: 0.9177 - val_loss: 0.5558 - val_acc: 0.7347\n",
            "\n",
            "Epoch 00066: val_acc did not improve from 0.74150\n",
            "Epoch 67/200\n",
            "1093/1093 [==============================] - 7s 6ms/step - loss: 0.2383 - acc: 0.9286 - val_loss: 0.5962 - val_acc: 0.7449\n",
            "\n",
            "Epoch 00067: val_acc improved from 0.74150 to 0.74490, saving model to 2_class_model.h5\n",
            "Epoch 68/200\n",
            "1093/1093 [==============================] - 7s 7ms/step - loss: 0.2270 - acc: 0.9314 - val_loss: 0.5844 - val_acc: 0.7483\n",
            "\n",
            "Epoch 00068: val_acc improved from 0.74490 to 0.74830, saving model to 2_class_model.h5\n",
            "Epoch 69/200\n",
            "1093/1093 [==============================] - 7s 6ms/step - loss: 0.2108 - acc: 0.9405 - val_loss: 0.5710 - val_acc: 0.7211\n",
            "\n",
            "Epoch 00069: val_acc did not improve from 0.74830\n",
            "Epoch 70/200\n",
            "1093/1093 [==============================] - 7s 6ms/step - loss: 0.2094 - acc: 0.9341 - val_loss: 0.5691 - val_acc: 0.7483\n",
            "\n",
            "Epoch 00070: val_acc improved from 0.74830 to 0.74830, saving model to 2_class_model.h5\n",
            "Epoch 00070: early stopping\n"
          ],
          "name": "stdout"
        }
      ]
    },
    {
      "cell_type": "code",
      "metadata": {
        "id": "HakM9Ew_8rfu",
        "colab_type": "code",
        "colab": {
          "base_uri": "https://localhost:8080/",
          "height": 269
        },
        "outputId": "c9dbbd74-157c-4146-835f-4fe97076babc"
      },
      "source": [
        "plt.plot(train_data.history['loss'], label='train')\n",
        "plt.plot(train_data.history['val_loss'], label='validation')\n",
        "plt.legend()\n",
        "plt.show()"
      ],
      "execution_count": 106,
      "outputs": [
        {
          "output_type": "display_data",
          "data": {
            "image/png": "[encoded data removed]",
            "text/plain": [
              "<Figure size 432x288 with 1 Axes>"
            ]
          },
          "metadata": {
            "tags": []
          }
        }
      ]
    },
    {
      "cell_type": "code",
      "metadata": {
        "id": "Gdx76rOZ9kMj",
        "colab_type": "code",
        "colab": {
          "base_uri": "https://localhost:8080/",
          "height": 269
        },
        "outputId": "e05c78be-8e7b-4c66-e822-54847bc8d2a4"
      },
      "source": [
        "plt.plot(train_data.history['acc'], label='train')\n",
        "plt.plot(train_data.history['val_acc'], label='validation')\n",
        "plt.legend()\n",
        "plt.show()"
      ],
      "execution_count": 107,
      "outputs": [
        {
          "output_type": "display_data",
          "data": {
            "image/png": "[encoded data removed]",
            "text/plain": [
              "<Figure size 432x288 with 1 Axes>"
            ]
          },
          "metadata": {
            "tags": []
          }
        }
      ]
    },
    {
      "cell_type": "code",
      "metadata": {
        "id": "N6ObM_90iBAC",
        "colab_type": "code",
        "outputId": "3faca44a-d661-446f-d3da-694e32dda4ce",
        "colab": {
          "base_uri": "https://localhost:8080/",
          "height": 51
        }
      },
      "source": [
        "print('Test loss %.4f, acc %.4f' % tuple(model.evaluate(X_tst, ytst, verbose=0)))\n",
        "print('Train loss %.4f, acc %.4f' % tuple(model.evaluate(X_train, ytrain, verbose=0)))"
      ],
      "execution_count": 108,
      "outputs": [
        {
          "output_type": "stream",
          "text": [
            "Test loss 0.5818, acc 0.7458\n",
            "Train loss 0.2083, acc 0.9497\n"
          ],
          "name": "stdout"
        }
      ]
    },
    {
      "cell_type": "markdown",
      "metadata": {
        "colab_type": "text",
        "id": "rOtFEK5Ao1co"
      },
      "source": [
        "#### 3 Class"
      ]
    },
    {
      "cell_type": "code",
      "metadata": {
        "colab_type": "code",
        "outputId": "354dd0fd-4264-4eb6-add5-85e35c97375e",
        "id": "Yzv7-3Ewo1cs",
        "colab": {
          "base_uri": "https://localhost:8080/",
          "height": 71
        }
      },
      "source": [
        "data = list(data3C)\n",
        "\n",
        "EMBEDDING_DIM = 200\n",
        "\n",
        "examples = [x[0] for x in data]\n",
        "\n",
        "model = gensim.models.Word2Vec(sentences=examples, size=EMBEDDING_DIM, window=5, min_count=5, workers=2, iter=5)\n",
        "words = list(model.wv.vocab)\n",
        "print(len(words))\n",
        "print(model.wv.most_similar('dobar'))\n",
        "\n",
        "model.wv.save_word2vec_format('word2vec_3_class.txt')"
      ],
      "execution_count": 109,
      "outputs": [
        {
          "output_type": "stream",
          "text": [
            "14438\n",
            "[(u'lo\\u0161', 0.8803110122680664), (u'dobiti', 0.7530609369277954), (u'vrhunski', 0.7516863346099854), (u'slab', 0.7464247345924377), (u'redak', 0.7418697476387024), (u'bitan', 0.7414994239807129), (u'solidan', 0.7390577793121338), (u'kvalitetan', 0.7388045191764832), (u'pomenuti', 0.7325552105903625), (u'pozitivan', 0.7285311222076416)]\n"
          ],
          "name": "stdout"
        }
      ]
    },
    {
      "cell_type": "code",
      "metadata": {
        "colab_type": "code",
        "id": "vdFc95-ao1c1",
        "colab": {}
      },
      "source": [
        "wordvectors = {}\n",
        "with open('word2vec_3_class.txt') as f:\n",
        "  vocab_size = int(f.readline().split()[0])\n",
        "  \n",
        "  for line in f:\n",
        "    vals = line.split()\n",
        "    wordvectors[vals[0]] = np.asarray(vals[1:], dtype=np.float)"
      ],
      "execution_count": 0,
      "outputs": []
    },
    {
      "cell_type": "code",
      "metadata": {
        "colab_type": "code",
        "outputId": "66d412e9-fbb7-46d8-c891-b2437f44dc9d",
        "id": "55MbwE4zo1c4",
        "colab": {
          "base_uri": "https://localhost:8080/",
          "height": 51
        }
      },
      "source": [
        "data = data_3_class.copy()\n",
        "tokenizer = Tokenizer()\n",
        "\n",
        "all_examples = data['Xtrain'] + data['Xtst'] + data['Xval']\n",
        "all_labels = list(map(lambda x: 0 if x == -1 else 1, data['ytrain'] + data['ytst'] + data['yval']))\n",
        "tokenizer.fit_on_texts(all_examples)\n",
        "seq = tokenizer.texts_to_sequences(all_examples)\n",
        "\n",
        "longest_example = max([len(x.split()) for x in all_examples])\n",
        "vocab_size = len(tokenizer.word_index) + 1\n",
        "\n",
        "seq_padded = pad_sequences(seq, maxlen=longest_example)\n",
        "\n",
        "print('Unique tokens', len(tokenizer.word_index))\n",
        "print('padded', seq_padded.shape)\n",
        "# model.fit([x[0] for x in data2C[:5]], [x[1] for x in data2C[:5]], verbose=2)"
      ],
      "execution_count": 111,
      "outputs": [
        {
          "output_type": "stream",
          "text": [
            "('Unique tokens', 58435)\n",
            "('padded', (2523, 1831))\n"
          ],
          "name": "stdout"
        }
      ]
    },
    {
      "cell_type": "code",
      "metadata": {
        "colab_type": "code",
        "outputId": "dadd7f71-99c7-421d-a2e3-ad63fd7860a9",
        "id": "8yBY7ScOo1c8",
        "colab": {
          "base_uri": "https://localhost:8080/",
          "height": 88
        }
      },
      "source": [
        "print(seq[0], all_labels[0])\n",
        "print(model.wv.most_similar(tokenizer.index_word.items()[1127][1]))\n",
        "print(data['Xtrain'][0])"
      ],
      "execution_count": 112,
      "outputs": [
        {
          "output_type": "stream",
          "text": [
            "([7, 1, 726, 161, 4, 434, 798, 938, 922, 14424, 2, 12572, 17004, 4508, 9191, 21006, 165, 1, 9, 364, 20, 85, 219, 8, 9, 258, 12, 1, 137, 7, 22, 81, 11179, 4351, 80, 750, 498, 912, 21, 16, 32, 336, 2326, 7819, 36, 1633, 21007, 11180, 1, 4, 9, 10, 22, 33, 6, 1, 8, 1022, 183, 4, 1022, 67, 1482, 1, 15, 43, 6, 2671, 2030, 4351, 2327, 44, 3, 15, 2030, 91, 3, 326, 2975, 9, 33, 336, 6452, 21008, 15, 129, 1, 3, 77, 61, 3, 22, 410, 1244, 202, 152, 1999, 1286, 49, 17, 4, 322, 120, 14, 360, 2, 260, 33, 6, 1, 4, 1083, 107, 17, 3, 11, 1, 18, 9, 163, 86, 9, 22, 410, 603, 52, 68, 35, 1055, 1, 1349, 38, 1055, 21009, 21010, 4, 7, 7820, 5299, 42, 147, 4, 1582, 330, 66, 12, 17, 4, 27, 4509, 7, 77, 1, 556, 1185, 454, 60, 414, 291, 36, 87, 2061, 3120, 17, 2, 1614, 14425, 227, 4, 2379, 4202, 12573, 7317, 54, 21, 831, 58, 1, 10, 1, 5, 402, 962, 2, 122, 923, 33, 13, 180, 70, 16, 32, 206, 2, 1157, 771, 281, 1718, 1583, 153, 29, 1, 154, 1116, 546, 85, 27, 2328, 52, 65, 27, 460, 1326, 14, 7, 84, 1, 61, 22, 64, 30, 281, 20, 13, 219, 8, 1791, 29, 261, 1, 148, 5, 1, 3961, 15, 9, 253, 1826, 134, 33, 6, 414, 21011, 2, 21007, 1, 1614, 1178, 66, 1, 24, 64, 30, 3, 5, 1511, 80, 435, 7, 4203, 1418, 17, 1157, 403, 6, 26, 432, 1, 2134, 70], 1)\n",
            "[(u'pomisliti', 0.9517189264297485), (u'shvatiti', 0.9488011598587036), (u'ubediti', 0.9454952478408813), (u'poverovati', 0.9427785873413086), (u'kontati', 0.9420483112335205), (u'nau\\u010diti', 0.9403654932975769), (u'skontati', 0.9369537830352783), (u'verovati', 0.9362061023712158), (u'nameriti', 0.9348189830780029), (u'siguran', 0.9333289265632629)]\n",
            "film biti donekle napraviti u duh čuven britanski hit snatch i lock stock two smoking barrels naravno biti taj kvalitet ali bez obzir na taj činjenica ovaj biti odličan film imati dva sukobljen mafijaš njihov sukob trajati decenija jedan od oni glumiti morgan frimen drugi ben kingsli caka biti u taj što imati lik koji biti na pogrešan mesto u pogrešan vreme zameniti biti za čovek koji dugovati obojica mafijaš lov tako da za obojica morati da učiniti usluga taj lik glumiti džoš hartnet za očekivati biti da tu trebati da imati gomila napet situacija uz konstantan jurnjava nešto kao u pomenuti ostvarenje ne braća i sestra lik koji biti u opasnost delovati kao da on biti sav taj zanimljiv zbog taj imati gomila komičan scena jer njegov reakcija biti slično onaj reakcija bate živojinoviće u film ćati inspektor kada kazati u sunce ti pa ovaj kao u neki kriminalan film tu biti vrhunski platiti ubica tko tumačiti nitko drugi nego brus vilis kao i žestoko opičiti devojka u izvođenje presladak lusi lu još jedan pozitivan stvar biti što biti sebe lepo potruditi i oko sporedan lik sa skoro svaki od oni dolaziti i fin doza humor završan rasplet cel priča biti sasvim fino odraditi bez neki isforsirati scena nemati neki poseban zamerka ne film možda biti trebati imati malo mnogo humor ali sa obzir na centralan priča jasno biti zašto sebe biti opredeliti za taj također duel između lik koji tumačiti frimiti i kingsli biti žestoko obećavati pa biti moći malo mnogo da sebe pozabaviti njihov istorija film toplo preporučivati kao fin zabava koji hteti siguran biti prijati svaki\n"
          ],
          "name": "stdout"
        }
      ]
    },
    {
      "cell_type": "code",
      "metadata": {
        "colab_type": "code",
        "id": "J7hx9UlEo1dA",
        "colab": {}
      },
      "source": [
        "X_train = pad_sequences(tokenizer.texts_to_sequences(data['Xtrain']), maxlen=longest_example)\n",
        "X_tst = pad_sequences(tokenizer.texts_to_sequences(data['Xtst']), maxlen=longest_example)\n",
        "X_val = pad_sequences(tokenizer.texts_to_sequences(data['Xval']), maxlen=longest_example)\n",
        "\n",
        "ytrain = to_categorical(data['ytrain'], num_classes=3)\n",
        "ytst = to_categorical(data['ytst'], num_classes=3)\n",
        "yval = to_categorical(data['yval'], num_classes=3)"
      ],
      "execution_count": 0,
      "outputs": []
    },
    {
      "cell_type": "code",
      "metadata": {
        "id": "ZqtyeJKqqdXM",
        "colab_type": "code",
        "colab": {}
      },
      "source": [
        "print(np.unique(yval == [0, 0, 1], return_counts=True))\n",
        "for i in yval:\n",
        "  print(i)"
      ],
      "execution_count": 0,
      "outputs": []
    },
    {
      "cell_type": "code",
      "metadata": {
        "colab_type": "code",
        "outputId": "635ec54c-8d1b-40dd-984d-712dbbf98529",
        "id": "dKXVExb8o1dE",
        "colab": {
          "base_uri": "https://localhost:8080/",
          "height": 34
        }
      },
      "source": [
        "embedding_matrix = np.zeros((vocab_size, EMBEDDING_DIM + 1))\n",
        "\n",
        "for word, i in tokenizer.word_index.items():\n",
        "  if i > vocab_size:\n",
        "    continue\n",
        "  embd = wordvectors.get(word)\n",
        "  if embd is not None:\n",
        "    embedding_matrix[i] = np.append(embd, lexicon.get(word, 0))\n",
        "    \n",
        "print (np.shape(embedding_matrix))"
      ],
      "execution_count": 115,
      "outputs": [
        {
          "output_type": "stream",
          "text": [
            "(58436, 201)\n"
          ],
          "name": "stdout"
        }
      ]
    },
    {
      "cell_type": "code",
      "metadata": {
        "colab_type": "code",
        "outputId": "319d5580-9887-4f02-c872-31f016327ee4",
        "id": "tzjiLdkkHR7h",
        "colab": {
          "base_uri": "https://localhost:8080/",
          "height": 289
        }
      },
      "source": [
        "model = Sequential()\n",
        "embedding_layer = Embedding(vocab_size, EMBEDDING_DIM + 1, embeddings_initializer=Constant(embedding_matrix), input_length=longest_example, trainable=True)\n",
        "model.add(embedding_layer)\n",
        "# model.add(CuDNNGRU(units=256))\n",
        "# # model.add(Dense(1, activation='elu'))\n",
        "# # model.add(Bidirectional(CuDNNLSTM(256, return_sequences=True)))\n",
        "# model.add(Dropout(0.5))\n",
        "# # model.add(Dense(250, activation='sigmoid'))\n",
        "# model.add(Dense(1, activation='sigmoid'))\n",
        "\n",
        "# model.add(Conv1D(8, 5, activation='relu'))\n",
        "# model.add(MaxPool1D(5))\n",
        "# model.add(Conv1D(32, 5, activation='relu'))\n",
        "# model.add(Dropout(0.5))\n",
        "# model.add(MaxPool1D(5))\n",
        "# model.add(Conv1D(512, 5, activation='relu'))\n",
        "# model.add(Dropout(0.5))\n",
        "# model.add(MaxPool1D(20))\n",
        "\n",
        "# model.add(Flatten())\n",
        "model.add(Bidirectional(CuDNNLSTM(348)))\n",
        "# model.add(Dense(1000, activation='relu'))\n",
        "# model.add(Dense(200, activation='relu'))\n",
        "model.add(Dropout(0.4))\n",
        "model.add(Dense(3, activation='softmax'))\n",
        "# mozda treba uzeti maksimlanu velicinu primera\n",
        "\n",
        "\n",
        "adamax = Adamax(lr=0.0001)\n",
        "rmsprop = RMSprop(lr=0.0001)\n",
        "model.compile(loss='categorical_crossentropy', optimizer=adamax, metrics=['acc'])\n",
        "print(model.summary())"
      ],
      "execution_count": 135,
      "outputs": [
        {
          "output_type": "stream",
          "text": [
            "_________________________________________________________________\n",
            "Layer (type)                 Output Shape              Param #   \n",
            "=================================================================\n",
            "embedding_28 (Embedding)     (None, 1831, 201)         11745636  \n",
            "_________________________________________________________________\n",
            "bidirectional_24 (Bidirectio (None, 696)               1533984   \n",
            "_________________________________________________________________\n",
            "dropout_18 (Dropout)         (None, 696)               0         \n",
            "_________________________________________________________________\n",
            "dense_31 (Dense)             (None, 3)                 2091      \n",
            "=================================================================\n",
            "Total params: 13,281,711\n",
            "Trainable params: 13,281,711\n",
            "Non-trainable params: 0\n",
            "_________________________________________________________________\n",
            "None\n"
          ],
          "name": "stdout"
        }
      ]
    },
    {
      "cell_type": "code",
      "metadata": {
        "colab_type": "code",
        "outputId": "c5636c35-f205-408e-bfe2-d10b5997b7ef",
        "id": "rRM1hdtRHD8c",
        "colab": {
          "base_uri": "https://localhost:8080/",
          "height": 6647
        }
      },
      "source": [
        "es = EarlyStopping(monitor='val_loss', mode='min', verbose='1', patience=50)\n",
        "chpt = ModelCheckpoint('2_class_model.h5', monitor='val_acc', mode='max', verbose=1, save_best_only=True)\n",
        "with tf.device('/gpu:0'):\n",
        "  train_data = model.fit(X_train, ytrain, validation_data=[X_val, yval], epochs=200, batch_size=128, verbose=1, callbacks=[es, chpt])"
      ],
      "execution_count": 136,
      "outputs": [
        {
          "output_type": "stream",
          "text": [
            "Train on 1639 samples, validate on 442 samples\n",
            "Epoch 1/200\n",
            "1639/1639 [==============================] - 18s 11ms/step - loss: 1.1009 - acc: 0.3429 - val_loss: 1.0979 - val_acc: 0.3620\n",
            "\n",
            "Epoch 00001: val_acc improved from -inf to 0.36199, saving model to 2_class_model.h5\n",
            "Epoch 2/200\n",
            "1639/1639 [==============================] - 13s 8ms/step - loss: 1.0950 - acc: 0.3624 - val_loss: 1.0986 - val_acc: 0.3258\n",
            "\n",
            "Epoch 00002: val_acc did not improve from 0.36199\n",
            "Epoch 3/200\n",
            "1639/1639 [==============================] - 13s 8ms/step - loss: 1.0935 - acc: 0.3661 - val_loss: 1.0986 - val_acc: 0.3213\n",
            "\n",
            "Epoch 00003: val_acc did not improve from 0.36199\n",
            "Epoch 4/200\n",
            "1639/1639 [==============================] - 13s 8ms/step - loss: 1.0910 - acc: 0.3758 - val_loss: 1.0987 - val_acc: 0.3348\n",
            "\n",
            "Epoch 00004: val_acc did not improve from 0.36199\n",
            "Epoch 5/200\n",
            "1639/1639 [==============================] - 13s 8ms/step - loss: 1.0872 - acc: 0.3832 - val_loss: 1.0993 - val_acc: 0.3213\n",
            "\n",
            "Epoch 00005: val_acc did not improve from 0.36199\n",
            "Epoch 6/200\n",
            "1639/1639 [==============================] - 13s 8ms/step - loss: 1.0838 - acc: 0.3960 - val_loss: 1.0996 - val_acc: 0.3213\n",
            "\n",
            "Epoch 00006: val_acc did not improve from 0.36199\n",
            "Epoch 7/200\n",
            "1639/1639 [==============================] - 13s 8ms/step - loss: 1.0816 - acc: 0.4112 - val_loss: 1.0999 - val_acc: 0.3326\n",
            "\n",
            "Epoch 00007: val_acc did not improve from 0.36199\n",
            "Epoch 8/200\n",
            "1639/1639 [==============================] - 13s 8ms/step - loss: 1.0813 - acc: 0.4137 - val_loss: 1.1003 - val_acc: 0.3303\n",
            "\n",
            "Epoch 00008: val_acc did not improve from 0.36199\n",
            "Epoch 9/200\n",
            "1639/1639 [==============================] - 13s 8ms/step - loss: 1.0771 - acc: 0.4131 - val_loss: 1.1004 - val_acc: 0.3394\n",
            "\n",
            "Epoch 00009: val_acc did not improve from 0.36199\n",
            "Epoch 10/200\n",
            "1639/1639 [==============================] - 13s 8ms/step - loss: 1.0784 - acc: 0.4155 - val_loss: 1.1000 - val_acc: 0.3484\n",
            "\n",
            "Epoch 00010: val_acc did not improve from 0.36199\n",
            "Epoch 11/200\n",
            "1639/1639 [==============================] - 13s 8ms/step - loss: 1.0757 - acc: 0.4228 - val_loss: 1.1004 - val_acc: 0.3439\n",
            "\n",
            "Epoch 00011: val_acc did not improve from 0.36199\n",
            "Epoch 12/200\n",
            "1639/1639 [==============================] - 13s 8ms/step - loss: 1.0719 - acc: 0.4271 - val_loss: 1.1002 - val_acc: 0.3462\n",
            "\n",
            "Epoch 00012: val_acc did not improve from 0.36199\n",
            "Epoch 13/200\n",
            "1639/1639 [==============================] - 13s 8ms/step - loss: 1.0678 - acc: 0.4308 - val_loss: 1.1001 - val_acc: 0.3552\n",
            "\n",
            "Epoch 00013: val_acc did not improve from 0.36199\n",
            "Epoch 14/200\n",
            "1639/1639 [==============================] - 13s 8ms/step - loss: 1.0615 - acc: 0.4503 - val_loss: 1.1000 - val_acc: 0.3507\n",
            "\n",
            "Epoch 00014: val_acc did not improve from 0.36199\n",
            "Epoch 15/200\n",
            "1639/1639 [==============================] - 13s 8ms/step - loss: 1.0620 - acc: 0.4417 - val_loss: 1.0996 - val_acc: 0.3575\n",
            "\n",
            "Epoch 00015: val_acc did not improve from 0.36199\n",
            "Epoch 16/200\n",
            "1639/1639 [==============================] - 13s 8ms/step - loss: 1.0600 - acc: 0.4576 - val_loss: 1.0994 - val_acc: 0.3552\n",
            "\n",
            "Epoch 00016: val_acc did not improve from 0.36199\n",
            "Epoch 17/200\n",
            "1639/1639 [==============================] - 13s 8ms/step - loss: 1.0566 - acc: 0.4521 - val_loss: 1.0973 - val_acc: 0.3688\n",
            "\n",
            "Epoch 00017: val_acc improved from 0.36199 to 0.36878, saving model to 2_class_model.h5\n",
            "Epoch 18/200\n",
            "1639/1639 [==============================] - 13s 8ms/step - loss: 1.0532 - acc: 0.4570 - val_loss: 1.0958 - val_acc: 0.3756\n",
            "\n",
            "Epoch 00018: val_acc improved from 0.36878 to 0.37557, saving model to 2_class_model.h5\n",
            "Epoch 19/200\n",
            "1639/1639 [==============================] - 13s 8ms/step - loss: 1.0406 - acc: 0.4814 - val_loss: 1.0956 - val_acc: 0.3801\n",
            "\n",
            "Epoch 00019: val_acc improved from 0.37557 to 0.38009, saving model to 2_class_model.h5\n",
            "Epoch 20/200\n",
            "1639/1639 [==============================] - 13s 8ms/step - loss: 1.0394 - acc: 0.4710 - val_loss: 1.0920 - val_acc: 0.3937\n",
            "\n",
            "Epoch 00020: val_acc improved from 0.38009 to 0.39367, saving model to 2_class_model.h5\n",
            "Epoch 21/200\n",
            "1639/1639 [==============================] - 13s 8ms/step - loss: 1.0386 - acc: 0.4606 - val_loss: 1.0897 - val_acc: 0.3982\n",
            "\n",
            "Epoch 00021: val_acc improved from 0.39367 to 0.39819, saving model to 2_class_model.h5\n",
            "Epoch 22/200\n",
            "1639/1639 [==============================] - 13s 8ms/step - loss: 1.0345 - acc: 0.4741 - val_loss: 1.0857 - val_acc: 0.4118\n",
            "\n",
            "Epoch 00022: val_acc improved from 0.39819 to 0.41176, saving model to 2_class_model.h5\n",
            "Epoch 23/200\n",
            "1639/1639 [==============================] - 13s 8ms/step - loss: 1.0244 - acc: 0.4893 - val_loss: 1.0814 - val_acc: 0.4095\n",
            "\n",
            "Epoch 00023: val_acc did not improve from 0.41176\n",
            "Epoch 24/200\n",
            "1639/1639 [==============================] - 13s 8ms/step - loss: 1.0128 - acc: 0.4893 - val_loss: 1.0763 - val_acc: 0.4208\n",
            "\n",
            "Epoch 00024: val_acc improved from 0.41176 to 0.42081, saving model to 2_class_model.h5\n",
            "Epoch 25/200\n",
            "1639/1639 [==============================] - 13s 8ms/step - loss: 1.0110 - acc: 0.4948 - val_loss: 1.0839 - val_acc: 0.4186\n",
            "\n",
            "Epoch 00025: val_acc did not improve from 0.42081\n",
            "Epoch 26/200\n",
            "1639/1639 [==============================] - 13s 8ms/step - loss: 1.0068 - acc: 0.4893 - val_loss: 1.0719 - val_acc: 0.4389\n",
            "\n",
            "Epoch 00026: val_acc improved from 0.42081 to 0.43891, saving model to 2_class_model.h5\n",
            "Epoch 27/200\n",
            "1639/1639 [==============================] - 13s 8ms/step - loss: 0.9917 - acc: 0.5229 - val_loss: 1.0800 - val_acc: 0.4231\n",
            "\n",
            "Epoch 00027: val_acc did not improve from 0.43891\n",
            "Epoch 28/200\n",
            "1639/1639 [==============================] - 13s 8ms/step - loss: 0.9826 - acc: 0.5137 - val_loss: 1.0591 - val_acc: 0.4570\n",
            "\n",
            "Epoch 00028: val_acc improved from 0.43891 to 0.45701, saving model to 2_class_model.h5\n",
            "Epoch 29/200\n",
            "1639/1639 [==============================] - 13s 8ms/step - loss: 0.9758 - acc: 0.5296 - val_loss: 1.0620 - val_acc: 0.4389\n",
            "\n",
            "Epoch 00029: val_acc did not improve from 0.45701\n",
            "Epoch 30/200\n",
            "1639/1639 [==============================] - 13s 8ms/step - loss: 0.9651 - acc: 0.5430 - val_loss: 1.0597 - val_acc: 0.4480\n",
            "\n",
            "Epoch 00030: val_acc did not improve from 0.45701\n",
            "Epoch 31/200\n",
            "1639/1639 [==============================] - 14s 8ms/step - loss: 0.9783 - acc: 0.5204 - val_loss: 1.0837 - val_acc: 0.4367\n",
            "\n",
            "Epoch 00031: val_acc did not improve from 0.45701\n",
            "Epoch 32/200\n",
            "1639/1639 [==============================] - 14s 8ms/step - loss: 0.9625 - acc: 0.5509 - val_loss: 1.0570 - val_acc: 0.4344\n",
            "\n",
            "Epoch 00032: val_acc did not improve from 0.45701\n",
            "Epoch 33/200\n",
            "1639/1639 [==============================] - 13s 8ms/step - loss: 0.9510 - acc: 0.5491 - val_loss: 1.0745 - val_acc: 0.4321\n",
            "\n",
            "Epoch 00033: val_acc did not improve from 0.45701\n",
            "Epoch 34/200\n",
            "1639/1639 [==============================] - 13s 8ms/step - loss: 0.9505 - acc: 0.5491 - val_loss: 1.0605 - val_acc: 0.4367\n",
            "\n",
            "Epoch 00034: val_acc did not improve from 0.45701\n",
            "Epoch 35/200\n",
            "1639/1639 [==============================] - 13s 8ms/step - loss: 0.9397 - acc: 0.5607 - val_loss: 1.0635 - val_acc: 0.4344\n",
            "\n",
            "Epoch 00035: val_acc did not improve from 0.45701\n",
            "Epoch 36/200\n",
            "1639/1639 [==============================] - 13s 8ms/step - loss: 0.9324 - acc: 0.5650 - val_loss: 1.0756 - val_acc: 0.4502\n",
            "\n",
            "Epoch 00036: val_acc did not improve from 0.45701\n",
            "Epoch 37/200\n",
            "1639/1639 [==============================] - 13s 8ms/step - loss: 0.9363 - acc: 0.5607 - val_loss: 1.0554 - val_acc: 0.4389\n",
            "\n",
            "Epoch 00037: val_acc did not improve from 0.45701\n",
            "Epoch 38/200\n",
            "1639/1639 [==============================] - 13s 8ms/step - loss: 0.9242 - acc: 0.5699 - val_loss: 1.0557 - val_acc: 0.4457\n",
            "\n",
            "Epoch 00038: val_acc did not improve from 0.45701\n",
            "Epoch 39/200\n",
            "1639/1639 [==============================] - 13s 8ms/step - loss: 0.9144 - acc: 0.5680 - val_loss: 1.0926 - val_acc: 0.4367\n",
            "\n",
            "Epoch 00039: val_acc did not improve from 0.45701\n",
            "Epoch 40/200\n",
            "1639/1639 [==============================] - 13s 8ms/step - loss: 0.9082 - acc: 0.5766 - val_loss: 1.0583 - val_acc: 0.4593\n",
            "\n",
            "Epoch 00040: val_acc improved from 0.45701 to 0.45928, saving model to 2_class_model.h5\n",
            "Epoch 41/200\n",
            "1639/1639 [==============================] - 13s 8ms/step - loss: 0.9049 - acc: 0.5833 - val_loss: 1.0601 - val_acc: 0.4593\n",
            "\n",
            "Epoch 00041: val_acc did not improve from 0.45928\n",
            "Epoch 42/200\n",
            "1639/1639 [==============================] - 13s 8ms/step - loss: 0.8921 - acc: 0.6004 - val_loss: 1.0620 - val_acc: 0.4593\n",
            "\n",
            "Epoch 00042: val_acc did not improve from 0.45928\n",
            "Epoch 43/200\n",
            "1639/1639 [==============================] - 13s 8ms/step - loss: 0.8961 - acc: 0.5796 - val_loss: 1.0547 - val_acc: 0.4615\n",
            "\n",
            "Epoch 00043: val_acc improved from 0.45928 to 0.46154, saving model to 2_class_model.h5\n",
            "Epoch 44/200\n",
            "1639/1639 [==============================] - 13s 8ms/step - loss: 0.8969 - acc: 0.5821 - val_loss: 1.0607 - val_acc: 0.4367\n",
            "\n",
            "Epoch 00044: val_acc did not improve from 0.46154\n",
            "Epoch 45/200\n",
            "1639/1639 [==============================] - 13s 8ms/step - loss: 0.8928 - acc: 0.5784 - val_loss: 1.0660 - val_acc: 0.4615\n",
            "\n",
            "Epoch 00045: val_acc improved from 0.46154 to 0.46154, saving model to 2_class_model.h5\n",
            "Epoch 46/200\n",
            "1639/1639 [==============================] - 13s 8ms/step - loss: 0.8804 - acc: 0.5930 - val_loss: 1.0521 - val_acc: 0.4593\n",
            "\n",
            "Epoch 00046: val_acc did not improve from 0.46154\n",
            "Epoch 47/200\n",
            "1639/1639 [==============================] - 13s 8ms/step - loss: 0.8680 - acc: 0.6101 - val_loss: 1.0494 - val_acc: 0.4796\n",
            "\n",
            "Epoch 00047: val_acc improved from 0.46154 to 0.47964, saving model to 2_class_model.h5\n",
            "Epoch 48/200\n",
            "1639/1639 [==============================] - 13s 8ms/step - loss: 0.8588 - acc: 0.6071 - val_loss: 1.0805 - val_acc: 0.4525\n",
            "\n",
            "Epoch 00048: val_acc did not improve from 0.47964\n",
            "Epoch 49/200\n",
            "1639/1639 [==============================] - 13s 8ms/step - loss: 0.8529 - acc: 0.6132 - val_loss: 1.0616 - val_acc: 0.4796\n",
            "\n",
            "Epoch 00049: val_acc did not improve from 0.47964\n",
            "Epoch 50/200\n",
            "1639/1639 [==============================] - 14s 8ms/step - loss: 0.8446 - acc: 0.6236 - val_loss: 1.0504 - val_acc: 0.4842\n",
            "\n",
            "Epoch 00050: val_acc improved from 0.47964 to 0.48416, saving model to 2_class_model.h5\n",
            "Epoch 51/200\n",
            "1639/1639 [==============================] - 13s 8ms/step - loss: 0.8351 - acc: 0.6358 - val_loss: 1.0585 - val_acc: 0.4819\n",
            "\n",
            "Epoch 00051: val_acc did not improve from 0.48416\n",
            "Epoch 52/200\n",
            "1639/1639 [==============================] - 13s 8ms/step - loss: 0.8316 - acc: 0.6248 - val_loss: 1.0665 - val_acc: 0.4774\n",
            "\n",
            "Epoch 00052: val_acc did not improve from 0.48416\n",
            "Epoch 53/200\n",
            "1639/1639 [==============================] - 14s 8ms/step - loss: 0.8350 - acc: 0.6236 - val_loss: 1.0584 - val_acc: 0.4842\n",
            "\n",
            "Epoch 00053: val_acc did not improve from 0.48416\n",
            "Epoch 54/200\n",
            "1639/1639 [==============================] - 14s 8ms/step - loss: 0.8360 - acc: 0.6297 - val_loss: 1.0755 - val_acc: 0.4525\n",
            "\n",
            "Epoch 00054: val_acc did not improve from 0.48416\n",
            "Epoch 55/200\n",
            "1639/1639 [==============================] - 14s 8ms/step - loss: 0.8258 - acc: 0.6406 - val_loss: 1.0732 - val_acc: 0.4842\n",
            "\n",
            "Epoch 00055: val_acc did not improve from 0.48416\n",
            "Epoch 56/200\n",
            "1639/1639 [==============================] - 14s 8ms/step - loss: 0.8155 - acc: 0.6376 - val_loss: 1.0507 - val_acc: 0.4796\n",
            "\n",
            "Epoch 00056: val_acc did not improve from 0.48416\n",
            "Epoch 57/200\n",
            "1639/1639 [==============================] - 14s 8ms/step - loss: 0.8040 - acc: 0.6486 - val_loss: 1.0773 - val_acc: 0.4796\n",
            "\n",
            "Epoch 00057: val_acc did not improve from 0.48416\n",
            "Epoch 58/200\n",
            "1639/1639 [==============================] - 14s 8ms/step - loss: 0.7870 - acc: 0.6528 - val_loss: 1.0566 - val_acc: 0.5158\n",
            "\n",
            "Epoch 00058: val_acc improved from 0.48416 to 0.51584, saving model to 2_class_model.h5\n",
            "Epoch 59/200\n",
            "1639/1639 [==============================] - 14s 8ms/step - loss: 0.7898 - acc: 0.6467 - val_loss: 1.0597 - val_acc: 0.4729\n",
            "\n",
            "Epoch 00059: val_acc did not improve from 0.51584\n",
            "Epoch 60/200\n",
            "1639/1639 [==============================] - 14s 8ms/step - loss: 0.7786 - acc: 0.6577 - val_loss: 1.0725 - val_acc: 0.4932\n",
            "\n",
            "Epoch 00060: val_acc did not improve from 0.51584\n",
            "Epoch 61/200\n",
            "1639/1639 [==============================] - 14s 8ms/step - loss: 0.7926 - acc: 0.6528 - val_loss: 1.0736 - val_acc: 0.4819\n",
            "\n",
            "Epoch 00061: val_acc did not improve from 0.51584\n",
            "Epoch 62/200\n",
            "1639/1639 [==============================] - 14s 8ms/step - loss: 0.7741 - acc: 0.6656 - val_loss: 1.0666 - val_acc: 0.4910\n",
            "\n",
            "Epoch 00062: val_acc did not improve from 0.51584\n",
            "Epoch 63/200\n",
            "1639/1639 [==============================] - 14s 8ms/step - loss: 0.7530 - acc: 0.6742 - val_loss: 1.0917 - val_acc: 0.4593\n",
            "\n",
            "Epoch 00063: val_acc did not improve from 0.51584\n",
            "Epoch 64/200\n",
            "1639/1639 [==============================] - 14s 8ms/step - loss: 0.7656 - acc: 0.6724 - val_loss: 1.0719 - val_acc: 0.5000\n",
            "\n",
            "Epoch 00064: val_acc did not improve from 0.51584\n",
            "Epoch 65/200\n",
            "1639/1639 [==============================] - 14s 8ms/step - loss: 0.7381 - acc: 0.6882 - val_loss: 1.0908 - val_acc: 0.4955\n",
            "\n",
            "Epoch 00065: val_acc did not improve from 0.51584\n",
            "Epoch 66/200\n",
            "1639/1639 [==============================] - 14s 8ms/step - loss: 0.7589 - acc: 0.6644 - val_loss: 1.0714 - val_acc: 0.4910\n",
            "\n",
            "Epoch 00066: val_acc did not improve from 0.51584\n",
            "Epoch 67/200\n",
            "1639/1639 [==============================] - 14s 8ms/step - loss: 0.7668 - acc: 0.6699 - val_loss: 1.0713 - val_acc: 0.4955\n",
            "\n",
            "Epoch 00067: val_acc did not improve from 0.51584\n",
            "Epoch 68/200\n",
            "1639/1639 [==============================] - 14s 8ms/step - loss: 0.7282 - acc: 0.6968 - val_loss: 1.0683 - val_acc: 0.5000\n",
            "\n",
            "Epoch 00068: val_acc did not improve from 0.51584\n",
            "Epoch 69/200\n",
            "1639/1639 [==============================] - 14s 8ms/step - loss: 0.7061 - acc: 0.7010 - val_loss: 1.0661 - val_acc: 0.5023\n",
            "\n",
            "Epoch 00069: val_acc did not improve from 0.51584\n",
            "Epoch 70/200\n",
            "1639/1639 [==============================] - 14s 8ms/step - loss: 0.7059 - acc: 0.7041 - val_loss: 1.0709 - val_acc: 0.5090\n",
            "\n",
            "Epoch 00070: val_acc did not improve from 0.51584\n",
            "Epoch 71/200\n",
            "1639/1639 [==============================] - 14s 8ms/step - loss: 0.6973 - acc: 0.7029 - val_loss: 1.0738 - val_acc: 0.5000\n",
            "\n",
            "Epoch 00071: val_acc did not improve from 0.51584\n",
            "Epoch 72/200\n",
            "1639/1639 [==============================] - 14s 8ms/step - loss: 0.6792 - acc: 0.7303 - val_loss: 1.0720 - val_acc: 0.5226\n",
            "\n",
            "Epoch 00072: val_acc improved from 0.51584 to 0.52262, saving model to 2_class_model.h5\n",
            "Epoch 73/200\n",
            "1639/1639 [==============================] - 14s 8ms/step - loss: 0.6730 - acc: 0.7212 - val_loss: 1.0618 - val_acc: 0.5339\n",
            "\n",
            "Epoch 00073: val_acc improved from 0.52262 to 0.53394, saving model to 2_class_model.h5\n",
            "Epoch 74/200\n",
            "1639/1639 [==============================] - 14s 8ms/step - loss: 0.6644 - acc: 0.7309 - val_loss: 1.0997 - val_acc: 0.5090\n",
            "\n",
            "Epoch 00074: val_acc did not improve from 0.53394\n",
            "Epoch 75/200\n",
            "1639/1639 [==============================] - 14s 8ms/step - loss: 0.6719 - acc: 0.7218 - val_loss: 1.0744 - val_acc: 0.5136\n",
            "\n",
            "Epoch 00075: val_acc did not improve from 0.53394\n",
            "Epoch 76/200\n",
            "1639/1639 [==============================] - 14s 8ms/step - loss: 0.6685 - acc: 0.7224 - val_loss: 1.0840 - val_acc: 0.4932\n",
            "\n",
            "Epoch 00076: val_acc did not improve from 0.53394\n",
            "Epoch 77/200\n",
            "1639/1639 [==============================] - 14s 8ms/step - loss: 0.6724 - acc: 0.7224 - val_loss: 1.0598 - val_acc: 0.5181\n",
            "\n",
            "Epoch 00077: val_acc did not improve from 0.53394\n",
            "Epoch 78/200\n",
            "1639/1639 [==============================] - 14s 8ms/step - loss: 0.6414 - acc: 0.7322 - val_loss: 1.0691 - val_acc: 0.5271\n",
            "\n",
            "Epoch 00078: val_acc did not improve from 0.53394\n",
            "Epoch 79/200\n",
            "1639/1639 [==============================] - 14s 8ms/step - loss: 0.6155 - acc: 0.7602 - val_loss: 1.1729 - val_acc: 0.4955\n",
            "\n",
            "Epoch 00079: val_acc did not improve from 0.53394\n",
            "Epoch 80/200\n",
            "1639/1639 [==============================] - 14s 8ms/step - loss: 0.6792 - acc: 0.7193 - val_loss: 1.1211 - val_acc: 0.4864\n",
            "\n",
            "Epoch 00080: val_acc did not improve from 0.53394\n",
            "Epoch 81/200\n",
            "1639/1639 [==============================] - 14s 8ms/step - loss: 0.6325 - acc: 0.7462 - val_loss: 1.0868 - val_acc: 0.5158\n",
            "\n",
            "Epoch 00081: val_acc did not improve from 0.53394\n",
            "Epoch 82/200\n",
            "1639/1639 [==============================] - 14s 8ms/step - loss: 0.6135 - acc: 0.7645 - val_loss: 1.1324 - val_acc: 0.5136\n",
            "\n",
            "Epoch 00082: val_acc did not improve from 0.53394\n",
            "Epoch 83/200\n",
            "1639/1639 [==============================] - 14s 8ms/step - loss: 0.6453 - acc: 0.7291 - val_loss: 1.1353 - val_acc: 0.4774\n",
            "\n",
            "Epoch 00083: val_acc did not improve from 0.53394\n",
            "Epoch 84/200\n",
            "1639/1639 [==============================] - 14s 8ms/step - loss: 0.5970 - acc: 0.7694 - val_loss: 1.1162 - val_acc: 0.5271\n",
            "\n",
            "Epoch 00084: val_acc did not improve from 0.53394\n",
            "Epoch 85/200\n",
            "1639/1639 [==============================] - 14s 8ms/step - loss: 0.5731 - acc: 0.7724 - val_loss: 1.1043 - val_acc: 0.5294\n",
            "\n",
            "Epoch 00085: val_acc did not improve from 0.53394\n",
            "Epoch 86/200\n",
            "1639/1639 [==============================] - 14s 8ms/step - loss: 0.5449 - acc: 0.7944 - val_loss: 1.1055 - val_acc: 0.5249\n",
            "\n",
            "Epoch 00086: val_acc did not improve from 0.53394\n",
            "Epoch 87/200\n",
            "1639/1639 [==============================] - 14s 8ms/step - loss: 0.5454 - acc: 0.7901 - val_loss: 1.1230 - val_acc: 0.5520\n",
            "\n",
            "Epoch 00087: val_acc improved from 0.53394 to 0.55204, saving model to 2_class_model.h5\n",
            "Epoch 88/200\n",
            "1639/1639 [==============================] - 14s 8ms/step - loss: 0.5276 - acc: 0.8084 - val_loss: 1.1145 - val_acc: 0.5452\n",
            "\n",
            "Epoch 00088: val_acc did not improve from 0.55204\n",
            "Epoch 89/200\n",
            "1639/1639 [==============================] - 14s 8ms/step - loss: 0.5026 - acc: 0.8176 - val_loss: 1.0990 - val_acc: 0.5362\n",
            "\n",
            "Epoch 00089: val_acc did not improve from 0.55204\n",
            "Epoch 90/200\n",
            "1639/1639 [==============================] - 14s 8ms/step - loss: 0.5213 - acc: 0.8017 - val_loss: 1.1277 - val_acc: 0.5543\n",
            "\n",
            "Epoch 00090: val_acc improved from 0.55204 to 0.55430, saving model to 2_class_model.h5\n",
            "Epoch 91/200\n",
            "1639/1639 [==============================] - 14s 8ms/step - loss: 0.5197 - acc: 0.8060 - val_loss: 1.1512 - val_acc: 0.5136\n",
            "\n",
            "Epoch 00091: val_acc did not improve from 0.55430\n",
            "Epoch 92/200\n",
            "1639/1639 [==============================] - 14s 8ms/step - loss: 0.5050 - acc: 0.8054 - val_loss: 1.1292 - val_acc: 0.5452\n",
            "\n",
            "Epoch 00092: val_acc did not improve from 0.55430\n",
            "Epoch 93/200\n",
            "1639/1639 [==============================] - 14s 8ms/step - loss: 0.4861 - acc: 0.8225 - val_loss: 1.0987 - val_acc: 0.5498\n",
            "\n",
            "Epoch 00093: val_acc did not improve from 0.55430\n",
            "Epoch 94/200\n",
            "1639/1639 [==============================] - 14s 8ms/step - loss: 0.4627 - acc: 0.8395 - val_loss: 1.1464 - val_acc: 0.5294\n",
            "\n",
            "Epoch 00094: val_acc did not improve from 0.55430\n",
            "Epoch 95/200\n",
            "1639/1639 [==============================] - 14s 8ms/step - loss: 0.4908 - acc: 0.8103 - val_loss: 1.1438 - val_acc: 0.5181\n",
            "\n",
            "Epoch 00095: val_acc did not improve from 0.55430\n",
            "Epoch 96/200\n",
            "1639/1639 [==============================] - 14s 8ms/step - loss: 0.4571 - acc: 0.8365 - val_loss: 1.1887 - val_acc: 0.5181\n",
            "\n",
            "Epoch 00096: val_acc did not improve from 0.55430\n",
            "Epoch 97/200\n",
            "1639/1639 [==============================] - 14s 8ms/step - loss: 0.4757 - acc: 0.8243 - val_loss: 1.1233 - val_acc: 0.5271\n",
            "\n",
            "Epoch 00097: val_acc did not improve from 0.55430\n",
            "Epoch 00097: early stopping\n"
          ],
          "name": "stdout"
        }
      ]
    },
    {
      "cell_type": "code",
      "metadata": {
        "colab_type": "code",
        "outputId": "dd74abf3-a2ff-4ffe-e7e4-247a5791b6ad",
        "id": "dj82IzSqHD8p",
        "colab": {
          "base_uri": "https://localhost:8080/",
          "height": 231
        }
      },
      "source": [
        "plt.plot(train_data.history['loss'], label='train')\n",
        "plt.plot(train_data.history['val_loss'], label='validation')\n",
        "plt.legend()\n",
        "plt.show()"
      ],
      "execution_count": 141,
      "outputs": [
        {
          "output_type": "error",
          "ename": "AttributeError",
          "evalue": "ignored",
          "traceback": [
            "\u001b[0;31m\u001b[0m",
            "\u001b[0;31mAttributeError\u001b[0mTraceback (most recent call last)",
            "\u001b[0;32m<ipython-input-141-8a725069eaad>\u001b[0m in \u001b[0;36m<module>\u001b[0;34m()\u001b[0m\n\u001b[1;32m      1\u001b[0m \u001b[0mtrain_data\u001b[0m \u001b[0;34m=\u001b[0m \u001b[0mload_model\u001b[0m\u001b[0;34m(\u001b[0m\u001b[0;34m'2_class_model.h5'\u001b[0m\u001b[0;34m)\u001b[0m\u001b[0;34m\u001b[0m\u001b[0m\n\u001b[0;32m----> 2\u001b[0;31m \u001b[0mplt\u001b[0m\u001b[0;34m.\u001b[0m\u001b[0mplot\u001b[0m\u001b[0;34m(\u001b[0m\u001b[0mtrain_data\u001b[0m\u001b[0;34m.\u001b[0m\u001b[0mhistory\u001b[0m\u001b[0;34m[\u001b[0m\u001b[0;34m'loss'\u001b[0m\u001b[0;34m]\u001b[0m\u001b[0;34m,\u001b[0m \u001b[0mlabel\u001b[0m\u001b[0;34m=\u001b[0m\u001b[0;34m'train'\u001b[0m\u001b[0;34m)\u001b[0m\u001b[0;34m\u001b[0m\u001b[0m\n\u001b[0m\u001b[1;32m      3\u001b[0m \u001b[0mplt\u001b[0m\u001b[0;34m.\u001b[0m\u001b[0mplot\u001b[0m\u001b[0;34m(\u001b[0m\u001b[0mtrain_data\u001b[0m\u001b[0;34m.\u001b[0m\u001b[0mhistory\u001b[0m\u001b[0;34m[\u001b[0m\u001b[0;34m'val_loss'\u001b[0m\u001b[0;34m]\u001b[0m\u001b[0;34m,\u001b[0m \u001b[0mlabel\u001b[0m\u001b[0;34m=\u001b[0m\u001b[0;34m'validation'\u001b[0m\u001b[0;34m)\u001b[0m\u001b[0;34m\u001b[0m\u001b[0m\n\u001b[1;32m      4\u001b[0m \u001b[0mplt\u001b[0m\u001b[0;34m.\u001b[0m\u001b[0mlegend\u001b[0m\u001b[0;34m(\u001b[0m\u001b[0;34m)\u001b[0m\u001b[0;34m\u001b[0m\u001b[0m\n\u001b[1;32m      5\u001b[0m \u001b[0mplt\u001b[0m\u001b[0;34m.\u001b[0m\u001b[0mshow\u001b[0m\u001b[0;34m(\u001b[0m\u001b[0;34m)\u001b[0m\u001b[0;34m\u001b[0m\u001b[0m\n",
            "\u001b[0;31mAttributeError\u001b[0m: 'Sequential' object has no attribute 'history'"
          ]
        }
      ]
    },
    {
      "cell_type": "code",
      "metadata": {
        "colab_type": "code",
        "outputId": "150b7434-db1a-4a81-c231-a0ee3f8cacd9",
        "id": "LoDH8Z4pHD8u",
        "colab": {
          "base_uri": "https://localhost:8080/",
          "height": 269
        }
      },
      "source": [
        "plt.plot(train_data.history['acc'], label='train')\n",
        "plt.plot(train_data.history['val_acc'], label='validation')\n",
        "plt.legend()\n",
        "plt.show()"
      ],
      "execution_count": 138,
      "outputs": [
        {
          "output_type": "display_data",
          "data": {
            "image/png": "[encoded data removed]",
            "text/plain": [
              "<Figure size 432x288 with 1 Axes>"
            ]
          },
          "metadata": {
            "tags": []
          }
        }
      ]
    },
    {
      "cell_type": "code",
      "metadata": {
        "colab_type": "code",
        "outputId": "eac92e35-a9f4-40d3-d88f-c67cc8578434",
        "id": "5VO57oftHD8y",
        "colab": {
          "base_uri": "https://localhost:8080/",
          "height": 197
        }
      },
      "source": [
        "model = load_model('3_class_model.h5')\n",
        "print('Test loss %.4f, acc %.4f' % tuple(model.evaluate(X_tst, ytst, verbose=0)))\n",
        "print('Train loss %.4f, acc %.4f' % tuple(model.evaluate(X_train, ytrain, verbose=0)))"
      ],
      "execution_count": 21,
      "outputs": [
        {
          "output_type": "error",
          "ename": "NameError",
          "evalue": "ignored",
          "traceback": [
            "\u001b[0;31m\u001b[0m",
            "\u001b[0;31mNameError\u001b[0mTraceback (most recent call last)",
            "\u001b[0;32m<ipython-input-21-7e7e2a4b0d71>\u001b[0m in \u001b[0;36m<module>\u001b[0;34m()\u001b[0m\n\u001b[1;32m      1\u001b[0m \u001b[0mmodel\u001b[0m \u001b[0;34m=\u001b[0m \u001b[0mload_model\u001b[0m\u001b[0;34m(\u001b[0m\u001b[0;34m'3_class_model.h5'\u001b[0m\u001b[0;34m)\u001b[0m\u001b[0;34m\u001b[0m\u001b[0m\n\u001b[0;32m----> 2\u001b[0;31m \u001b[0;32mprint\u001b[0m\u001b[0;34m(\u001b[0m\u001b[0;34m'Test loss %.4f, acc %.4f'\u001b[0m \u001b[0;34m%\u001b[0m \u001b[0mtuple\u001b[0m\u001b[0;34m(\u001b[0m\u001b[0mmodel\u001b[0m\u001b[0;34m.\u001b[0m\u001b[0mevaluate\u001b[0m\u001b[0;34m(\u001b[0m\u001b[0mX_tst\u001b[0m\u001b[0;34m,\u001b[0m \u001b[0mytst\u001b[0m\u001b[0;34m,\u001b[0m \u001b[0mverbose\u001b[0m\u001b[0;34m=\u001b[0m\u001b[0;36m0\u001b[0m\u001b[0;34m)\u001b[0m\u001b[0;34m)\u001b[0m\u001b[0;34m)\u001b[0m\u001b[0;34m\u001b[0m\u001b[0m\n\u001b[0m\u001b[1;32m      3\u001b[0m \u001b[0;32mprint\u001b[0m\u001b[0;34m(\u001b[0m\u001b[0;34m'Train loss %.4f, acc %.4f'\u001b[0m \u001b[0;34m%\u001b[0m \u001b[0mtuple\u001b[0m\u001b[0;34m(\u001b[0m\u001b[0mmodel\u001b[0m\u001b[0;34m.\u001b[0m\u001b[0mevaluate\u001b[0m\u001b[0;34m(\u001b[0m\u001b[0mX_train\u001b[0m\u001b[0;34m,\u001b[0m \u001b[0mytrain\u001b[0m\u001b[0;34m,\u001b[0m \u001b[0mverbose\u001b[0m\u001b[0;34m=\u001b[0m\u001b[0;36m0\u001b[0m\u001b[0;34m)\u001b[0m\u001b[0;34m)\u001b[0m\u001b[0;34m)\u001b[0m\u001b[0;34m\u001b[0m\u001b[0m\n",
            "\u001b[0;31mNameError\u001b[0m: name 'X_tst' is not defined"
          ]
        }
      ]
    },
    {
      "cell_type": "markdown",
      "metadata": {
        "id": "0SkJeM1pjJAn",
        "colab_type": "text"
      },
      "source": [
        "# Other"
      ]
    },
    {
      "cell_type": "code",
      "metadata": {
        "id": "efxemOuulyKH",
        "colab_type": "code",
        "colab": {
          "base_uri": "https://localhost:8080/",
          "height": 3264
        },
        "outputId": "0aeae6b8-e44c-41e3-e379-96423d27d4d2"
      },
      "source": [
        "model, data = get_model(3, data3C, data_3_class, 100, 5, 5)\n",
        "es = EarlyStopping(monitor='val_loss', mode='min', verbose='1', patience=50)\n",
        "chpt = ModelCheckpoint('3_class_model.h5', monitor='val_acc', mode='max', verbose=1, save_best_only=True)\n",
        "with tf.device('/gpu:0'):\n",
        "  train_data = model.fit(data[0], data[3], validation_data=[data[2], data[5]], epochs=200, batch_size=128, verbose=1, callbacks=[es, chpt])"
      ],
      "execution_count": 18,
      "outputs": [
        {
          "output_type": "stream",
          "text": [
            "('Vocabulary size:', 14438)\n",
            "('Longest review', 1831)\n",
            "('Unique tokens', 58435)\n",
            "('padded', (2523, 1831))\n",
            "('Embedding size', (58436, 101))\n",
            "_________________________________________________________________\n",
            "Layer (type)                 Output Shape              Param #   \n",
            "=================================================================\n",
            "embedding_3 (Embedding)      (None, 1831, 101)         5902036   \n",
            "_________________________________________________________________\n",
            "bidirectional_3 (Bidirection (None, 512)               735232    \n",
            "_________________________________________________________________\n",
            "dropout_3 (Dropout)          (None, 512)               0         \n",
            "_________________________________________________________________\n",
            "dense_3 (Dense)              (None, 3)                 1539      \n",
            "=================================================================\n",
            "Total params: 6,638,807\n",
            "Trainable params: 6,638,807\n",
            "Non-trainable params: 0\n",
            "_________________________________________________________________\n",
            "None\n",
            "Train on 1639 samples, validate on 442 samples\n",
            "Epoch 1/200\n",
            "1639/1639 [==============================] - 8s 5ms/step - loss: 1.1014 - acc: 0.3368 - val_loss: 1.1040 - val_acc: 0.2896\n",
            "\n",
            "Epoch 00001: val_acc improved from -inf to 0.28959, saving model to 3_class_model.h5\n",
            "Epoch 2/200\n",
            "1639/1639 [==============================] - 7s 4ms/step - loss: 1.0959 - acc: 0.3490 - val_loss: 1.1049 - val_acc: 0.2941\n",
            "\n",
            "Epoch 00002: val_acc improved from 0.28959 to 0.29412, saving model to 3_class_model.h5\n",
            "Epoch 3/200\n",
            "1639/1639 [==============================] - 7s 4ms/step - loss: 1.0919 - acc: 0.3655 - val_loss: 1.1035 - val_acc: 0.2964\n",
            "\n",
            "Epoch 00003: val_acc improved from 0.29412 to 0.29638, saving model to 3_class_model.h5\n",
            "Epoch 4/200\n",
            "1639/1639 [==============================] - 7s 4ms/step - loss: 1.0910 - acc: 0.3722 - val_loss: 1.1034 - val_acc: 0.3122\n",
            "\n",
            "Epoch 00004: val_acc improved from 0.29638 to 0.31222, saving model to 3_class_model.h5\n",
            "Epoch 5/200\n",
            "1639/1639 [==============================] - 7s 4ms/step - loss: 1.0879 - acc: 0.3899 - val_loss: 1.1031 - val_acc: 0.3281\n",
            "\n",
            "Epoch 00005: val_acc improved from 0.31222 to 0.32805, saving model to 3_class_model.h5\n",
            "Epoch 6/200\n",
            "1639/1639 [==============================] - 7s 5ms/step - loss: 1.0853 - acc: 0.3972 - val_loss: 1.1029 - val_acc: 0.3303\n",
            "\n",
            "Epoch 00006: val_acc improved from 0.32805 to 0.33032, saving model to 3_class_model.h5\n",
            "Epoch 7/200\n",
            "1639/1639 [==============================] - 7s 5ms/step - loss: 1.0824 - acc: 0.4070 - val_loss: 1.1023 - val_acc: 0.3552\n",
            "\n",
            "Epoch 00007: val_acc improved from 0.33032 to 0.35520, saving model to 3_class_model.h5\n",
            "Epoch 8/200\n",
            "1639/1639 [==============================] - 7s 5ms/step - loss: 1.0787 - acc: 0.4088 - val_loss: 1.1026 - val_acc: 0.3462\n",
            "\n",
            "Epoch 00008: val_acc did not improve from 0.35520\n",
            "Epoch 9/200\n",
            "1639/1639 [==============================] - 7s 4ms/step - loss: 1.0778 - acc: 0.4179 - val_loss: 1.1021 - val_acc: 0.3529\n",
            "\n",
            "Epoch 00009: val_acc did not improve from 0.35520\n",
            "Epoch 10/200\n",
            "1639/1639 [==============================] - 7s 5ms/step - loss: 1.0745 - acc: 0.4204 - val_loss: 1.1027 - val_acc: 0.3643\n",
            "\n",
            "Epoch 00010: val_acc improved from 0.35520 to 0.36425, saving model to 3_class_model.h5\n",
            "Epoch 11/200\n",
            "1639/1639 [==============================] - 8s 5ms/step - loss: 1.0725 - acc: 0.4246 - val_loss: 1.1028 - val_acc: 0.3484\n",
            "\n",
            "Epoch 00011: val_acc did not improve from 0.36425\n",
            "Epoch 12/200\n",
            "1639/1639 [==============================] - 7s 5ms/step - loss: 1.0692 - acc: 0.4399 - val_loss: 1.1025 - val_acc: 0.3439\n",
            "\n",
            "Epoch 00012: val_acc did not improve from 0.36425\n",
            "Epoch 13/200\n",
            "1639/1639 [==============================] - 7s 5ms/step - loss: 1.0685 - acc: 0.4289 - val_loss: 1.1024 - val_acc: 0.3462\n",
            "\n",
            "Epoch 00013: val_acc did not improve from 0.36425\n",
            "Epoch 14/200\n",
            "1639/1639 [==============================] - 7s 5ms/step - loss: 1.0665 - acc: 0.4436 - val_loss: 1.1034 - val_acc: 0.3710\n",
            "\n",
            "Epoch 00014: val_acc improved from 0.36425 to 0.37104, saving model to 3_class_model.h5\n",
            "Epoch 15/200\n",
            "1639/1639 [==============================] - 8s 5ms/step - loss: 1.0599 - acc: 0.4484 - val_loss: 1.1028 - val_acc: 0.3529\n",
            "\n",
            "Epoch 00015: val_acc did not improve from 0.37104\n",
            "Epoch 16/200\n",
            "1639/1639 [==============================] - 8s 5ms/step - loss: 1.0559 - acc: 0.4423 - val_loss: 1.1030 - val_acc: 0.3439\n",
            "\n",
            "Epoch 00016: val_acc did not improve from 0.37104\n",
            "Epoch 17/200\n",
            "1639/1639 [==============================] - 8s 5ms/step - loss: 1.0504 - acc: 0.4539 - val_loss: 1.1033 - val_acc: 0.3575\n",
            "\n",
            "Epoch 00017: val_acc did not improve from 0.37104\n",
            "Epoch 18/200\n",
            "1639/1639 [==============================] - 8s 5ms/step - loss: 1.0526 - acc: 0.4667 - val_loss: 1.1036 - val_acc: 0.3688\n",
            "\n",
            "Epoch 00018: val_acc did not improve from 0.37104\n",
            "Epoch 19/200\n",
            "1639/1639 [==============================] - 8s 5ms/step - loss: 1.0468 - acc: 0.4655 - val_loss: 1.1027 - val_acc: 0.3371\n",
            "\n",
            "Epoch 00019: val_acc did not improve from 0.37104\n",
            "Epoch 20/200\n",
            "1639/1639 [==============================] - 8s 5ms/step - loss: 1.0445 - acc: 0.4606 - val_loss: 1.1027 - val_acc: 0.3801\n",
            "\n",
            "Epoch 00020: val_acc improved from 0.37104 to 0.38009, saving model to 3_class_model.h5\n",
            "Epoch 21/200\n",
            "1639/1639 [==============================] - 8s 5ms/step - loss: 1.0419 - acc: 0.4686 - val_loss: 1.1001 - val_acc: 0.3756\n",
            "\n",
            "Epoch 00021: val_acc did not improve from 0.38009\n",
            "Epoch 22/200\n",
            "1639/1639 [==============================] - 8s 5ms/step - loss: 1.0321 - acc: 0.4710 - val_loss: 1.0987 - val_acc: 0.3756\n",
            "\n",
            "Epoch 00022: val_acc did not improve from 0.38009\n",
            "Epoch 23/200\n",
            "1639/1639 [==============================] - 8s 5ms/step - loss: 1.0319 - acc: 0.4820 - val_loss: 1.0964 - val_acc: 0.3801\n",
            "\n",
            "Epoch 00023: val_acc improved from 0.38009 to 0.38009, saving model to 3_class_model.h5\n",
            "Epoch 24/200\n",
            "1639/1639 [==============================] - 8s 5ms/step - loss: 1.0288 - acc: 0.4680 - val_loss: 1.0958 - val_acc: 0.3710\n",
            "\n",
            "Epoch 00024: val_acc did not improve from 0.38009\n",
            "Epoch 25/200\n",
            "1639/1639 [==============================] - 8s 5ms/step - loss: 1.0257 - acc: 0.4881 - val_loss: 1.0931 - val_acc: 0.3846\n",
            "\n",
            "Epoch 00025: val_acc improved from 0.38009 to 0.38462, saving model to 3_class_model.h5\n",
            "Epoch 26/200\n",
            "1639/1639 [==============================] - 8s 5ms/step - loss: 1.0187 - acc: 0.4985 - val_loss: 1.0915 - val_acc: 0.3914\n",
            "\n",
            "Epoch 00026: val_acc improved from 0.38462 to 0.39140, saving model to 3_class_model.h5\n",
            "Epoch 27/200\n",
            "1639/1639 [==============================] - 8s 5ms/step - loss: 1.0175 - acc: 0.4918 - val_loss: 1.0892 - val_acc: 0.3959\n",
            "\n",
            "Epoch 00027: val_acc improved from 0.39140 to 0.39593, saving model to 3_class_model.h5\n",
            "Epoch 28/200\n",
            "1639/1639 [==============================] - 8s 5ms/step - loss: 1.0173 - acc: 0.4851 - val_loss: 1.0862 - val_acc: 0.3688\n",
            "\n",
            "Epoch 00028: val_acc did not improve from 0.39593\n",
            "Epoch 29/200\n",
            "1639/1639 [==============================] - 8s 5ms/step - loss: 1.0111 - acc: 0.4869 - val_loss: 1.0846 - val_acc: 0.3869\n",
            "\n",
            "Epoch 00029: val_acc did not improve from 0.39593\n",
            "Epoch 30/200\n",
            "1639/1639 [==============================] - 8s 5ms/step - loss: 1.0037 - acc: 0.4912 - val_loss: 1.0842 - val_acc: 0.4005\n",
            "\n",
            "Epoch 00030: val_acc improved from 0.39593 to 0.40045, saving model to 3_class_model.h5\n",
            "Epoch 31/200\n",
            "1639/1639 [==============================] - 8s 5ms/step - loss: 1.0020 - acc: 0.4991 - val_loss: 1.0795 - val_acc: 0.3959\n",
            "\n",
            "Epoch 00031: val_acc did not improve from 0.40045\n",
            "Epoch 32/200\n",
            "1639/1639 [==============================] - 8s 5ms/step - loss: 0.9958 - acc: 0.4966 - val_loss: 1.0792 - val_acc: 0.3824\n",
            "\n",
            "Epoch 00032: val_acc did not improve from 0.40045\n",
            "Epoch 33/200\n",
            "1639/1639 [==============================] - 8s 5ms/step - loss: 0.9976 - acc: 0.5101 - val_loss: 1.0742 - val_acc: 0.3891\n",
            "\n",
            "Epoch 00033: val_acc did not improve from 0.40045\n",
            "Epoch 34/200\n",
            "1639/1639 [==============================] - 8s 5ms/step - loss: 0.9858 - acc: 0.5119 - val_loss: 1.0702 - val_acc: 0.3937\n",
            "\n",
            "Epoch 00034: val_acc did not improve from 0.40045\n",
            "Epoch 35/200\n",
            "1639/1639 [==============================] - 8s 5ms/step - loss: 0.9830 - acc: 0.5064 - val_loss: 1.0706 - val_acc: 0.4050\n",
            "\n",
            "Epoch 00035: val_acc improved from 0.40045 to 0.40498, saving model to 3_class_model.h5\n",
            "Epoch 36/200\n",
            "1639/1639 [==============================] - 8s 5ms/step - loss: 0.9785 - acc: 0.5247 - val_loss: 1.0662 - val_acc: 0.4027\n",
            "\n",
            "Epoch 00036: val_acc did not improve from 0.40498\n",
            "Epoch 37/200\n",
            "1639/1639 [==============================] - 8s 5ms/step - loss: 0.9851 - acc: 0.5119 - val_loss: 1.0660 - val_acc: 0.4072\n",
            "\n",
            "Epoch 00037: val_acc improved from 0.40498 to 0.40724, saving model to 3_class_model.h5\n",
            "Epoch 38/200\n",
            " 384/1639 [======>.......................] - ETA: 5s - loss: 0.9354 - acc: 0.5677"
          ],
          "name": "stdout"
        },
        {
          "output_type": "error",
          "ename": "KeyboardInterrupt",
          "evalue": "ignored",
          "traceback": [
            "\u001b[0;31m\u001b[0m",
            "\u001b[0;31mKeyboardInterrupt\u001b[0mTraceback (most recent call last)",
            "\u001b[0;32m<ipython-input-18-822a9013f65b>\u001b[0m in \u001b[0;36m<module>\u001b[0;34m()\u001b[0m\n\u001b[1;32m      3\u001b[0m \u001b[0mchpt\u001b[0m \u001b[0;34m=\u001b[0m \u001b[0mModelCheckpoint\u001b[0m\u001b[0;34m(\u001b[0m\u001b[0;34m'3_class_model.h5'\u001b[0m\u001b[0;34m,\u001b[0m \u001b[0mmonitor\u001b[0m\u001b[0;34m=\u001b[0m\u001b[0;34m'val_acc'\u001b[0m\u001b[0;34m,\u001b[0m \u001b[0mmode\u001b[0m\u001b[0;34m=\u001b[0m\u001b[0;34m'max'\u001b[0m\u001b[0;34m,\u001b[0m \u001b[0mverbose\u001b[0m\u001b[0;34m=\u001b[0m\u001b[0;36m1\u001b[0m\u001b[0;34m,\u001b[0m \u001b[0msave_best_only\u001b[0m\u001b[0;34m=\u001b[0m\u001b[0mTrue\u001b[0m\u001b[0;34m)\u001b[0m\u001b[0;34m\u001b[0m\u001b[0m\n\u001b[1;32m      4\u001b[0m \u001b[0;32mwith\u001b[0m \u001b[0mtf\u001b[0m\u001b[0;34m.\u001b[0m\u001b[0mdevice\u001b[0m\u001b[0;34m(\u001b[0m\u001b[0;34m'/gpu:0'\u001b[0m\u001b[0;34m)\u001b[0m\u001b[0;34m:\u001b[0m\u001b[0;34m\u001b[0m\u001b[0m\n\u001b[0;32m----> 5\u001b[0;31m   \u001b[0mtrain_data\u001b[0m \u001b[0;34m=\u001b[0m \u001b[0mmodel\u001b[0m\u001b[0;34m.\u001b[0m\u001b[0mfit\u001b[0m\u001b[0;34m(\u001b[0m\u001b[0mdata\u001b[0m\u001b[0;34m[\u001b[0m\u001b[0;36m0\u001b[0m\u001b[0;34m]\u001b[0m\u001b[0;34m,\u001b[0m \u001b[0mdata\u001b[0m\u001b[0;34m[\u001b[0m\u001b[0;36m3\u001b[0m\u001b[0;34m]\u001b[0m\u001b[0;34m,\u001b[0m \u001b[0mvalidation_data\u001b[0m\u001b[0;34m=\u001b[0m\u001b[0;34m[\u001b[0m\u001b[0mdata\u001b[0m\u001b[0;34m[\u001b[0m\u001b[0;36m2\u001b[0m\u001b[0;34m]\u001b[0m\u001b[0;34m,\u001b[0m \u001b[0mdata\u001b[0m\u001b[0;34m[\u001b[0m\u001b[0;36m5\u001b[0m\u001b[0;34m]\u001b[0m\u001b[0;34m]\u001b[0m\u001b[0;34m,\u001b[0m \u001b[0mepochs\u001b[0m\u001b[0;34m=\u001b[0m\u001b[0;36m200\u001b[0m\u001b[0;34m,\u001b[0m \u001b[0mbatch_size\u001b[0m\u001b[0;34m=\u001b[0m\u001b[0;36m128\u001b[0m\u001b[0;34m,\u001b[0m \u001b[0mverbose\u001b[0m\u001b[0;34m=\u001b[0m\u001b[0;36m1\u001b[0m\u001b[0;34m,\u001b[0m \u001b[0mcallbacks\u001b[0m\u001b[0;34m=\u001b[0m\u001b[0;34m[\u001b[0m\u001b[0mes\u001b[0m\u001b[0;34m,\u001b[0m \u001b[0mchpt\u001b[0m\u001b[0;34m]\u001b[0m\u001b[0;34m)\u001b[0m\u001b[0;34m\u001b[0m\u001b[0m\n\u001b[0m",
            "\u001b[0;32m/usr/local/lib/python2.7/dist-packages/keras/engine/training.pyc\u001b[0m in \u001b[0;36mfit\u001b[0;34m(self, x, y, batch_size, epochs, verbose, callbacks, validation_split, validation_data, shuffle, class_weight, sample_weight, initial_epoch, steps_per_epoch, validation_steps, **kwargs)\u001b[0m\n\u001b[1;32m   1037\u001b[0m                                         \u001b[0minitial_epoch\u001b[0m\u001b[0;34m=\u001b[0m\u001b[0minitial_epoch\u001b[0m\u001b[0;34m,\u001b[0m\u001b[0;34m\u001b[0m\u001b[0m\n\u001b[1;32m   1038\u001b[0m                                         \u001b[0msteps_per_epoch\u001b[0m\u001b[0;34m=\u001b[0m\u001b[0msteps_per_epoch\u001b[0m\u001b[0;34m,\u001b[0m\u001b[0;34m\u001b[0m\u001b[0m\n\u001b[0;32m-> 1039\u001b[0;31m                                         validation_steps=validation_steps)\n\u001b[0m\u001b[1;32m   1040\u001b[0m \u001b[0;34m\u001b[0m\u001b[0m\n\u001b[1;32m   1041\u001b[0m     def evaluate(self, x=None, y=None,\n",
            "\u001b[0;32m/usr/local/lib/python2.7/dist-packages/keras/engine/training_arrays.pyc\u001b[0m in \u001b[0;36mfit_loop\u001b[0;34m(model, f, ins, out_labels, batch_size, epochs, verbose, callbacks, val_f, val_ins, shuffle, callback_metrics, initial_epoch, steps_per_epoch, validation_steps)\u001b[0m\n\u001b[1;32m    197\u001b[0m                     \u001b[0mins_batch\u001b[0m\u001b[0;34m[\u001b[0m\u001b[0mi\u001b[0m\u001b[0;34m]\u001b[0m \u001b[0;34m=\u001b[0m \u001b[0mins_batch\u001b[0m\u001b[0;34m[\u001b[0m\u001b[0mi\u001b[0m\u001b[0;34m]\u001b[0m\u001b[0;34m.\u001b[0m\u001b[0mtoarray\u001b[0m\u001b[0;34m(\u001b[0m\u001b[0;34m)\u001b[0m\u001b[0;34m\u001b[0m\u001b[0m\n\u001b[1;32m    198\u001b[0m \u001b[0;34m\u001b[0m\u001b[0m\n\u001b[0;32m--> 199\u001b[0;31m                 \u001b[0mouts\u001b[0m \u001b[0;34m=\u001b[0m \u001b[0mf\u001b[0m\u001b[0;34m(\u001b[0m\u001b[0mins_batch\u001b[0m\u001b[0;34m)\u001b[0m\u001b[0;34m\u001b[0m\u001b[0m\n\u001b[0m\u001b[1;32m    200\u001b[0m                 \u001b[0mouts\u001b[0m \u001b[0;34m=\u001b[0m \u001b[0mto_list\u001b[0m\u001b[0;34m(\u001b[0m\u001b[0mouts\u001b[0m\u001b[0;34m)\u001b[0m\u001b[0;34m\u001b[0m\u001b[0m\n\u001b[1;32m    201\u001b[0m                 \u001b[0;32mfor\u001b[0m \u001b[0ml\u001b[0m\u001b[0;34m,\u001b[0m \u001b[0mo\u001b[0m \u001b[0;32min\u001b[0m \u001b[0mzip\u001b[0m\u001b[0;34m(\u001b[0m\u001b[0mout_labels\u001b[0m\u001b[0;34m,\u001b[0m \u001b[0mouts\u001b[0m\u001b[0;34m)\u001b[0m\u001b[0;34m:\u001b[0m\u001b[0;34m\u001b[0m\u001b[0m\n",
            "\u001b[0;32m/usr/local/lib/python2.7/dist-packages/keras/backend/tensorflow_backend.pyc\u001b[0m in \u001b[0;36m__call__\u001b[0;34m(self, inputs)\u001b[0m\n\u001b[1;32m   2713\u001b[0m                 \u001b[0;32mreturn\u001b[0m \u001b[0mself\u001b[0m\u001b[0;34m.\u001b[0m\u001b[0m_legacy_call\u001b[0m\u001b[0;34m(\u001b[0m\u001b[0minputs\u001b[0m\u001b[0;34m)\u001b[0m\u001b[0;34m\u001b[0m\u001b[0m\n\u001b[1;32m   2714\u001b[0m \u001b[0;34m\u001b[0m\u001b[0m\n\u001b[0;32m-> 2715\u001b[0;31m             \u001b[0;32mreturn\u001b[0m \u001b[0mself\u001b[0m\u001b[0;34m.\u001b[0m\u001b[0m_call\u001b[0m\u001b[0;34m(\u001b[0m\u001b[0minputs\u001b[0m\u001b[0;34m)\u001b[0m\u001b[0;34m\u001b[0m\u001b[0m\n\u001b[0m\u001b[1;32m   2716\u001b[0m         \u001b[0;32melse\u001b[0m\u001b[0;34m:\u001b[0m\u001b[0;34m\u001b[0m\u001b[0m\n\u001b[1;32m   2717\u001b[0m             \u001b[0;32mif\u001b[0m \u001b[0mpy_any\u001b[0m\u001b[0;34m(\u001b[0m\u001b[0mis_tensor\u001b[0m\u001b[0;34m(\u001b[0m\u001b[0mx\u001b[0m\u001b[0;34m)\u001b[0m \u001b[0;32mfor\u001b[0m \u001b[0mx\u001b[0m \u001b[0;32min\u001b[0m \u001b[0minputs\u001b[0m\u001b[0;34m)\u001b[0m\u001b[0;34m:\u001b[0m\u001b[0;34m\u001b[0m\u001b[0m\n",
            "\u001b[0;32m/usr/local/lib/python2.7/dist-packages/keras/backend/tensorflow_backend.pyc\u001b[0m in \u001b[0;36m_call\u001b[0;34m(self, inputs)\u001b[0m\n\u001b[1;32m   2673\u001b[0m             \u001b[0mfetched\u001b[0m \u001b[0;34m=\u001b[0m \u001b[0mself\u001b[0m\u001b[0;34m.\u001b[0m\u001b[0m_callable_fn\u001b[0m\u001b[0;34m(\u001b[0m\u001b[0;34m*\u001b[0m\u001b[0marray_vals\u001b[0m\u001b[0;34m,\u001b[0m \u001b[0mrun_metadata\u001b[0m\u001b[0;34m=\u001b[0m\u001b[0mself\u001b[0m\u001b[0;34m.\u001b[0m\u001b[0mrun_metadata\u001b[0m\u001b[0;34m)\u001b[0m\u001b[0;34m\u001b[0m\u001b[0m\n\u001b[1;32m   2674\u001b[0m         \u001b[0;32melse\u001b[0m\u001b[0;34m:\u001b[0m\u001b[0;34m\u001b[0m\u001b[0m\n\u001b[0;32m-> 2675\u001b[0;31m             \u001b[0mfetched\u001b[0m \u001b[0;34m=\u001b[0m \u001b[0mself\u001b[0m\u001b[0;34m.\u001b[0m\u001b[0m_callable_fn\u001b[0m\u001b[0;34m(\u001b[0m\u001b[0;34m*\u001b[0m\u001b[0marray_vals\u001b[0m\u001b[0;34m)\u001b[0m\u001b[0;34m\u001b[0m\u001b[0m\n\u001b[0m\u001b[1;32m   2676\u001b[0m         \u001b[0;32mreturn\u001b[0m \u001b[0mfetched\u001b[0m\u001b[0;34m[\u001b[0m\u001b[0;34m:\u001b[0m\u001b[0mlen\u001b[0m\u001b[0;34m(\u001b[0m\u001b[0mself\u001b[0m\u001b[0;34m.\u001b[0m\u001b[0moutputs\u001b[0m\u001b[0;34m)\u001b[0m\u001b[0;34m]\u001b[0m\u001b[0;34m\u001b[0m\u001b[0m\n\u001b[1;32m   2677\u001b[0m \u001b[0;34m\u001b[0m\u001b[0m\n",
            "\u001b[0;32m/usr/local/lib/python2.7/dist-packages/tensorflow/python/client/session.pyc\u001b[0m in \u001b[0;36m__call__\u001b[0;34m(self, *args, **kwargs)\u001b[0m\n\u001b[1;32m   1437\u001b[0m           ret = tf_session.TF_SessionRunCallable(\n\u001b[1;32m   1438\u001b[0m               \u001b[0mself\u001b[0m\u001b[0;34m.\u001b[0m\u001b[0m_session\u001b[0m\u001b[0;34m.\u001b[0m\u001b[0m_session\u001b[0m\u001b[0;34m,\u001b[0m \u001b[0mself\u001b[0m\u001b[0;34m.\u001b[0m\u001b[0m_handle\u001b[0m\u001b[0;34m,\u001b[0m \u001b[0margs\u001b[0m\u001b[0;34m,\u001b[0m \u001b[0mstatus\u001b[0m\u001b[0;34m,\u001b[0m\u001b[0;34m\u001b[0m\u001b[0m\n\u001b[0;32m-> 1439\u001b[0;31m               run_metadata_ptr)\n\u001b[0m\u001b[1;32m   1440\u001b[0m         \u001b[0;32mif\u001b[0m \u001b[0mrun_metadata\u001b[0m\u001b[0;34m:\u001b[0m\u001b[0;34m\u001b[0m\u001b[0m\n\u001b[1;32m   1441\u001b[0m           \u001b[0mproto_data\u001b[0m \u001b[0;34m=\u001b[0m \u001b[0mtf_session\u001b[0m\u001b[0;34m.\u001b[0m\u001b[0mTF_GetBuffer\u001b[0m\u001b[0;34m(\u001b[0m\u001b[0mrun_metadata_ptr\u001b[0m\u001b[0;34m)\u001b[0m\u001b[0;34m\u001b[0m\u001b[0m\n",
            "\u001b[0;31mKeyboardInterrupt\u001b[0m: "
          ]
        }
      ]
    },
    {
      "cell_type": "code",
      "metadata": {
        "id": "js5UHLnYqGd3",
        "colab_type": "code",
        "colab": {
          "base_uri": "https://localhost:8080/",
          "height": 51
        },
        "outputId": "9b01c946-f7ea-4fd4-e52d-f2b1f69a010e"
      },
      "source": [
        "model = load_model('3_class_model.h5')\n",
        "print('Test loss %.4f, acc %.4f' % tuple(model.evaluate(data[1], data[4], verbose=0)))\n",
        "print('Train loss %.4f, acc %.4f' % tuple(model.evaluate(data[0], data[3], verbose=0)))"
      ],
      "execution_count": 22,
      "outputs": [
        {
          "output_type": "stream",
          "text": [
            "Test loss 1.0822, acc 0.4072\n",
            "Train loss 0.9691, acc 0.5259\n"
          ],
          "name": "stdout"
        }
      ]
    },
    {
      "cell_type": "code",
      "metadata": {
        "id": "0xF31t7wqdR3",
        "colab_type": "code",
        "colab": {}
      },
      "source": [
        ""
      ],
      "execution_count": 0,
      "outputs": []
    }
  ]
}
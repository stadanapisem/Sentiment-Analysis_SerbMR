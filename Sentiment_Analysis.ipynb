{
  "nbformat": 4,
  "nbformat_minor": 0,
  "metadata": {
    "colab": {
      "name": "Sentiment Analysis.ipynb",
      "version": "0.3.2",
      "provenance": [],
      "collapsed_sections": [
        "yzNqvCUWwK82",
        "Lx3-o9SGw1Dl",
        "xnH-SuCD9UFU",
        "4jTQxqPuyo1t"
      ],
      "include_colab_link": true
    },
    "kernelspec": {
      "name": "python2",
      "display_name": "Python 2"
    },
    "accelerator": "GPU"
  },
  "cells": [
    {
      "cell_type": "markdown",
      "metadata": {
        "id": "view-in-github",
        "colab_type": "text"
      },
      "source": [
        "<a href=\"https://colab.research.google.com/github/stadanapisem/Sentiment-Analysis_SerbMR/blob/master/Sentiment_Analysis.ipynb\" target=\"_parent\"><img src=\"https://colab.research.google.com/assets/colab-badge.svg\" alt=\"Open In Colab\"/></a>"
      ]
    },
    {
      "cell_type": "code",
      "metadata": {
        "id": "FsxMscD_meDB",
        "colab_type": "code",
        "colab": {}
      },
      "source": [
        "import cPickle as pickle\n",
        "import numpy as np\n",
        "from sklearn import metrics\n",
        "from sklearn import naive_bayes\n",
        "from sklearn.model_selection import train_test_split\n",
        "from sklearn.feature_extraction.text import CountVectorizer\n",
        "from scipy.sparse import coo_matrix, hstack\n",
        "import matplotlib.pyplot as plt\n",
        "import seaborn as sns\n",
        "import pandas as pd\n",
        "\n",
        "import gensim\n",
        "\n",
        "from keras.models import Sequential\n",
        "from keras.layers.embeddings import Embedding\n",
        "from keras.layers import Dense, Embedding, CuDNNGRU, LSTM, CuDNNLSTM, Flatten, Bidirectional, Dropout, Conv1D, MaxPool1D\n",
        "from keras.initializers import Constant\n",
        "from keras.utils import to_categorical\n",
        "from tensorflow.python.keras.preprocessing.text import Tokenizer\n",
        "from tensorflow.python.keras.preprocessing.sequence import pad_sequences\n",
        "\n",
        "import tensorflow as tf\n",
        "\n",
        "import warnings\n",
        "\n",
        "%matplotlib inline\n",
        "plt.style.use('ggplot')\n",
        "warnings.filterwarnings('ignore')"
      ],
      "execution_count": 0,
      "outputs": []
    },
    {
      "cell_type": "markdown",
      "metadata": {
        "id": "TvzuyLx9Ut31",
        "colab_type": "text"
      },
      "source": [
        "# Data Loading\n",
        "\n",
        "* Loading the preprocessed input data. Preprocessing was done before due to the difficulties of running the neccessary tools on this platform. It consisted of a tokeniser and a lemmantiser.\n",
        "* Loading the sentiment lexicon\n"
      ]
    },
    {
      "cell_type": "code",
      "metadata": {
        "id": "t6jNf3D1V5AN",
        "colab_type": "code",
        "outputId": "37df4108-6e61-44d9-8b07-06a8e82df276",
        "colab": {
          "base_uri": "https://localhost:8080/",
          "height": 119
        }
      },
      "source": [
        "!git clone https://github.com/stadanapisem/Sentiment-Analysis_SerbMR.git"
      ],
      "execution_count": 3,
      "outputs": [
        {
          "output_type": "stream",
          "text": [
            "Cloning into 'Sentiment-Analysis_SerbMR'...\n",
            "remote: Enumerating objects: 18, done.\u001b[K\n",
            "remote: Counting objects: 100% (18/18), done.\u001b[K\n",
            "remote: Compressing objects: 100% (16/16), done.\u001b[K\n",
            "remote: Total 18 (delta 5), reused 10 (delta 2), pack-reused 0\u001b[K\n",
            "Unpacking objects: 100% (18/18), done.\n"
          ],
          "name": "stdout"
        }
      ]
    },
    {
      "cell_type": "code",
      "metadata": {
        "id": "Qap1tZNcnYA4",
        "colab_type": "code",
        "colab": {}
      },
      "source": [
        "with open('Sentiment-Analysis_SerbMR/lemmantised_SerbMR-2C.p') as f:\n",
        "  data2C = pickle.load(f)\n",
        "  "
      ],
      "execution_count": 0,
      "outputs": []
    },
    {
      "cell_type": "code",
      "metadata": {
        "id": "95szIQLxVRD2",
        "colab_type": "code",
        "colab": {}
      },
      "source": [
        "with open('Sentiment-Analysis_SerbMR/lemmantised_SerbMR-3C.p') as f:\n",
        "  data3C = pickle.load(f)"
      ],
      "execution_count": 0,
      "outputs": []
    },
    {
      "cell_type": "code",
      "metadata": {
        "id": "-WYkYbzpoLte",
        "colab_type": "code",
        "colab": {}
      },
      "source": [
        "with open('Sentiment-Analysis_SerbMR/sr.lexicon') as f:\n",
        "  lex = f.readlines()\n",
        "\n",
        "lexicon = {}\n",
        "for x in lex:\n",
        "  x = x.split()\n",
        "  lexicon[x[0].decode('utf8')] = int(x[1].strip())\n"
      ],
      "execution_count": 0,
      "outputs": []
    },
    {
      "cell_type": "markdown",
      "metadata": {
        "id": "XGl_B6Zt2R8V",
        "colab_type": "text"
      },
      "source": [
        "#### Utilities"
      ]
    },
    {
      "cell_type": "code",
      "metadata": {
        "id": "46TCO5L1d8Fh",
        "colab_type": "code",
        "colab": {}
      },
      "source": [
        "# from https://gist.github.com/shaypal5/94c53d765083101efc0240d776a23823\n",
        "def print_confusion_matrix(confusion_matrix, class_names, normalize=True, figsize = (5,4), fontsize=14):\n",
        "  \"\"\"Prints a confusion matrix, as returned by sklearn.metrics.confusion_matrix, as a heatmap.\n",
        "\n",
        "  Arguments\n",
        "  ---------\n",
        "  confusion_matrix: numpy.ndarray\n",
        "      The numpy.ndarray object returned from a call to sklearn.metrics.confusion_matrix. \n",
        "      Similarly constructed ndarrays can also be used.\n",
        "  class_names: list\n",
        "      An ordered list of class names, in the order they index the given confusion matrix.\n",
        "  figsize: tuple\n",
        "      A 2-long tuple, the first value determining the horizontal size of the ouputted figure,\n",
        "      the second determining the vertical size. Defaults to (10,7).\n",
        "  fontsize: int\n",
        "      Font size for axes labels. Defaults to 14.\n",
        "\n",
        "  Returns\n",
        "  -------\n",
        "  matplotlib.figure.Figure\n",
        "      The resulting confusion matrix figure\n",
        "  \"\"\"\n",
        "  if normalize:\n",
        "        confusion_matrix = confusion_matrix.astype('float') / confusion_matrix.sum(axis=1)[:, np.newaxis]\n",
        "       \n",
        "  df_cm = pd.DataFrame(\n",
        "      confusion_matrix, index=class_names, columns=class_names, \n",
        "  )\n",
        "  fig = plt.figure(figsize=figsize)\n",
        "  fmt = '.2f' if normalize else 'd'\n",
        "  try:\n",
        "      heatmap = sns.heatmap(df_cm, annot=True, fmt=fmt)\n",
        "  except ValueError:\n",
        "      raise ValueError(\"Confusion matrix values must be integers.\")\n",
        "  heatmap.yaxis.set_ticklabels(heatmap.yaxis.get_ticklabels(), rotation=0, ha='right', fontsize=fontsize)\n",
        "  heatmap.xaxis.set_ticklabels(heatmap.xaxis.get_ticklabels(), rotation=45, ha='right', fontsize=fontsize)\n",
        "  plt.ylabel('True label')\n",
        "  plt.xlabel('Predicted label')\n",
        "  fig.tight_layout()\n",
        "  plt.show()"
      ],
      "execution_count": 0,
      "outputs": []
    },
    {
      "cell_type": "markdown",
      "metadata": {
        "id": "c-y2pH1KwBVy",
        "colab_type": "text"
      },
      "source": [
        "## Train / Validation / Test split\n"
      ]
    },
    {
      "cell_type": "code",
      "metadata": {
        "id": "HOVGdmKrwH52",
        "colab_type": "code",
        "colab": {}
      },
      "source": [
        "def do_double_split(data, split):\n",
        "  examples = []\n",
        "  labels = []\n",
        "  \n",
        "  for row in data:\n",
        "      examples.append(u' '.join(row[0]))\n",
        "      labels.append(row[1])\n",
        "\n",
        "  return train_test_split(examples, labels, train_size=split, shuffle=True, stratify=labels)\n",
        "\n",
        "def do_tri_split(data):\n",
        "  X_train, X_test, y_train, y_test = do_double_split(data, 0.65)\n",
        "  X_validation, X_test, y_validation, y_test = train_test_split(X_test, y_test, train_size=0.5, shuffle=True, stratify=y_test)\n",
        "\n",
        "  return {\n",
        "      'Xtrain' : X_train,\n",
        "      'ytrain' : y_train,\n",
        "      'Xval' : X_validation,\n",
        "      'yval' : y_validation,\n",
        "      'Xtst' : X_test,\n",
        "      'ytst' : y_test\n",
        "  }"
      ],
      "execution_count": 0,
      "outputs": []
    },
    {
      "cell_type": "code",
      "metadata": {
        "id": "SJi7GorIxs88",
        "colab_type": "code",
        "colab": {}
      },
      "source": [
        "data_2_class = do_tri_split(data2C)\n",
        "data_3_class = do_tri_split(data3C)"
      ],
      "execution_count": 0,
      "outputs": []
    },
    {
      "cell_type": "markdown",
      "metadata": {
        "id": "yzNqvCUWwK82",
        "colab_type": "text"
      },
      "source": [
        "# Experiment 001\n",
        "Solution based only on the sentiment lexicon. The model is based on one parameter: limit. The average polarity of each sample is calculated (essentially wheather there are more positive or negative words). The prediction only takes into consideration if the calculated average is grater than the limit or not.\n"
      ]
    },
    {
      "cell_type": "markdown",
      "metadata": {
        "id": "udW3ZHjdXih2",
        "colab_type": "text"
      },
      "source": [
        "#### 2 Class"
      ]
    },
    {
      "cell_type": "code",
      "metadata": {
        "id": "O3XDrEpIqA_X",
        "colab_type": "code",
        "outputId": "a3e799a5-0b44-4bcb-c242-89bd4b130fef",
        "colab": {
          "base_uri": "https://localhost:8080/",
          "height": 416
        }
      },
      "source": [
        "# LIMIT = 0.077\n",
        "\n",
        "def run(data, LIMIT):\n",
        "  results = []\n",
        "  for row in data:\n",
        "    words = row.split(' ')\n",
        "    polarity = []\n",
        "    for w in words:\n",
        "      polarity.append(lexicon.get(w, 0))\n",
        "\n",
        "    if np.mean(polarity) > LIMIT:\n",
        "      results.append(1)\n",
        "    else: results.append(-1)\n",
        "\n",
        "  return results\n",
        "\n",
        "data = do_double_split(data2C, 0.8)\n",
        "# print(len(data[2]), len(data[0]))\n",
        "max_acc = -1\n",
        "res = -1\n",
        "\n",
        "for LIMIT in np.arange(0.05, 0.1, 0.0002):\n",
        "  results = run(data[0], LIMIT)\n",
        "  acc = metrics.accuracy_score(data[2], results)\n",
        "\n",
        "  if acc > max_acc:\n",
        "    max_acc = acc\n",
        "    res = LIMIT\n",
        "\n",
        "print('Training accuracy:', max_acc)\n",
        "print('Model limit:', res)\n",
        "\n",
        "results = run(data[1], res)\n",
        "\n",
        "print ('Evaluation')\n",
        "print('Accuracy', metrics.accuracy_score(data[3], results))\n",
        "# print(metrics.confusion_matrix(data[3], results))\n",
        "print('F1 Score', metrics.f1_score(data[3], results))\n",
        "  \n",
        "print_confusion_matrix(metrics.confusion_matrix(data[3], results), [\"-1\", \"1\"])"
      ],
      "execution_count": 71,
      "outputs": [
        {
          "output_type": "stream",
          "text": [
            "('Training F1:', 0.5724907063197026)\n",
            "('Model limit:', 0.07540000000000073)\n",
            "Evaluation\n",
            "0.5816023738872403\n",
            "[[118  50]\n",
            " [ 91  78]]\n",
            "0.5252525252525252\n"
          ],
          "name": "stdout"
        },
        {
          "output_type": "display_data",
          "data": {
            "image/png": "[encoded data removed]",
            "text/plain": [
              "<Figure size 360x288 with 2 Axes>"
            ]
          },
          "metadata": {
            "tags": []
          }
        }
      ]
    },
    {
      "cell_type": "markdown",
      "metadata": {
        "id": "N5FFMIcuX4NM",
        "colab_type": "text"
      },
      "source": [
        "#### 3 Class"
      ]
    },
    {
      "cell_type": "code",
      "metadata": {
        "id": "D6pcRtBAX6iD",
        "colab_type": "code",
        "outputId": "f3d16eed-9063-4a75-81a3-65b42de8d62f",
        "colab": {
          "base_uri": "https://localhost:8080/",
          "height": 365
        }
      },
      "source": [
        "def run(data, posLIMIT, negLIMIT):\n",
        "  results = []\n",
        "  for row in data:\n",
        "    words = row.split(' ')\n",
        "    polarity = []\n",
        "    for w in words:\n",
        "      polarity.append(lexicon.get(w, 0))\n",
        "\n",
        "    mean_pol = np.mean(polarity)\n",
        "    if mean_pol >= posLIMIT:\n",
        "      results.append(1)\n",
        "    elif mean_pol <= negLIMIT: \n",
        "      results.append(-1)\n",
        "    else:\n",
        "      results.append(0)\n",
        "\n",
        "  return results\n",
        "\n",
        "# posLIMIT = 0.45\n",
        "# negLIMIT = 0.05\n",
        "data = do_double_split(data3C, 0.8)\n",
        "\n",
        "max_acc = 0\n",
        "res_min = -1\n",
        "res_max = -1\n",
        "\n",
        "for posLIMIT in np.arange(0.04, 0.15, 0.0005):\n",
        "  for negLIMIT in np.arange(-0.1, 0.04, 0.005):\n",
        "    results = run(data[0], posLIMIT, negLIMIT)\n",
        "\n",
        "    acc = metrics.accuracy_score(data[2], results)\n",
        "    \n",
        "    if acc > max_acc:\n",
        "      max_acc = acc\n",
        "      res_min = negLIMIT\n",
        "      res_max = posLIMIT\n",
        "    \n",
        "print('Training accuracy:', max_acc)\n",
        "print('Model neg and pos limit:', res_min, res_max)\n",
        "    \n",
        "results = run(data[1], res_max, res_min)\n",
        "    \n",
        "print('Evaluation')\n",
        "print('Accuracy', metrics.accuracy_score(data[3], results))\n",
        "# print(metrics.confusion_matrix(data[3], results))\n",
        "print_confusion_matrix(metrics.confusion_matrix(data[3], results), [\"-1\", \"0\", \"1\"])"
      ],
      "execution_count": 21,
      "outputs": [
        {
          "output_type": "stream",
          "text": [
            "('Training accuracy:', 0.3810703666997027)\n",
            "('Model neg and pos limit:', 0.05800000000000002, 0.07800000000000001)\n",
            "Evaluation\n",
            "('Accuracy', 0.41188118811881186)\n"
          ],
          "name": "stdout"
        },
        {
          "output_type": "display_data",
          "data": {
            "image/png": "[encoded data removed]",
            "text/plain": [
              "<Figure size 360x288 with 2 Axes>"
            ]
          },
          "metadata": {
            "tags": []
          }
        }
      ]
    },
    {
      "cell_type": "markdown",
      "metadata": {
        "id": "Lx3-o9SGw1Dl",
        "colab_type": "text"
      },
      "source": [
        "# Experiment 002\n",
        "\n",
        "Solution based only on the sentiment lexicon, however this time it takes into consideration the ratio of positive / negative and the total number of words in the example."
      ]
    },
    {
      "cell_type": "markdown",
      "metadata": {
        "id": "AVzL9cUKX0dX",
        "colab_type": "text"
      },
      "source": [
        "#### 2 Class"
      ]
    },
    {
      "cell_type": "code",
      "metadata": {
        "id": "daAcd-1txSd_",
        "colab_type": "code",
        "outputId": "32bf72a9-8e1f-490a-8c8d-bbb34fae0c35",
        "colab": {
          "base_uri": "https://localhost:8080/",
          "height": 314
        }
      },
      "source": [
        "results = []\n",
        "for row in data2C:\n",
        "  words = row[0]\n",
        "  polarity = []\n",
        "  for w in words:\n",
        "    polarity.append(lexicon.get(w, 0))\n",
        "  \n",
        "  counts = dict(zip(*np.unique(polarity, return_counts=True)))\n",
        "#   print(counts)\n",
        "  total_words = counts[-1] + counts[0] + counts[1]\n",
        "  ratio_pos = counts[1] / total_words\n",
        "  ratio_neg = counts[-1] / total_words\n",
        "  \n",
        "  if ratio_pos > ratio_neg:\n",
        "    results.append(1)\n",
        "  else: results.append(-1)\n",
        "    \n",
        "print(metrics.accuracy_score([x[1] for x in data2C], results))\n",
        "# print(metrics.confusion_matrix([x[1] for x in data2C], results))\n",
        "print_confusion_matrix(metrics.confusion_matrix([x[1] for x in data2C], results), [\"-1\", \"1\"])"
      ],
      "execution_count": 24,
      "outputs": [
        {
          "output_type": "stream",
          "text": [
            "0.5\n"
          ],
          "name": "stdout"
        },
        {
          "output_type": "display_data",
          "data": {
            "image/png": "[encoded data removed]",
            "text/plain": [
              "<Figure size 360x288 with 2 Axes>"
            ]
          },
          "metadata": {
            "tags": []
          }
        }
      ]
    },
    {
      "cell_type": "markdown",
      "metadata": {
        "id": "-gSB7RMEZEAG",
        "colab_type": "text"
      },
      "source": [
        "#### 3 Class"
      ]
    },
    {
      "cell_type": "code",
      "metadata": {
        "id": "LH8rDdRKZF2Q",
        "colab_type": "code",
        "outputId": "4a7e48f9-7d42-49c4-b4df-adc8f6a2e8f9",
        "colab": {
          "base_uri": "https://localhost:8080/",
          "height": 314
        }
      },
      "source": [
        "results = []\n",
        "for row in data3C:\n",
        "  words = row[0]\n",
        "  polarity = []\n",
        "  for w in words:\n",
        "    polarity.append(lexicon.get(w, 0))\n",
        "  \n",
        "  counts = dict(zip(*np.unique(polarity, return_counts=True)))\n",
        "#   print(counts)\n",
        "  total_words = counts[-1] + counts[0] + counts[1]\n",
        "  ratio_pos = counts[1] / total_words\n",
        "  ratio_neg = counts[-1] / total_words\n",
        "  \n",
        "  if ratio_pos > ratio_neg:\n",
        "    results.append(1)\n",
        "  else: results.append(-1)\n",
        "    \n",
        "print(metrics.accuracy_score([x[1] for x in data3C], results))\n",
        "# print(metrics.confusion_matrix([x[1] for x in data3C], results))\n",
        "print_confusion_matrix(metrics.confusion_matrix([x[1] for x in data3C], results), [\"-1\", \"0\", \"1\"])"
      ],
      "execution_count": 25,
      "outputs": [
        {
          "output_type": "stream",
          "text": [
            "0.3333333333333333\n"
          ],
          "name": "stdout"
        },
        {
          "output_type": "display_data",
          "data": {
            "image/png": "[encoded data removed]",
            "text/plain": [
              "<Figure size 360x288 with 2 Axes>"
            ]
          },
          "metadata": {
            "tags": []
          }
        }
      ]
    },
    {
      "cell_type": "markdown",
      "metadata": {
        "id": "xnH-SuCD9UFU",
        "colab_type": "text"
      },
      "source": [
        "# Feature Extraction\n"
      ]
    },
    {
      "cell_type": "code",
      "metadata": {
        "id": "5xhCMB1S9TBN",
        "colab_type": "code",
        "colab": {}
      },
      "source": [
        "def polarity_counts(data, posLIMIT, negLIMIT, skip = 1):\n",
        "  words = data.split(' ')\n",
        "  polarity = []\n",
        "  for word in map(None, *(iter(words),) * skip):\n",
        "    pol = []\n",
        "\n",
        "    if skip == 1:\n",
        "      word = [word]\n",
        "      \n",
        "    for w in word:\n",
        "      if w:\n",
        "        pol.append(lexicon.get(w, 0))\n",
        "      else:\n",
        "        break\n",
        "    \n",
        "    if np.mean(pol) >= posLIMIT:\n",
        "      polarity.append(1)\n",
        "    elif np.mean(pol) <= negLIMIT:\n",
        "      polarity.append(-1)\n",
        "    else:\n",
        "      polarity.append(0)\n",
        "  \n",
        "  counts = dict(zip(*np.unique(polarity, return_counts=True)))\n",
        "#   print(counts)\n",
        "  return [counts.get(-1, 0), counts.get(0, 0), counts.get(1, 0)]\n",
        "\n",
        "def create_feature_vector(data, posLIMIT, negLIMIT):\n",
        "  features = []\n",
        "  for example in data:\n",
        "    features += [polarity_counts(example, posLIMIT, negLIMIT) + polarity_counts(example, posLIMIT, negLIMIT, skip=2) + polarity_counts(example, posLIMIT, negLIMIT, skip=3)]\n",
        "    \n",
        "  return np.array(features)\n",
        "  "
      ],
      "execution_count": 0,
      "outputs": []
    },
    {
      "cell_type": "code",
      "metadata": {
        "id": "uyVUmUY1Cq9m",
        "colab_type": "code",
        "colab": {
          "base_uri": "https://localhost:8080/",
          "height": 68
        },
        "outputId": "cbb6fab8-0541-4e79-d4e9-28762a82e14e"
      },
      "source": [
        "data = data_2_class\n",
        "\n",
        "asd = create_feature_vector(data['Xtst'][:3], 0.004, 0.004)\n",
        "print(asd)\n",
        "# for feat in asd:\n",
        "#   print feat"
      ],
      "execution_count": 11,
      "outputs": [
        {
          "output_type": "stream",
          "text": [
            "[[418   0  65 185   0  57 110   0  51]\n",
            " [280   0  35 125   0  33  73   0  32]\n",
            " [118   0  13  55   0  11  34   0  10]]\n"
          ],
          "name": "stdout"
        }
      ]
    },
    {
      "cell_type": "markdown",
      "metadata": {
        "id": "4jTQxqPuyo1t",
        "colab_type": "text"
      },
      "source": [
        "# Experiment 003\n",
        "Baseline model using multinomial naive Bayes\n",
        "\n",
        "Bag of words"
      ]
    },
    {
      "cell_type": "code",
      "metadata": {
        "id": "TNwtJsU_Jg75",
        "colab_type": "code",
        "colab": {
          "base_uri": "https://localhost:8080/",
          "height": 399
        },
        "outputId": "f0f8abc1-6bab-4f9b-8a82-00db87b6cb5b"
      },
      "source": [
        "data = data_2_class.copy()\n",
        "\n",
        "model = naive_bayes.MultinomialNB()\n",
        "\n",
        "max_acc = 0\n",
        "res = -1\n",
        "\n",
        "for LIMIT in [0, 0.3, 0.5, 0.7]:\n",
        "  X_train = create_feature_vector(data['Xtrain'], LIMIT, LIMIT)\n",
        "  X_val = create_feature_vector(data['Xval'], LIMIT, LIMIT)\n",
        "  \n",
        "  model = model.fit(X=X_train, y=data['ytrain'])\n",
        "  acc = metrics.accuracy_score(data['yval'], model.predict(X_val))\n",
        "  print(acc)\n",
        "  if acc > max_acc:\n",
        "    max_acc = acc\n",
        "    res = LIMIT\n",
        "\n",
        "print('Train accuracy', max_acc)\n",
        "\n",
        "X_train = create_feature_vector(data['Xtrain'], res, res)\n",
        "model = model.fit(X=X_train, y=data['ytrain'])\n",
        "\n",
        "X_tst = create_feature_vector(data['Xtst'], res, res)\n",
        "predictions = model.predict(X_tst)\n",
        "\n",
        "print('Evaluation')\n",
        "print(metrics.accuracy_score(data['ytst'], predictions))\n",
        "print(metrics.confusion_matrix(data['ytst'], predictions))\n",
        "print_confusion_matrix(metrics.confusion_matrix(data['ytst'], predictions), [\"-1\", \"1\"])"
      ],
      "execution_count": 76,
      "outputs": [
        {
          "output_type": "stream",
          "text": [
            "0.5170068027210885\n",
            "('Train accuracy', 0.5170068027210885)\n",
            "Evaluation\n",
            "0.5186440677966102\n",
            "[[86 61]\n",
            " [81 67]]\n"
          ],
          "name": "stdout"
        },
        {
          "output_type": "display_data",
          "data": {
            "image/png": "[encoded data removed]",
            "text/plain": [
              "<Figure size 360x288 with 2 Axes>"
            ]
          },
          "metadata": {
            "tags": []
          }
        }
      ]
    },
    {
      "cell_type": "markdown",
      "metadata": {
        "id": "5ZMJaG7_WSwm",
        "colab_type": "text"
      },
      "source": [
        "#### 3 Class"
      ]
    },
    {
      "cell_type": "code",
      "metadata": {
        "id": "PuTkAuKdWUmG",
        "colab_type": "code",
        "colab": {}
      },
      "source": [
        "data = data_3_class.copy()\n",
        "\n",
        "model = naive_bayes.MultinomialNB()\n",
        "\n",
        "max_acc = 0\n",
        "res = -1\n",
        "\n",
        "for posLIMIT in [0.03, 0.05, 0.0754, 0.097]:\n",
        "  for negLIMIT in [-0.03, 0, 0.03, 0.058, 0.07]:\n",
        "    if negLIMIT > posLIMIT:\n",
        "      negLIMIT, posLIMIT = posLIMIT, negLIMIT\n",
        "\n",
        "    X_train = create_feature_vector(data['Xtrain'], posLIMIT, negLIMIT)\n",
        "    X_val = create_feature_vector(data['Xval'], posLIMIT, negLIMIT)\n",
        "\n",
        "    model = model.fit(X=X_train, y=data['ytrain'])\n",
        "    acc = metrics.accuracy_score(data['yval'], model.predict(X_val))\n",
        "    if acc > max_acc:\n",
        "      max_acc = acc\n",
        "      res = (posLIMIT, negLIMIT)\n",
        "\n",
        "print('Train accuracy', max_acc)\n",
        "\n",
        "if res[1] > res[0]:\n",
        "  res = (res[0], res[1])\n",
        "\n",
        "X_train = create_feature_vector(data['Xtrain'], res[0], res[1])\n",
        "model = model.fit(X=X_train, y=data['ytrain'])\n",
        "\n",
        "X_tst = create_feature_vector(data['Xtst'], res[0], res[1])\n",
        "predictions = model.predict(X_tst)\n",
        "\n",
        "print('Evaluation')\n",
        "print(metrics.accuracy_score(data['ytst'], predictions))\n",
        "print(metrics.confusion_matrix(data['ytst'], predictions))\n",
        "print_confusion_matrix(metrics.confusion_matrix(data['ytst'], predictions), [\"-1\", \"0\", \"1\"])"
      ],
      "execution_count": 0,
      "outputs": []
    },
    {
      "cell_type": "markdown",
      "metadata": {
        "id": "U1h-qIR39Ygt",
        "colab_type": "text"
      },
      "source": [
        "#### 2 Class"
      ]
    },
    {
      "cell_type": "code",
      "metadata": {
        "id": "AHHKESGiyoYW",
        "colab_type": "code",
        "colab": {
          "base_uri": "https://localhost:8080/",
          "height": 51
        },
        "outputId": "af9c0207-e6e3-4ed7-e310-3d9cbd0b4161"
      },
      "source": [
        "data = list(data2C)\n",
        "# print(data2C[1][0])\n",
        "vectoriser = CountVectorizer()\n",
        "examples = vectoriser.fit_transform([u\" \".join(x[0]) for x in data])\n",
        "examples = hstack([examples, coo_matrix(create_feature_vector([\" \".join(x[0]) for x in data], 0, 0))])\n",
        "\n",
        "labels = [x[1] for x in data]\n",
        "  \n",
        "X_train, X_test, ytrain, ytest = train_test_split(examples, labels, train_size=0.8, shuffle=True, stratify=labels)\n",
        "model = naive_bayes.MultinomialNB()\n",
        "\n",
        "\n",
        "model = model.fit(X=X_train, y=ytrain)\n",
        "y_pred = model.predict(X_test)\n",
        "\n",
        "print(metrics.accuracy_score(ytrain, model.predict(X_train)))\n",
        "print(metrics.accuracy_score(ytest, y_pred))"
      ],
      "execution_count": 33,
      "outputs": [
        {
          "output_type": "stream",
          "text": [
            "0.9977695167286246\n",
            "0.7744807121661721\n"
          ],
          "name": "stdout"
        }
      ]
    },
    {
      "cell_type": "markdown",
      "metadata": {
        "id": "TYBky-Ndi4gf",
        "colab_type": "text"
      },
      "source": [
        "#### 3 Class"
      ]
    },
    {
      "cell_type": "code",
      "metadata": {
        "id": "T8_bFxMDi4Av",
        "colab_type": "code",
        "colab": {
          "base_uri": "https://localhost:8080/",
          "height": 51
        },
        "outputId": "4bea1a2d-8b19-44a3-ccf7-4966ca160328"
      },
      "source": [
        "data = list(data3C)\n",
        "# print(data2C[1][0])\n",
        "vectoriser = CountVectorizer()\n",
        "examples = vectoriser.fit_transform([u\" \".join(x[0]) for x in data])\n",
        "examples = hstack([examples, coo_matrix(create_feature_vector([\" \".join(x[0]) for x in data], 0.01, 0.05))])\n",
        "\n",
        "labels = [x[1] for x in data]\n",
        "  \n",
        "X_train, X_test, ytrain, ytest = train_test_split(examples, labels, train_size=0.65, shuffle=True, stratify=labels)\n",
        "model = naive_bayes.MultinomialNB()\n",
        "\n",
        "\n",
        "model = model.fit(X=X_train, y=ytrain)\n",
        "y_pred = model.predict(X_test)\n",
        "\n",
        "print(metrics.accuracy_score(ytrain, model.predict(X_train)))\n",
        "print(metrics.accuracy_score(ytest, y_pred))"
      ],
      "execution_count": 43,
      "outputs": [
        {
          "output_type": "stream",
          "text": [
            "0.9975594874923734\n",
            "0.5633484162895928\n"
          ],
          "name": "stdout"
        }
      ]
    },
    {
      "cell_type": "markdown",
      "metadata": {
        "id": "kehjEtPtjDn4",
        "colab_type": "text"
      },
      "source": [
        "# Experiment 005"
      ]
    },
    {
      "cell_type": "markdown",
      "metadata": {
        "id": "ZNDBsT3MCM8s",
        "colab_type": "text"
      },
      "source": [
        "#### 2 Class"
      ]
    },
    {
      "cell_type": "code",
      "metadata": {
        "id": "4IOpiNdljHxD",
        "colab_type": "code",
        "colab": {
          "base_uri": "https://localhost:8080/",
          "height": 71
        },
        "outputId": "8f76b759-4362-4971-9bdf-8d8cbb3f5662"
      },
      "source": [
        "data = list(data2C)\n",
        "\n",
        "EMBEDDING_DIM = 200\n",
        "\n",
        "examples = [x[0] for x in data]\n",
        "\n",
        "model = gensim.models.Word2Vec(sentences=examples, size=EMBEDDING_DIM, window=3, min_count=10, workers=2, iter=10)\n",
        "words = list(model.wv.vocab)\n",
        "print(len(words))\n",
        "print(model.wv.most_similar('dobar'))\n",
        "\n",
        "model.wv.save_word2vec_format('word2vec_2_class.txt')"
      ],
      "execution_count": 201,
      "outputs": [
        {
          "output_type": "stream",
          "text": [
            "6299\n",
            "[(u'lo\\u0161', 0.7990124225616455), (u'redak', 0.6578468084335327), (u'slab', 0.6495852470397949), (u'va\\u017ean', 0.6244736313819885), (u'lep', 0.6136060953140259), (u'remek', 0.6055824160575867), (u'vrhunski', 0.5690031051635742), (u'pozitivan', 0.5637873411178589), (u'bitan', 0.5603445768356323), (u'genijalan', 0.5583980083465576)]\n"
          ],
          "name": "stdout"
        }
      ]
    },
    {
      "cell_type": "code",
      "metadata": {
        "id": "hgoJ7Agn0Yu_",
        "colab_type": "code",
        "colab": {}
      },
      "source": [
        "wordvectors = {}\n",
        "with open('word2vec_2_class.txt') as f:\n",
        "  vocab_size = int(f.readline().split()[0])\n",
        "  \n",
        "  for line in f:\n",
        "    vals = line.split()\n",
        "    wordvectors[vals[0]] = np.asarray(vals[1:], dtype=np.float)"
      ],
      "execution_count": 0,
      "outputs": []
    },
    {
      "cell_type": "code",
      "metadata": {
        "id": "LIEbMQQnO3DX",
        "colab_type": "code",
        "colab": {
          "base_uri": "https://localhost:8080/",
          "height": 51
        },
        "outputId": "5989446e-15e5-4880-acb5-5ff381ffb5fb"
      },
      "source": [
        "data = data_2_class.copy()\n",
        "tokenizer = Tokenizer()\n",
        "\n",
        "all_examples = data['Xtrain'] + data['Xtst'] + data['Xval']\n",
        "all_labels = list(map(lambda x: 0 if x == -1 else 1, data['ytrain'] + data['ytst'] + data['yval']))\n",
        "tokenizer.fit_on_texts(all_examples)\n",
        "seq = tokenizer.texts_to_sequences(all_examples)\n",
        "\n",
        "longest_example = max([len(x.split()) for x in all_examples])\n",
        "vocab_size = len(tokenizer.word_index) + 1\n",
        "\n",
        "seq_padded = pad_sequences(seq, maxlen=longest_example)\n",
        "\n",
        "print('Unique tokens', len(tokenizer.word_index))\n",
        "print('padded', seq_padded.shape)\n",
        "# model.fit([x[0] for x in data2C[:5]], [x[1] for x in data2C[:5]], verbose=2)"
      ],
      "execution_count": 203,
      "outputs": [
        {
          "output_type": "stream",
          "text": [
            "('Unique tokens', 47236)\n",
            "('padded', (1682, 1831))\n"
          ],
          "name": "stdout"
        }
      ]
    },
    {
      "cell_type": "code",
      "metadata": {
        "id": "08X1IeHlsd2w",
        "colab_type": "code",
        "colab": {
          "base_uri": "https://localhost:8080/",
          "height": 88
        },
        "outputId": "4c0f38d8-80e3-4e73-8530-53511b57a072"
      },
      "source": [
        "print(seq[0], all_labels[0])\n",
        "print(model.wv.most_similar(tokenizer.index_word.items()[1127][1]))\n",
        "print(data['Xtrain'][0])"
      ],
      "execution_count": 204,
      "outputs": [
        {
          "output_type": "stream",
          "text": [
            "([682, 1172, 1034, 1, 21, 16, 3023, 2, 11166, 301, 682, 60, 75, 3741, 700, 2568, 11167, 1, 2, 129, 463, 21, 16, 40, 171, 4, 623, 400, 1769, 9637, 2, 1222, 5, 24, 82, 48, 23185, 16759, 4, 301, 2339, 635, 11168, 1, 22, 1838, 157, 4, 36, 75, 6885, 2929, 11, 13, 163, 1074, 301, 488, 2, 1060, 23186, 679, 23187, 87, 1, 352, 75, 7614, 4, 394, 16760, 186, 336, 1075, 7615, 5, 13, 13382, 4, 53, 2, 400, 1770, 16761, 16, 1280, 75, 5, 1, 32, 152, 682, 1, 113, 7616, 91, 17, 2, 400, 9, 9637, 6, 47, 58, 14, 194, 3, 2110, 2169, 1337, 2, 460, 9, 94, 1, 460, 1280, 75, 1172, 1034, 48, 1487, 4, 425, 1, 612, 21, 45, 1362, 301, 1664, 173, 4, 110, 1, 124, 6, 26, 858, 23188, 2828, 2, 9638, 3148, 720, 7, 1172, 1034, 1809, 16762, 427, 415, 4095, 7617, 295, 6, 7618, 4, 3149, 1771, 1418, 2, 330, 6, 2220, 790, 1250, 943, 20, 257, 1, 9, 2, 1, 453, 208, 1281, 153, 150, 4095, 2170, 2, 4284, 3742, 4285, 4286, 233, 17, 104, 841, 3904, 926, 8489, 2, 1924, 480, 5, 1488, 4, 22, 1238, 1602, 4, 7, 18, 3429, 16, 295, 19, 1282, 488, 1, 438, 13, 4287, 2569, 2, 7619, 6, 5, 842, 1772, 4, 581, 10, 3292, 446, 23189, 1769, 13383, 1, 10, 228, 2414, 2, 4, 731, 717, 1, 251, 9639, 301, 602, 13, 506, 2655, 58, 20, 1, 737, 146, 6886, 65, 5, 4, 7, 536, 2829, 4786, 6, 4, 597, 2415, 52, 4096, 74, 122, 576, 2570, 4517, 9640, 636, 752, 5430, 2007, 106, 27, 352, 75, 2, 10, 228, 1, 32, 86, 737, 77, 1, 25, 533, 4, 2571, 9641, 9642, 23190, 15, 1190, 503, 6297, 11169, 47, 59, 87, 4097, 290, 1925, 6887, 9643, 850, 13384, 382, 6, 1173, 107, 2572, 8490, 23191, 2, 9644, 16763, 16764, 6888, 4, 2281, 174, 1, 3, 1, 2741, 51, 122, 8, 408, 8, 563, 4, 7, 24, 59, 23192, 23193, 23194, 2, 6889, 4098, 23195, 3743, 23196, 4, 1153, 1521, 1, 8491, 5090, 1262, 4, 163, 1522, 411, 4, 6298, 534, 20, 62, 7, 415, 211, 2054, 1450, 6890, 361, 4099, 4, 255, 6, 1, 5, 1665, 136, 352, 2, 1280, 1172, 1034, 4, 68, 134, 5090, 1262, 14, 64, 216, 3586, 416, 377, 4, 110, 1, 682, 6, 14, 1969, 3, 1, 336, 47, 155, 39, 3, 1, 9645, 2, 1281, 1280, 75, 257, 4, 9, 2, 194, 1, 1, 111, 6299, 331, 32, 16, 9], 1)\n",
            "[(u'nezavisan', 0.879525899887085), (u'istoimen', 0.8521695733070374), (u'\\u0161pijunski', 0.8457143306732178), (u'animiran', 0.840928316116333), (u'igrani', 0.828461766242981), (u'gledan', 0.8255324363708496), (u'dugometra\\u017eni', 0.8210986256599426), (u'b', 0.8204638361930847), (u'them', 0.8091370463371277), (u'maestralan', 0.8060058951377869)]\n",
            "serijal nemoguć misija biti jedan od voljen i žilav akcioni serijal prvi deo brian de palma 1996 biti i dan danas jedan od dobar trenutak u bogat karijera tom cruisa i svatko sebe moći bez velik premišljanje ubrojati u akcioni klasika John woo biti svoj doprinos dati u drugi deo 2000 obogatiti on sa nekoliko spektakularan akcioni sekvenca i prizor uzletanje bel golubica dok biti treći deo 2006 u režija abramsa predstavljati ozbiljan pad poklopiti sebe sa posrtaj u život i karijera slavan sajentolog od četvrti deo sebe biti mnogo očekivati serijal biti delovati istrošiti baš kao i karijera taj cruisa koji već godina ne uspevati da povratiti nekadašnji slava i uspeh taj pre biti uspeh četvrti deo nemoguć misija velik odavno u bioskop biti stići jedan tako ubedljiv akcioni spektakl naravno u pitanje biti ostvarenje koji hteti voleti samoproklamovati intelektualac i zadrt poklonik umetnički film nemoguć misija 4 protokol duh nuditi obilje hipertrofiran akcija koji zadirati u domen naučan fantastika i zaplet koji prevazilaziti okvir zdrav pamet ali upravo biti taj i biti cilj autor zabaviti publika uz obilje eksplozija i akrobacija oskarovac brad bird poznat kao reditelj animiran meg hit mućkalica i neviđen odlično sebe snaći u svoj igrani debi u film sav prštati od akcija a pojedini sekvenca biti režirati sa neosporan umeće i polet koji sebe retko viđati u produkcija ovaj profil istina istrošenost tom cruis biti ovaj puta vidljiv i u fizički aspekt biti lako izigravati akcioni heroj sa gotovo 50 godina ali biti iskoristiti star taktika pa sebe u film pojavljivati atraktivan epizodist koji u dramski zahtevan scena pokrivati glavni glumac engleski komičar simon pegg noć glup mrtvac reprizirati uloga iz treći deo i ovaj puta biti mnogo dobro iskoristiti tu biti o zvezda u uspon jeremy renner katanac za bol zatim pauti patton već videti dok međunarodni glumački podela upotpunjivati šveđanin michael nyqvist muškarac koji mrziti žena Rus Vladimir mashkov i francuskinja léa seydoux ponoć u Pariz zanimljiv biti da biti zaobići ni glumac na prostor na kratak u film moći videti bošnjak miraj Grbić i Hrvat goran navojec parada kontorverza u domaći medij biti raspaliti pominjanje srbin u nekoliko navrat ponovo u svojstvo negativac ali kraj film nuditi prilično ironičan preokret glede srpski učešće u događaj koji biti sebe odigrati između treći i četvrti nemoguć misija u svaki slučaj pominjanje srbin ne trebati previše primati k srce u pitanje biti serijal koji ne pretendovati da biti ozbiljan već postojati samo da biti uzbuditi i zabaviti četvrti deo upravo u taj i uspevati biti biti zaista nerealno tražiti mnogo od taj\n"
          ],
          "name": "stdout"
        }
      ]
    },
    {
      "cell_type": "code",
      "metadata": {
        "id": "LGDSARAuPkWA",
        "colab_type": "code",
        "colab": {}
      },
      "source": [
        "X_train = pad_sequences(tokenizer.texts_to_sequences(data['Xtrain']), maxlen=longest_example)\n",
        "X_tst = pad_sequences(tokenizer.texts_to_sequences(data['Xtst']), maxlen=longest_example)\n",
        "X_val = pad_sequences(tokenizer.texts_to_sequences(data['Xval']), maxlen=longest_example)\n",
        "\n",
        "ytrain = to_categorical(list(map(lambda x: 0 if x == -1 else 1, data['ytrain'])))\n",
        "ytst = to_categorical(list(map(lambda x: 0 if x == -1 else 1, data['ytst'])))\n",
        "yval = to_categorical(list(map(lambda x: 0 if x == -1 else 1, data['yval'])))"
      ],
      "execution_count": 0,
      "outputs": []
    },
    {
      "cell_type": "code",
      "metadata": {
        "id": "K413nxRt8gpT",
        "colab_type": "code",
        "colab": {
          "base_uri": "https://localhost:8080/",
          "height": 34
        },
        "outputId": "e9194826-f373-4859-ed1f-fd4fa4455b9e"
      },
      "source": [
        "embedding_matrix = np.zeros((vocab_size, EMBEDDING_DIM))\n",
        "\n",
        "for word, i in tokenizer.word_index.items():\n",
        "  if i > vocab_size:\n",
        "    continue\n",
        "  embd = wordvectors.get(word)\n",
        "  if embd is not None:\n",
        "    embedding_matrix[i] = embd\n",
        "    \n",
        "print (np.shape(embedding_matrix))"
      ],
      "execution_count": 206,
      "outputs": [
        {
          "output_type": "stream",
          "text": [
            "(47237, 200)\n"
          ],
          "name": "stdout"
        }
      ]
    },
    {
      "cell_type": "code",
      "metadata": {
        "id": "lwKIXKECOPlJ",
        "colab_type": "code",
        "colab": {
          "base_uri": "https://localhost:8080/",
          "height": 255
        },
        "outputId": "65957305-c5b7-433a-962c-7648096e6f0c"
      },
      "source": [
        "model = Sequential()\n",
        "embedding_layer = Embedding(vocab_size, EMBEDDING_DIM, embeddings_initializer=Constant(embedding_matrix), input_length=longest_example, trainable=False)\n",
        "model.add(embedding_layer)\n",
        "# model.add(CuDNNGRU(units=256))\n",
        "# # model.add(Dense(1, activation='elu'))\n",
        "# # model.add(Bidirectional(CuDNNLSTM(256, return_sequences=True)))\n",
        "# model.add(Dropout(0.5))\n",
        "# # model.add(Dense(250, activation='sigmoid'))\n",
        "# model.add(Dense(1, activation='sigmoid'))\n",
        "\n",
        "# model.add(Conv1D(8, 5, activation='relu'))\n",
        "# model.add(MaxPool1D(5))\n",
        "# model.add(Conv1D(32, 5, activation='relu'))\n",
        "# model.add(Dropout(0.5))\n",
        "# model.add(MaxPool1D(5))\n",
        "# model.add(Conv1D(512, 5, activation='relu'))\n",
        "# model.add(Dropout(0.5))\n",
        "# model.add(MaxPool1D(20))\n",
        "\n",
        "# model.add(Flatten())\n",
        "model.add(Bidirectional(CuDNNLSTM(128)))\n",
        "# model.add(Dense(1000, activation='relu'))\n",
        "# model.add(Dense(200, activation='relu'))\n",
        "model.add(Dense(2, activation='softmax'))\n",
        "\n",
        "\n",
        "model.compile(loss='categorical_crossentropy', optimizer='adam', metrics=['acc'])\n",
        "print(model.summary())"
      ],
      "execution_count": 209,
      "outputs": [
        {
          "output_type": "stream",
          "text": [
            "_________________________________________________________________\n",
            "Layer (type)                 Output Shape              Param #   \n",
            "=================================================================\n",
            "embedding_73 (Embedding)     (None, 1831, 200)         9447400   \n",
            "_________________________________________________________________\n",
            "bidirectional_36 (Bidirectio (None, 256)               337920    \n",
            "_________________________________________________________________\n",
            "dense_115 (Dense)            (None, 2)                 514       \n",
            "=================================================================\n",
            "Total params: 9,785,834\n",
            "Trainable params: 338,434\n",
            "Non-trainable params: 9,447,400\n",
            "_________________________________________________________________\n",
            "None\n"
          ],
          "name": "stdout"
        }
      ]
    },
    {
      "cell_type": "code",
      "metadata": {
        "id": "gnt4QtCiUVRp",
        "colab_type": "code",
        "colab": {}
      },
      "source": [
        "with tf.device('/gpu:0'):\n",
        "  model.fit(X_train, ytrain, validation_data=[X_val, yval], epochs=200, batch_size=128, verbose=1)"
      ],
      "execution_count": 0,
      "outputs": []
    },
    {
      "cell_type": "code",
      "metadata": {
        "id": "N6ObM_90iBAC",
        "colab_type": "code",
        "colab": {}
      },
      "source": [
        "print(model.evaluate(X_tst, ytst))"
      ],
      "execution_count": 0,
      "outputs": []
    },
    {
      "cell_type": "markdown",
      "metadata": {
        "colab_type": "text",
        "id": "rOtFEK5Ao1co"
      },
      "source": [
        "#### 3 Class"
      ]
    },
    {
      "cell_type": "code",
      "metadata": {
        "colab_type": "code",
        "outputId": "ce7c41bf-9b0c-445e-fbf2-c7fafadbbd7e",
        "id": "Yzv7-3Ewo1cs",
        "colab": {
          "base_uri": "https://localhost:8080/",
          "height": 71
        }
      },
      "source": [
        "data = list(data3C)\n",
        "\n",
        "EMBEDDING_DIM = 200\n",
        "\n",
        "examples = [x[0] for x in data]\n",
        "\n",
        "model = gensim.models.Word2Vec(sentences=examples, size=EMBEDDING_DIM, window=5, min_count=5, workers=2, iter=10)\n",
        "words = list(model.wv.vocab)\n",
        "print(len(words))\n",
        "print(model.wv.most_similar('dobar'))\n",
        "\n",
        "model.wv.save_word2vec_format('word2vec_3_class.txt')"
      ],
      "execution_count": 177,
      "outputs": [
        {
          "output_type": "stream",
          "text": [
            "14438\n",
            "[(u'lo\\u0161', 0.7349477410316467), (u'redak', 0.6028866171836853), (u'solidan', 0.6008092761039734), (u'genijalan', 0.5859797596931458), (u'vrhunski', 0.5839639902114868), (u'sjajan', 0.561445415019989), (u'kvalitetan', 0.5511797666549683), (u'slab', 0.5476400852203369), (u'ok', 0.5466126799583435), (u'lep', 0.5232743620872498)]\n"
          ],
          "name": "stdout"
        }
      ]
    },
    {
      "cell_type": "code",
      "metadata": {
        "colab_type": "code",
        "id": "vdFc95-ao1c1",
        "colab": {}
      },
      "source": [
        "wordvectors = {}\n",
        "with open('word2vec_3_class.txt') as f:\n",
        "  vocab_size = int(f.readline().split()[0])\n",
        "  \n",
        "  for line in f:\n",
        "    vals = line.split()\n",
        "    wordvectors[vals[0]] = np.asarray(vals[1:], dtype=np.float)"
      ],
      "execution_count": 0,
      "outputs": []
    },
    {
      "cell_type": "code",
      "metadata": {
        "colab_type": "code",
        "outputId": "31a730be-2196-4a50-def7-9f8e80863c68",
        "id": "55MbwE4zo1c4",
        "colab": {
          "base_uri": "https://localhost:8080/",
          "height": 51
        }
      },
      "source": [
        "data = data_3_class.copy()\n",
        "tokenizer = Tokenizer()\n",
        "\n",
        "all_examples = data['Xtrain'] + data['Xtst'] + data['Xval']\n",
        "all_labels = list(map(lambda x: 0 if x == -1 else 1, data['ytrain'] + data['ytst'] + data['yval']))\n",
        "tokenizer.fit_on_texts(all_examples)\n",
        "seq = tokenizer.texts_to_sequences(all_examples)\n",
        "\n",
        "longest_example = max([len(x.split()) for x in all_examples])\n",
        "vocab_size = len(tokenizer.word_index) + 1\n",
        "\n",
        "seq_padded = pad_sequences(seq, maxlen=longest_example)\n",
        "\n",
        "print('Unique tokens', len(tokenizer.word_index))\n",
        "print('padded', seq_padded.shape)\n",
        "# model.fit([x[0] for x in data2C[:5]], [x[1] for x in data2C[:5]], verbose=2)"
      ],
      "execution_count": 179,
      "outputs": [
        {
          "output_type": "stream",
          "text": [
            "('Unique tokens', 58435)\n",
            "('padded', (2523, 1831))\n"
          ],
          "name": "stdout"
        }
      ]
    },
    {
      "cell_type": "code",
      "metadata": {
        "colab_type": "code",
        "outputId": "659bd0fe-5f5b-462b-cdd0-eb9c4ec8e6b2",
        "id": "8yBY7ScOo1c8",
        "colab": {
          "base_uri": "https://localhost:8080/",
          "height": 88
        }
      },
      "source": [
        "print(seq[0], all_labels[0])\n",
        "print(model.wv.most_similar(tokenizer.index_word.items()[1127][1]))\n",
        "print(data['Xtrain'][0])"
      ],
      "execution_count": 180,
      "outputs": [
        {
          "output_type": "stream",
          "text": [
            "([57, 7, 1294, 4682, 28713, 65, 1063, 14424, 390, 138, 5, 938, 741, 9191, 28, 434, 28714, 2061, 7, 439, 28715, 8446, 21006, 72, 442, 17, 1582, 4, 14425, 41, 28716, 14426, 28717, 6, 1, 188, 37, 265, 136, 579, 320, 344, 84, 1, 44, 2, 78, 9192, 4, 4082, 2728, 443, 28718, 4, 17004, 7, 8447, 11, 17, 12572, 19, 124, 5, 98, 25, 33, 28, 970, 14427, 37, 225, 17, 2170, 19, 6, 28, 28719, 1999, 3836, 2134, 2, 445, 9, 9192, 15, 60, 50, 196, 4, 360, 827, 65, 124, 1, 1137, 15, 4508, 38, 6, 1, 3504, 445, 19, 6, 130, 4884, 63, 705, 172, 3, 3120, 23, 1482, 2, 3, 5, 2000, 4, 94, 9192, 1, 374, 7, 25, 396, 8, 36, 733, 55, 1, 14428, 663, 956, 2, 396, 19, 1295, 55, 1, 663, 711, 7, 2, 873, 110, 26, 53, 1, 410, 1900, 3, 28720, 2, 28721, 178, 1005, 4083, 121, 166, 36, 733, 846, 31, 1, 2, 12, 1, 231, 6452, 9192, 21007, 17005, 514, 8, 7, 28, 1968, 18, 1, 8, 23, 183, 207, 2847, 1, 87, 2671, 515, 11, 53, 107, 1718, 4, 415, 29, 25, 11179, 4, 6, 1, 21008, 1198, 15, 5299, 1869, 247, 3, 1, 2848, 46, 1583, 64, 1151, 16, 361, 2, 912, 188, 211, 18, 4, 1969, 13, 115, 716, 2, 2507, 258, 439, 3, 1, 9192, 358, 1, 1614, 189, 3, 1, 2135, 17, 256, 8, 4509, 19, 2, 3, 1, 6081, 1294, 9193, 19, 14, 4885, 28722, 133, 3837, 4, 7, 65, 19, 21009, 1, 9, 2, 330, 34, 851, 68, 75, 5, 10, 1, 419, 1107, 1542, 922, 34, 37, 28723, 92, 2, 35, 14429, 3622, 25, 9, 10, 1, 78, 19, 11180, 309, 91, 3, 5, 1185, 347, 257, 199, 3, 1, 5, 3121, 6879, 9194, 2, 3, 1, 5, 1950, 1034, 62, 6, 302, 3, 1, 239, 2616, 5, 4, 9192, 50, 1542, 92, 1, 1098, 3, 1, 1, 1, 28724, 7317, 2, 11, 16, 9, 2671, 1083, 17, 2912, 16, 5300, 17006, 8, 1099, 90, 14, 39, 46, 116, 1349, 28725, 48, 2, 46, 1464, 556, 9192, 1, 794, 2, 6880, 4683, 4510, 165, 188, 3313, 18, 5, 1272, 2, 898, 2, 1633, 2, 808, 2, 899, 2, 309, 6, 946, 3, 204, 19, 188, 21007, 927, 65, 100, 50, 1901, 898, 50, 1901, 1633, 2, 86, 9, 61, 3, 971, 4, 535, 12573, 309, 101, 809, 3314, 96, 9195, 86, 220, 194, 9196, 21010, 28726, 28727, 2, 28728, 12574, 28, 353, 1791, 11181, 110, 26, 2, 971, 4, 19, 28729, 1826, 4, 104, 782, 24, 3, 962, 17, 1598, 15, 1166, 25, 1792, 28730, 14430, 366, 107, 138, 5, 4684, 2136, 75, 3, 5, 71, 92, 7, 9192, 2616, 199, 10, 1, 50, 1, 154, 2562, 9, 2, 44, 147, 5, 4, 7, 10, 5, 2001, 13, 154, 2562, 2729, 66, 9, 1, 59, 188, 3313, 2, 54, 6082, 66, 2, 19, 2, 11182, 7, 4, 6, 1, 4084, 1482, 2211, 309, 2563, 2, 11183, 2913, 109, 17007, 1260, 590, 3505, 463, 2, 474], 1)\n",
            "[(u'zamisao', 0.723538875579834), (u'sadr\\u017eaj', 0.7115670442581177), (u'standard', 0.6904388666152954), (u'satira', 0.6803022027015686), (u'tematika', 0.6675150394439697), (u'pristup', 0.6614086627960205), (u'osetljiv', 0.6591833829879761), (u'skelet', 0.6582054495811462), (u'analiza', 0.6506574153900146), (u'parodija', 0.6476880311965942)]\n",
            "prvi film rediteljka nicole casell nemati domaći distributerski naslov kad sebe setiti razni maštovitost iz istorija pokrštavanje stran film tip hooperovog easy ridera ovde čuti kao gol u sedlo ili boylovog shallow gravea koji biti kod mi postati mali ubistvo među prijatelj možda biti tako i dobro woodsman u bukvalan prevod značiti šumar u titlo film prevoditi on kao drvoseča a zapravo sebe raditi o lik iz bajka crvenkap mi poznat kao lovac a koji iz vukov stomak vaditi baka i devojčica taj woodsman za tko ni reč u srpski jezik nemati zapravo biti metafora za pedofil onaj koji biti zlostavljati devojčica a koji posle dvanaest godina zatvor pokušavati da prerasti svoj bolest i da sebe uklopiti u svet woodsman biti dakle film o pravo na drugi šansa ako biti zaklet ljubitelj autorski i pravo a pogotovo ako biti ljubitelj žanrovski film i pravda zaista hteti vi biti potreban napor da nazloupotrebljavan i preigran tema seksualan zlostavljanje dete dati drugi šansa evo ja biti i ovaj biti moj izveštaj woodsman casellove strahovito podsećati na film iz sedamdeseti sav biti na svoj mesto autor očito biti nego građanin no on vi ipak bacati u lice priča o hipokrizija u koji biti drušvo kriv za nedelo pojedinac te da biti čika po park malo opasan od braća i tata kod kuća sav u sklad sa takav stav i producentski činjenica tip da biti woodsman prvo biti pozorišni drama da biti nagraditi kao scenario na sundance a i da biti bekgraund rediteljka akademski a ne uobičajiti spotovska prav surovost u film nemati a aristotel biti taj i ti kako voleti jer znati sebe što biti red tragičan krivica ma kako mi omilel junak i njegov prekasan spoznaja o taj što biti dobro a šti zlo morati da sebe platiti glava upravo zato da biti sebe izbeći nužnost kažnjavanje i da biti sebe obezbediti srećan kraj koji pokazivati da biti moguć popraviti sebe u woodsman ni krivica junak biti totalan da biti biti biti katarzično tužno i on od taj građanin bežati kao đavo od krst stereotipno na izvestan način ne samo po glumac kevin baconi već i po nekolicina motiv woodsman biti blizak i eastwoodov mističan reka naravno kod eastwood sav sebe dogoditi i zločin i kazna i greška i tragedija i zlo koji nastavljati da živeti a kod casellove pak nemati ništa ni žestok zločin ni žestok kazna i zbog taj trebati da poverovati u mogućnost zaustavljanje zlo kroz psihološki rešavanje problem uviđanje zbog sjajan gluma kevina bacona kyre sedgwick i mossa def iz grupa black stars zaista hteti i poverovati u a defov pojavljivanje u uloga policajac moći da poslužiti kao inspiracija za razmišljanje o fenomen liberalnost konzervativnost muzika ipak kad sebe sutradan probuditi znati da sebe glavni junak film woodsman popraviti zato što biti ni biti sasvim poremetiti taj i tako kazati sebe u film što sebe događati sa sasvim poremetiti hm pa taj biti videti kod eastwood i još sijaset pa i a i chabrolov film u koji biti duševan bolest slabost zlo laž i đavti večan koliko sublimacija ludilo snaga dobrota istina i bog\n"
          ],
          "name": "stdout"
        }
      ]
    },
    {
      "cell_type": "code",
      "metadata": {
        "colab_type": "code",
        "id": "J7hx9UlEo1dA",
        "colab": {}
      },
      "source": [
        "X_train = pad_sequences(tokenizer.texts_to_sequences(data['Xtrain']), maxlen=longest_example)\n",
        "X_tst = pad_sequences(tokenizer.texts_to_sequences(data['Xtst']), maxlen=longest_example)\n",
        "X_val = pad_sequences(tokenizer.texts_to_sequences(data['Xval']), maxlen=longest_example)\n",
        "\n",
        "ytrain = to_categorical(data['ytrain'], num_classes=3)\n",
        "ytst = to_categorical(data['ytst'], num_classes=3)\n",
        "yval = to_categorical(data['yval'], num_classes=3)"
      ],
      "execution_count": 0,
      "outputs": []
    },
    {
      "cell_type": "code",
      "metadata": {
        "id": "ZqtyeJKqqdXM",
        "colab_type": "code",
        "colab": {}
      },
      "source": [
        "print(np.unique(yval == [0, 0, 1], return_counts=True))\n",
        "for i in yval:\n",
        "  print(i)"
      ],
      "execution_count": 0,
      "outputs": []
    },
    {
      "cell_type": "code",
      "metadata": {
        "colab_type": "code",
        "outputId": "8c00a25b-8b64-4e27-84b7-b4c7a998ad49",
        "id": "dKXVExb8o1dE",
        "colab": {
          "base_uri": "https://localhost:8080/",
          "height": 34
        }
      },
      "source": [
        "embedding_matrix = np.zeros((vocab_size, EMBEDDING_DIM))\n",
        "\n",
        "for word, i in tokenizer.word_index.items():\n",
        "  if i > vocab_size:\n",
        "    continue\n",
        "  embd = wordvectors.get(word)\n",
        "  if embd is not None:\n",
        "    embedding_matrix[i] = embd\n",
        "    \n",
        "print (np.shape(embedding_matrix))"
      ],
      "execution_count": 197,
      "outputs": [
        {
          "output_type": "stream",
          "text": [
            "(58436, 200)\n"
          ],
          "name": "stdout"
        }
      ]
    },
    {
      "cell_type": "code",
      "metadata": {
        "colab_type": "code",
        "id": "SV7l8Ddoo1dJ",
        "colab": {}
      },
      "source": [
        "model = Sequential()\n",
        "embedding_layer = Embedding(vocab_size, EMBEDDING_DIM, embeddings_initializer=Constant(embedding_matrix), input_length=longest_example, trainable=False)\n",
        "model.add(embedding_layer)\n",
        "# model.add(CuDNNGRU(units=256))\n",
        "# # model.add(Dense(1, activation='elu'))\n",
        "# # model.add(Bidirectional(CuDNNLSTM(256, return_sequences=True)))\n",
        "# model.add(Dropout(0.5))\n",
        "# # model.add(Dense(250, activation='sigmoid'))\n",
        "# model.add(Dense(1, activation='sigmoid'))\n",
        "\n",
        "# model.add(Conv1D(8, 5, activation='relu'))\n",
        "# model.add(MaxPool1D(5))\n",
        "# model.add(Conv1D(32, 5, activation='relu'))\n",
        "# model.add(Dropout(0.5))\n",
        "# model.add(MaxPool1D(5))\n",
        "# model.add(Conv1D(512, 5, activation='relu'))\n",
        "# model.add(Dropout(0.5))\n",
        "# model.add(MaxPool1D(20))\n",
        "\n",
        "# model.add(Flatten())\n",
        "model.add(CuDNNLSTM(128))\n",
        "# model.add(Dense(1000, activation='relu'))\n",
        "# model.add(Dense(200, activation='relu'))\n",
        "model.add(Dense(3, activation='softmax'))\n",
        "\n",
        "\n",
        "model.compile(loss='categorical_crossentropy', optimizer='adam', metrics=['acc'])\n",
        "print(model.summary())"
      ],
      "execution_count": 0,
      "outputs": []
    },
    {
      "cell_type": "code",
      "metadata": {
        "colab_type": "code",
        "id": "FON5zJ0Bo1dL",
        "colab": {}
      },
      "source": [
        "with tf.device('/gpu:0'):\n",
        "  model.fit(X_train, ytrain, validation_data=[X_val, yval], epochs=200, batch_size=128, verbose=1)"
      ],
      "execution_count": 0,
      "outputs": []
    },
    {
      "cell_type": "markdown",
      "metadata": {
        "id": "0SkJeM1pjJAn",
        "colab_type": "text"
      },
      "source": [
        "# Other"
      ]
    },
    {
      "cell_type": "code",
      "metadata": {
        "id": "iHBLrA8ZUxdj",
        "colab_type": "code",
        "colab": {}
      },
      "source": [
        ""
      ],
      "execution_count": 0,
      "outputs": []
    }
  ]
}